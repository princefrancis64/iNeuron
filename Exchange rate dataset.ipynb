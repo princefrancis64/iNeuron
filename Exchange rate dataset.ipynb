{
 "cells": [
  {
   "cell_type": "markdown",
   "id": "30040207",
   "metadata": {},
   "source": [
    "# Exchange-Rate Dataset"
   ]
  },
  {
   "cell_type": "code",
   "execution_count": 56,
   "id": "911c88b6",
   "metadata": {},
   "outputs": [],
   "source": [
    "import pandas as pd\n",
    "import numpy as np\n",
    "import matplotlib.pyplot as plt\n",
    "%matplotlib inline\n",
    "from warnings import filterwarnings\n",
    "filterwarnings('ignore')"
   ]
  },
  {
   "cell_type": "code",
   "execution_count": 3,
   "id": "5673ca2d",
   "metadata": {},
   "outputs": [
    {
     "data": {
      "text/html": [
       "<div>\n",
       "<style scoped>\n",
       "    .dataframe tbody tr th:only-of-type {\n",
       "        vertical-align: middle;\n",
       "    }\n",
       "\n",
       "    .dataframe tbody tr th {\n",
       "        vertical-align: top;\n",
       "    }\n",
       "\n",
       "    .dataframe thead th {\n",
       "        text-align: right;\n",
       "    }\n",
       "</style>\n",
       "<table border=\"1\" class=\"dataframe\">\n",
       "  <thead>\n",
       "    <tr style=\"text-align: right;\">\n",
       "      <th></th>\n",
       "      <th>Month</th>\n",
       "      <th>Exchange Rate TWI</th>\n",
       "    </tr>\n",
       "  </thead>\n",
       "  <tbody>\n",
       "    <tr>\n",
       "      <th>0</th>\n",
       "      <td>1</td>\n",
       "      <td>100.0</td>\n",
       "    </tr>\n",
       "    <tr>\n",
       "      <th>1</th>\n",
       "      <td>2</td>\n",
       "      <td>99.6</td>\n",
       "    </tr>\n",
       "    <tr>\n",
       "      <th>2</th>\n",
       "      <td>3</td>\n",
       "      <td>99.4</td>\n",
       "    </tr>\n",
       "    <tr>\n",
       "      <th>3</th>\n",
       "      <td>4</td>\n",
       "      <td>99.1</td>\n",
       "    </tr>\n",
       "    <tr>\n",
       "      <th>4</th>\n",
       "      <td>5</td>\n",
       "      <td>99.2</td>\n",
       "    </tr>\n",
       "  </tbody>\n",
       "</table>\n",
       "</div>"
      ],
      "text/plain": [
       "   Month  Exchange Rate TWI\n",
       "0      1              100.0\n",
       "1      2               99.6\n",
       "2      3               99.4\n",
       "3      4               99.1\n",
       "4      5               99.2"
      ]
     },
     "execution_count": 3,
     "metadata": {},
     "output_type": "execute_result"
    }
   ],
   "source": [
    "df =pd.read_csv('exchange-rate-twi.csv')\n",
    "df.head()"
   ]
  },
  {
   "cell_type": "code",
   "execution_count": 9,
   "id": "6664249a",
   "metadata": {},
   "outputs": [
    {
     "data": {
      "text/html": [
       "<div>\n",
       "<style scoped>\n",
       "    .dataframe tbody tr th:only-of-type {\n",
       "        vertical-align: middle;\n",
       "    }\n",
       "\n",
       "    .dataframe tbody tr th {\n",
       "        vertical-align: top;\n",
       "    }\n",
       "\n",
       "    .dataframe thead th {\n",
       "        text-align: right;\n",
       "    }\n",
       "</style>\n",
       "<table border=\"1\" class=\"dataframe\">\n",
       "  <thead>\n",
       "    <tr style=\"text-align: right;\">\n",
       "      <th></th>\n",
       "      <th>Month</th>\n",
       "      <th>Exchange Rate TWI</th>\n",
       "    </tr>\n",
       "  </thead>\n",
       "  <tbody>\n",
       "    <tr>\n",
       "      <th>299</th>\n",
       "      <td>300</td>\n",
       "      <td>49.6</td>\n",
       "    </tr>\n",
       "    <tr>\n",
       "      <th>300</th>\n",
       "      <td>301</td>\n",
       "      <td>48.5</td>\n",
       "    </tr>\n",
       "    <tr>\n",
       "      <th>301</th>\n",
       "      <td>302</td>\n",
       "      <td>48.4</td>\n",
       "    </tr>\n",
       "    <tr>\n",
       "      <th>302</th>\n",
       "      <td>303</td>\n",
       "      <td>51.0</td>\n",
       "    </tr>\n",
       "    <tr>\n",
       "      <th>303</th>\n",
       "      <td>304</td>\n",
       "      <td>53.9</td>\n",
       "    </tr>\n",
       "  </tbody>\n",
       "</table>\n",
       "</div>"
      ],
      "text/plain": [
       "     Month  Exchange Rate TWI\n",
       "299    300               49.6\n",
       "300    301               48.5\n",
       "301    302               48.4\n",
       "302    303               51.0\n",
       "303    304               53.9"
      ]
     },
     "execution_count": 9,
     "metadata": {},
     "output_type": "execute_result"
    }
   ],
   "source": [
    "df.tail()"
   ]
  },
  {
   "cell_type": "code",
   "execution_count": 4,
   "id": "dda61710",
   "metadata": {},
   "outputs": [
    {
     "name": "stdout",
     "output_type": "stream",
     "text": [
      "<class 'pandas.core.frame.DataFrame'>\n",
      "RangeIndex: 304 entries, 0 to 303\n",
      "Data columns (total 2 columns):\n",
      " #   Column             Non-Null Count  Dtype  \n",
      "---  ------             --------------  -----  \n",
      " 0   Month              304 non-null    int64  \n",
      " 1   Exchange Rate TWI  304 non-null    float64\n",
      "dtypes: float64(1), int64(1)\n",
      "memory usage: 4.9 KB\n"
     ]
    }
   ],
   "source": [
    "df.info()"
   ]
  },
  {
   "cell_type": "code",
   "execution_count": 14,
   "id": "17ec2a76",
   "metadata": {},
   "outputs": [
    {
     "data": {
      "text/plain": [
       "88.33"
      ]
     },
     "execution_count": 14,
     "metadata": {},
     "output_type": "execute_result"
    }
   ],
   "source": [
    "#What will be the forecast of all future values using the Simple average method? \n",
    "#(up to 2 decimal places). Use the first 212 rows as the train data set.\n",
    "round(np.mean(df['Exchange Rate TWI'].iloc[:212]),2)"
   ]
  },
  {
   "cell_type": "code",
   "execution_count": 16,
   "id": "d812f300",
   "metadata": {},
   "outputs": [
    {
     "data": {
      "text/plain": [
       "0    100.0\n",
       "1     99.6\n",
       "2     99.4\n",
       "3     99.1\n",
       "4     99.2\n",
       "Name: Exchange Rate TWI, dtype: float64"
      ]
     },
     "execution_count": 16,
     "metadata": {},
     "output_type": "execute_result"
    }
   ],
   "source": [
    "#making up a train data \n",
    "train=df['Exchange Rate TWI'].iloc[:212]\n",
    "train.head()"
   ]
  },
  {
   "cell_type": "code",
   "execution_count": 19,
   "id": "c093934d",
   "metadata": {},
   "outputs": [
    {
     "data": {
      "text/plain": [
       "211    52.0\n",
       "Name: Exchange Rate TWI, dtype: float64"
      ]
     },
     "execution_count": 19,
     "metadata": {},
     "output_type": "execute_result"
    }
   ],
   "source": [
    "#What will be the forecast of all future values using the Naive method? Use the first 212 rows as the train data set.\n",
    "train[-1:]"
   ]
  },
  {
   "cell_type": "code",
   "execution_count": 20,
   "id": "0917b99a",
   "metadata": {},
   "outputs": [
    {
     "data": {
      "text/html": [
       "<div>\n",
       "<style scoped>\n",
       "    .dataframe tbody tr th:only-of-type {\n",
       "        vertical-align: middle;\n",
       "    }\n",
       "\n",
       "    .dataframe tbody tr th {\n",
       "        vertical-align: top;\n",
       "    }\n",
       "\n",
       "    .dataframe thead th {\n",
       "        text-align: right;\n",
       "    }\n",
       "</style>\n",
       "<table border=\"1\" class=\"dataframe\">\n",
       "  <thead>\n",
       "    <tr style=\"text-align: right;\">\n",
       "      <th></th>\n",
       "      <th>Month</th>\n",
       "      <th>Exchange Rate TWI</th>\n",
       "    </tr>\n",
       "  </thead>\n",
       "  <tbody>\n",
       "    <tr>\n",
       "      <th>212</th>\n",
       "      <td>213</td>\n",
       "      <td>52.5</td>\n",
       "    </tr>\n",
       "    <tr>\n",
       "      <th>213</th>\n",
       "      <td>214</td>\n",
       "      <td>53.1</td>\n",
       "    </tr>\n",
       "    <tr>\n",
       "      <th>214</th>\n",
       "      <td>215</td>\n",
       "      <td>53.8</td>\n",
       "    </tr>\n",
       "    <tr>\n",
       "      <th>215</th>\n",
       "      <td>216</td>\n",
       "      <td>55.2</td>\n",
       "    </tr>\n",
       "    <tr>\n",
       "      <th>216</th>\n",
       "      <td>217</td>\n",
       "      <td>58.9</td>\n",
       "    </tr>\n",
       "  </tbody>\n",
       "</table>\n",
       "</div>"
      ],
      "text/plain": [
       "     Month  Exchange Rate TWI\n",
       "212    213               52.5\n",
       "213    214               53.1\n",
       "214    215               53.8\n",
       "215    216               55.2\n",
       "216    217               58.9"
      ]
     },
     "execution_count": 20,
     "metadata": {},
     "output_type": "execute_result"
    }
   ],
   "source": [
    "#What is the RMSE and MAPE values of the Simple Average Forecasting forecasting method? Use the first 212 rows as the train data set.\n",
    "test = df[212:]\n",
    "test.head()"
   ]
  },
  {
   "cell_type": "code",
   "execution_count": 24,
   "id": "c3b98929",
   "metadata": {},
   "outputs": [],
   "source": [
    "#simple average method\n",
    "y_hat_average = test.copy()\n",
    "y_hat_average['average_forecast'] = np.mean(train)"
   ]
  },
  {
   "cell_type": "code",
   "execution_count": 29,
   "id": "3d546db2",
   "metadata": {},
   "outputs": [
    {
     "data": {
      "image/png": "[encoded data removed]",
      "text/plain": [
       "<Figure size 1200x400 with 1 Axes>"
      ]
     },
     "metadata": {},
     "output_type": "display_data"
    }
   ],
   "source": [
    "#plotting the graph\n",
    "plt.figure(figsize=(12,4))\n",
    "plt.plot(train,label='Train')\n",
    "plt.plot(y_hat_average['average_forecast'],label='simple_average_forecast')\n",
    "plt.plot(test['Exchange Rate TWI'],label='Test')\n",
    "plt.title('Simple Average Method')\n",
    "plt.legend(loc='best')\n",
    "plt.show(block=False)"
   ]
  },
  {
   "cell_type": "code",
   "execution_count": 36,
   "id": "9d5a1edf",
   "metadata": {},
   "outputs": [
    {
     "name": "stdout",
     "output_type": "stream",
     "text": [
      "RMSE: 32.41792673296435\n",
      "MAPE: 58.11716235655414\n"
     ]
    }
   ],
   "source": [
    "#Calculating the RMSE and MAPE of the simple average method\n",
    "from sklearn.metrics import mean_squared_error\n",
    "rmse = np.sqrt(mean_squared_error(test['Exchange Rate TWI'],y_hat_average['average_forecast']))\n",
    "mape=np.mean((np.abs(test['Exchange Rate TWI']-y_hat_average['average_forecast']))/test['Exchange Rate TWI']*100)\n",
    "print(\"RMSE:\",rmse)\n",
    "print(\"MAPE:\",mape)"
   ]
  },
  {
   "cell_type": "code",
   "execution_count": 48,
   "id": "13ed9afb",
   "metadata": {},
   "outputs": [
    {
     "data": {
      "image/png": "[encoded data removed]",
      "text/plain": [
       "<Figure size 1200x400 with 1 Axes>"
      ]
     },
     "metadata": {},
     "output_type": "display_data"
    }
   ],
   "source": [
    "#plotting the naive method also to check the performance\n",
    "y_hat_naive=test.copy()\n",
    "y_hat_naive['naive_forecast'] = train.iloc[-1]\n",
    "plt.figure(figsize=(12,4))\n",
    "plt.plot(train,label='Train')\n",
    "plt.plot(test['Exchange Rate TWI'],label='test')\n",
    "plt.plot(y_hat_naive['naive_forecast'],label='Naive Forecast')\n",
    "plt.title('Naive Forecast')\n",
    "plt.legend(loc='best')\n",
    "plt.show()"
   ]
  },
  {
   "cell_type": "markdown",
   "id": "234fa480",
   "metadata": {},
   "source": [
    "- Since the simple average is overforecasting the values we can choose naive forecast to be the best here."
   ]
  },
  {
   "cell_type": "code",
   "execution_count": 50,
   "id": "9ea449ae",
   "metadata": {},
   "outputs": [
    {
     "name": "stdout",
     "output_type": "stream",
     "text": [
      "RMSE: 5.983755182739057\n",
      "MAPE: 8.406052283180601\n"
     ]
    }
   ],
   "source": [
    "## Lets compare the rmse and mape for the naive forecast also\n",
    "rmse = np.sqrt(mean_squared_error(test['Exchange Rate TWI'],y_hat_naive['naive_forecast']))\n",
    "mape = np.mean(np.abs(test['Exchange Rate TWI']-y_hat_naive['naive_forecast'])/test['Exchange Rate TWI']*100)\n",
    "print(\"RMSE:\",rmse)\n",
    "print(\"MAPE:\",mape)"
   ]
  },
  {
   "cell_type": "markdown",
   "id": "2835da91",
   "metadata": {},
   "source": [
    "- By comparing both the rmse and mape values we can see that for the naive method it is significantly lower in comparison to that of the simple average method."
   ]
  },
  {
   "cell_type": "code",
   "execution_count": 51,
   "id": "bec60083",
   "metadata": {},
   "outputs": [
    {
     "data": {
      "text/plain": [
       "91.5939477168194"
      ]
     },
     "execution_count": 51,
     "metadata": {},
     "output_type": "execute_result"
    }
   ],
   "source": [
    "# What is the accuracy of Naive forecasting method? Use the first 212 rows as the train data set.\n",
    "#Hint: Accuracy=1-MAPE\n",
    "Accuracy = 100-mape\n",
    "Accuracy"
   ]
  },
  {
   "cell_type": "code",
   "execution_count": 53,
   "id": "e15b7bce",
   "metadata": {},
   "outputs": [
    {
     "data": {
      "text/plain": [
       "(212,)"
      ]
     },
     "execution_count": 53,
     "metadata": {},
     "output_type": "execute_result"
    }
   ],
   "source": [
    "train.shape"
   ]
  },
  {
   "cell_type": "markdown",
   "id": "053bd70a",
   "metadata": {},
   "source": [
    "### Simple moving average"
   ]
  },
  {
   "cell_type": "code",
   "execution_count": 57,
   "id": "5b87f716",
   "metadata": {},
   "outputs": [],
   "source": [
    "y_hat_sma = df.copy()\n",
    "y_hat_sma['sma_forecast'] = df['Exchange Rate TWI'].rolling(12).mean()\n",
    "y_hat_sma['sma_forecast'][212:] = y_hat_sma['sma_forecast'][211]"
   ]
  },
  {
   "cell_type": "code",
   "execution_count": 64,
   "id": "87cd3701",
   "metadata": {},
   "outputs": [
    {
     "name": "stdout",
     "output_type": "stream",
     "text": [
      "RMSE: 4.661162968336478\n",
      "MAPE: 6.96\n"
     ]
    }
   ],
   "source": [
    "rmse = np.sqrt(mean_squared_error(test['Exchange Rate TWI'],y_hat_sma['sma_forecast'][212:]))\n",
    "mape = round(np.mean((np.abs(test['Exchange Rate TWI']-y_hat_sma['sma_forecast'][212:]))/test['Exchange Rate TWI']*100),2)\n",
    "print('RMSE:',rmse)\n",
    "print('MAPE:',mape)"
   ]
  },
  {
   "cell_type": "code",
   "execution_count": 65,
   "id": "dffe7027",
   "metadata": {},
   "outputs": [],
   "source": [
    "#Implement the Simple Moving Average forecasting method and answer the following questions. Use the first 212 rows as train data for each question in this section.\n",
    "\n",
    "#What is the RMSE and MAPE value for a 6 months window?\n",
    "y_hat_sma = df.copy()\n",
    "y_hat_sma['sma_forecast'] = df['Exchange Rate TWI'].rolling(6).mean()\n",
    "y_hat_sma['sma_forecast'][212:] = y_hat_sma['sma_forecast'][211]"
   ]
  },
  {
   "cell_type": "code",
   "execution_count": 66,
   "id": "3ed99781",
   "metadata": {},
   "outputs": [
    {
     "name": "stdout",
     "output_type": "stream",
     "text": [
      "RMSE: 4.903110764512882\n",
      "MAPE: 7.13\n"
     ]
    }
   ],
   "source": [
    "rmse = np.sqrt(mean_squared_error(test['Exchange Rate TWI'],y_hat_sma['sma_forecast'][212:]))\n",
    "mape = round(np.mean((np.abs(test['Exchange Rate TWI']-y_hat_sma['sma_forecast'][212:]))/test['Exchange Rate TWI']*100),2)\n",
    "print('RMSE:',rmse)\n",
    "print('MAPE:',mape)"
   ]
  },
  {
   "cell_type": "code",
   "execution_count": 67,
   "id": "7770807f",
   "metadata": {},
   "outputs": [
    {
     "name": "stdout",
     "output_type": "stream",
     "text": [
      "RMSE: 5.983755182739057\n",
      "MAPE: 8.41\n"
     ]
    }
   ],
   "source": [
    "#moving average window 3\n",
    "y_hat_sma = df.copy()\n",
    "y_hat_sma['sma_forecast'] = df['Exchange Rate TWI'].rolling(3).mean()\n",
    "y_hat_sma['sma_forecast'][212:] = y_hat_sma['sma_forecast'][211]\n",
    "rmse = np.sqrt(mean_squared_error(test['Exchange Rate TWI'],y_hat_sma['sma_forecast'][212:]))\n",
    "mape = round(np.mean((np.abs(test['Exchange Rate TWI']-y_hat_sma['sma_forecast'][212:]))/test['Exchange Rate TWI']*100),2)\n",
    "print('RMSE:',rmse)\n",
    "print('MAPE:',mape)"
   ]
  },
  {
   "cell_type": "markdown",
   "id": "70fb08fd",
   "metadata": {},
   "source": [
    "### ADF test"
   ]
  },
  {
   "cell_type": "code",
   "execution_count": 71,
   "id": "cb6ebec5",
   "metadata": {},
   "outputs": [
    {
     "name": "stdout",
     "output_type": "stream",
     "text": [
      "ADF_statistic -0.805468:\n",
      "Critical value @0.05:-2.87\n",
      "p-value :0.818\n"
     ]
    }
   ],
   "source": [
    "from statsmodels.tsa.stattools import adfuller\n",
    "adf_test = adfuller(df['Exchange Rate TWI'])\n",
    "\n",
    "print('ADF_statistic %f:'%adf_test[0])\n",
    "print('Critical value @0.05:%0.2f' %adf_test[4]['5%'])\n",
    "print('p-value :%0.3f' %adf_test[1])"
   ]
  },
  {
   "cell_type": "markdown",
   "id": "085f8480",
   "metadata": {},
   "source": [
    "- Comparing the p value we fail to reject the null hypothesis. The time series is not stationary."
   ]
  },
  {
   "cell_type": "markdown",
   "id": "73d3f97d",
   "metadata": {},
   "source": [
    "### KPSS test"
   ]
  },
  {
   "cell_type": "code",
   "execution_count": 79,
   "id": "3dd8db25",
   "metadata": {},
   "outputs": [
    {
     "name": "stdout",
     "output_type": "stream",
     "text": [
      "KPSS-statistic:2.614\n",
      "Critical_value @0.05:0.463\n",
      "p-value: 0.010\n"
     ]
    }
   ],
   "source": [
    "from statsmodels.tsa.stattools import kpss\n",
    "kpss_test = kpss(df['Exchange Rate TWI'])\n",
    "\n",
    "print('KPSS-statistic:%0.3f'%kpss_test[0])\n",
    "print('Critical_value @0.05:%0.3f' %kpss_test[3]['5%'])\n",
    "print('p-value: %.3f' %kpss_test[1])"
   ]
  },
  {
   "cell_type": "markdown",
   "id": "1e1627c8",
   "metadata": {},
   "source": [
    "- Comparing the p value we see that we reject the null hypothesis and the time series is not stationary."
   ]
  },
  {
   "cell_type": "markdown",
   "id": "5ffc9b44",
   "metadata": {},
   "source": [
    "### Box Cox Transformation"
   ]
  },
  {
   "cell_type": "code",
   "execution_count": null,
   "id": "9a52265b",
   "metadata": {},
   "outputs": [],
   "source": []
  }
 ],
 "metadata": {
  "kernelspec": {
   "display_name": "Python 3 (ipykernel)",
   "language": "python",
   "name": "python3"
  },
  "language_info": {
   "codemirror_mode": {
    "name": "ipython",
    "version": 3
   },
   "file_extension": ".py",
   "mimetype": "text/x-python",
   "name": "python",
   "nbconvert_exporter": "python",
   "pygments_lexer": "ipython3",
   "version": "3.10.9"
  }
 },
 "nbformat": 4,
 "nbformat_minor": 5
}
