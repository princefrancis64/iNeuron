{
 "cells": [
  {
   "cell_type": "code",
   "execution_count": 14,
   "id": "95625c12",
   "metadata": {},
   "outputs": [],
   "source": [
    "#importing libraries\n",
    "import pandas as pd\n",
    "import numpy as np\n",
    "import matplotlib.pyplot as plt\n",
    "%matplotlib inline\n",
    "from warnings import filterwarnings\n",
    "filterwarnings('ignore')"
   ]
  },
  {
   "cell_type": "code",
   "execution_count": 15,
   "id": "e980cb9e",
   "metadata": {},
   "outputs": [
    {
     "data": {
      "text/html": [
       "<div>\n",
       "<style scoped>\n",
       "    .dataframe tbody tr th:only-of-type {\n",
       "        vertical-align: middle;\n",
       "    }\n",
       "\n",
       "    .dataframe tbody tr th {\n",
       "        vertical-align: top;\n",
       "    }\n",
       "\n",
       "    .dataframe thead th {\n",
       "        text-align: right;\n",
       "    }\n",
       "</style>\n",
       "<table border=\"1\" class=\"dataframe\">\n",
       "  <thead>\n",
       "    <tr style=\"text-align: right;\">\n",
       "      <th></th>\n",
       "      <th>Month</th>\n",
       "      <th>Sales</th>\n",
       "    </tr>\n",
       "  </thead>\n",
       "  <tbody>\n",
       "    <tr>\n",
       "      <th>0</th>\n",
       "      <td>1980-01</td>\n",
       "      <td>154</td>\n",
       "    </tr>\n",
       "    <tr>\n",
       "      <th>1</th>\n",
       "      <td>1980-02</td>\n",
       "      <td>96</td>\n",
       "    </tr>\n",
       "    <tr>\n",
       "      <th>2</th>\n",
       "      <td>1980-03</td>\n",
       "      <td>73</td>\n",
       "    </tr>\n",
       "    <tr>\n",
       "      <th>3</th>\n",
       "      <td>1980-04</td>\n",
       "      <td>49</td>\n",
       "    </tr>\n",
       "    <tr>\n",
       "      <th>4</th>\n",
       "      <td>1980-05</td>\n",
       "      <td>36</td>\n",
       "    </tr>\n",
       "  </tbody>\n",
       "</table>\n",
       "</div>"
      ],
      "text/plain": [
       "     Month  Sales\n",
       "0  1980-01    154\n",
       "1  1980-02     96\n",
       "2  1980-03     73\n",
       "3  1980-04     49\n",
       "4  1980-05     36"
      ]
     },
     "execution_count": 15,
     "metadata": {},
     "output_type": "execute_result"
    }
   ],
   "source": [
    "df= pd.read_csv('sales-data.csv',header=None,names=['Month','Sales'])\n",
    "df.head()"
   ]
  },
  {
   "cell_type": "code",
   "execution_count": 17,
   "id": "80625b64",
   "metadata": {},
   "outputs": [],
   "source": [
    "df['Month'] = pd.to_datetime(df['Month'],format='%Y-%m')\n",
    "df.set_index('Month',inplace=True)"
   ]
  },
  {
   "cell_type": "code",
   "execution_count": 18,
   "id": "1560565a",
   "metadata": {},
   "outputs": [
    {
     "data": {
      "text/html": [
       "<div>\n",
       "<style scoped>\n",
       "    .dataframe tbody tr th:only-of-type {\n",
       "        vertical-align: middle;\n",
       "    }\n",
       "\n",
       "    .dataframe tbody tr th {\n",
       "        vertical-align: top;\n",
       "    }\n",
       "\n",
       "    .dataframe thead th {\n",
       "        text-align: right;\n",
       "    }\n",
       "</style>\n",
       "<table border=\"1\" class=\"dataframe\">\n",
       "  <thead>\n",
       "    <tr style=\"text-align: right;\">\n",
       "      <th></th>\n",
       "      <th>Sales</th>\n",
       "    </tr>\n",
       "    <tr>\n",
       "      <th>Month</th>\n",
       "      <th></th>\n",
       "    </tr>\n",
       "  </thead>\n",
       "  <tbody>\n",
       "    <tr>\n",
       "      <th>1980-01-01</th>\n",
       "      <td>154</td>\n",
       "    </tr>\n",
       "    <tr>\n",
       "      <th>1980-02-01</th>\n",
       "      <td>96</td>\n",
       "    </tr>\n",
       "    <tr>\n",
       "      <th>1980-03-01</th>\n",
       "      <td>73</td>\n",
       "    </tr>\n",
       "    <tr>\n",
       "      <th>1980-04-01</th>\n",
       "      <td>49</td>\n",
       "    </tr>\n",
       "    <tr>\n",
       "      <th>1980-05-01</th>\n",
       "      <td>36</td>\n",
       "    </tr>\n",
       "  </tbody>\n",
       "</table>\n",
       "</div>"
      ],
      "text/plain": [
       "            Sales\n",
       "Month            \n",
       "1980-01-01    154\n",
       "1980-02-01     96\n",
       "1980-03-01     73\n",
       "1980-04-01     49\n",
       "1980-05-01     36"
      ]
     },
     "execution_count": 18,
     "metadata": {},
     "output_type": "execute_result"
    }
   ],
   "source": [
    "df.head()"
   ]
  },
  {
   "cell_type": "code",
   "execution_count": 19,
   "id": "4c80ade1",
   "metadata": {},
   "outputs": [],
   "source": [
    "train_len=60\n",
    "train = df[:train_len]\n",
    "test = df[train_len:]"
   ]
  },
  {
   "cell_type": "markdown",
   "id": "bcca3741",
   "metadata": {},
   "source": [
    "### Box cox transformation"
   ]
  },
  {
   "cell_type": "code",
   "execution_count": 20,
   "id": "0ad67d8e",
   "metadata": {},
   "outputs": [],
   "source": [
    "from scipy.stats import boxcox\n",
    "df_boxcox= pd.Series(boxcox(df['Sales'],lmbda=0),index=df.index)"
   ]
  },
  {
   "cell_type": "code",
   "execution_count": 73,
   "id": "59d85da6",
   "metadata": {},
   "outputs": [],
   "source": [
    "train_df_boxcox = df_boxcox[:train_len]\n",
    "test_df_boxcox = df_boxcox[train_len:]"
   ]
  },
  {
   "cell_type": "markdown",
   "id": "12fff958",
   "metadata": {},
   "source": [
    "### First differencing"
   ]
  },
  {
   "cell_type": "code",
   "execution_count": 21,
   "id": "794849c7",
   "metadata": {},
   "outputs": [],
   "source": [
    "df_boxcox_diff = pd.Series(df_boxcox - df_boxcox.shift(),index = df.index)\n",
    "df_boxcox_diff.dropna(inplace=True)"
   ]
  },
  {
   "cell_type": "code",
   "execution_count": 22,
   "id": "9e5c84d5",
   "metadata": {},
   "outputs": [
    {
     "data": {
      "text/plain": [
       "Month\n",
       "1980-02-01   -0.472604\n",
       "1980-03-01   -0.273889\n",
       "1980-04-01   -0.398639\n",
       "1980-05-01   -0.308301\n",
       "1980-06-01    0.494019\n",
       "                ...   \n",
       "1986-01-01   -0.055742\n",
       "1986-02-01   -0.712440\n",
       "1986-03-01    0.050644\n",
       "1986-04-01   -0.267315\n",
       "1986-05-01    0.092373\n",
       "Length: 76, dtype: float64"
      ]
     },
     "execution_count": 22,
     "metadata": {},
     "output_type": "execute_result"
    }
   ],
   "source": [
    "df_boxcox_diff"
   ]
  },
  {
   "cell_type": "code",
   "execution_count": 23,
   "id": "b8e84071",
   "metadata": {},
   "outputs": [],
   "source": [
    "train_boxcox_diff = df_boxcox_diff[:train_len-1]\n",
    "test_boxcox_diff = df_boxcox_diff[train_len-1:]"
   ]
  },
  {
   "cell_type": "markdown",
   "id": "bfab1bf5",
   "metadata": {},
   "source": [
    "### Auto Regression(AR) model "
   ]
  },
  {
   "cell_type": "code",
   "execution_count": 24,
   "id": "4065db04",
   "metadata": {},
   "outputs": [
    {
     "name": "stdout",
     "output_type": "stream",
     "text": [
      "const     0.021115\n",
      "ar.L1    -0.430993\n",
      "ar.L2     0.027240\n",
      "ar.L3    -0.104778\n",
      "ar.L4    -0.113528\n",
      "ar.L5    -0.375331\n",
      "ar.L6    -0.327879\n",
      "ar.L7    -0.496533\n",
      "ar.L8    -0.361045\n",
      "sigma2    0.032236\n",
      "dtype: float64\n"
     ]
    }
   ],
   "source": [
    "from statsmodels.tsa.arima.model import ARIMA\n",
    "model = ARIMA(train_boxcox_diff,order = (8,0,0))\n",
    "model_fit = model.fit()\n",
    "print(model_fit.params)"
   ]
  },
  {
   "cell_type": "markdown",
   "id": "c6fbfeca",
   "metadata": {},
   "source": [
    "### Recover original time series forecast"
   ]
  },
  {
   "cell_type": "code",
   "execution_count": 35,
   "id": "0188380b",
   "metadata": {},
   "outputs": [
    {
     "data": {
      "text/plain": [
       "1980-02-01    157.286350\n",
       "1980-03-01    134.180635\n",
       "1980-04-01    107.949169\n",
       "1980-05-01    101.292148\n",
       "1980-06-01     97.509718\n",
       "                 ...    \n",
       "1986-01-01    907.418177\n",
       "1986-02-01    688.813636\n",
       "1986-03-01    528.696270\n",
       "1986-04-01    443.868667\n",
       "1986-05-01    419.115627\n",
       "Freq: MS, Name: predicted_mean, Length: 76, dtype: float64"
      ]
     },
     "execution_count": 35,
     "metadata": {},
     "output_type": "execute_result"
    }
   ],
   "source": [
    "y_hat_ar = df_boxcox_diff.copy()\n",
    "y_hat_ar['ar_boxcox_diff'] = model_fit.predict(df_boxcox_diff.index.min(),df_boxcox_diff.index.max())\n",
    "y_hat_ar['ar_boxcox'] = y_hat_ar['ar_boxcox_diff'].cumsum()\n",
    "y_hat_ar['ar_boxcox'] = y_hat_ar['ar_boxcox'].add(df_boxcox[0])\n",
    "## Inverse boxcox\n",
    "from scipy.special import inv_boxcox\n",
    "y_hat_ar['ar_boxcox'] = inv_boxcox(y_hat_ar['ar_boxcox'],0)\n",
    "y_hat_ar['ar_boxcox']"
   ]
  },
  {
   "cell_type": "code",
   "execution_count": 36,
   "id": "bbf65672",
   "metadata": {},
   "outputs": [
    {
     "data": {
      "text/html": [
       "<div>\n",
       "<style scoped>\n",
       "    .dataframe tbody tr th:only-of-type {\n",
       "        vertical-align: middle;\n",
       "    }\n",
       "\n",
       "    .dataframe tbody tr th {\n",
       "        vertical-align: top;\n",
       "    }\n",
       "\n",
       "    .dataframe thead th {\n",
       "        text-align: right;\n",
       "    }\n",
       "</style>\n",
       "<table border=\"1\" class=\"dataframe\">\n",
       "  <thead>\n",
       "    <tr style=\"text-align: right;\">\n",
       "      <th></th>\n",
       "      <th>Sales</th>\n",
       "    </tr>\n",
       "    <tr>\n",
       "      <th>Month</th>\n",
       "      <th></th>\n",
       "    </tr>\n",
       "  </thead>\n",
       "  <tbody>\n",
       "    <tr>\n",
       "      <th>1980-01-01</th>\n",
       "      <td>154</td>\n",
       "    </tr>\n",
       "    <tr>\n",
       "      <th>1980-02-01</th>\n",
       "      <td>96</td>\n",
       "    </tr>\n",
       "    <tr>\n",
       "      <th>1980-03-01</th>\n",
       "      <td>73</td>\n",
       "    </tr>\n",
       "    <tr>\n",
       "      <th>1980-04-01</th>\n",
       "      <td>49</td>\n",
       "    </tr>\n",
       "    <tr>\n",
       "      <th>1980-05-01</th>\n",
       "      <td>36</td>\n",
       "    </tr>\n",
       "    <tr>\n",
       "      <th>...</th>\n",
       "      <td>...</td>\n",
       "    </tr>\n",
       "    <tr>\n",
       "      <th>1986-01-01</th>\n",
       "      <td>628</td>\n",
       "    </tr>\n",
       "    <tr>\n",
       "      <th>1986-02-01</th>\n",
       "      <td>308</td>\n",
       "    </tr>\n",
       "    <tr>\n",
       "      <th>1986-03-01</th>\n",
       "      <td>324</td>\n",
       "    </tr>\n",
       "    <tr>\n",
       "      <th>1986-04-01</th>\n",
       "      <td>248</td>\n",
       "    </tr>\n",
       "    <tr>\n",
       "      <th>1986-05-01</th>\n",
       "      <td>272</td>\n",
       "    </tr>\n",
       "  </tbody>\n",
       "</table>\n",
       "<p>77 rows × 1 columns</p>\n",
       "</div>"
      ],
      "text/plain": [
       "            Sales\n",
       "Month            \n",
       "1980-01-01    154\n",
       "1980-02-01     96\n",
       "1980-03-01     73\n",
       "1980-04-01     49\n",
       "1980-05-01     36\n",
       "...           ...\n",
       "1986-01-01    628\n",
       "1986-02-01    308\n",
       "1986-03-01    324\n",
       "1986-04-01    248\n",
       "1986-05-01    272\n",
       "\n",
       "[77 rows x 1 columns]"
      ]
     },
     "execution_count": 36,
     "metadata": {},
     "output_type": "execute_result"
    }
   ],
   "source": [
    "df"
   ]
  },
  {
   "cell_type": "code",
   "execution_count": 39,
   "id": "4542dfb1",
   "metadata": {},
   "outputs": [
    {
     "name": "stdout",
     "output_type": "stream",
     "text": [
      "212.74 47.05\n"
     ]
    }
   ],
   "source": [
    "## Checking out the rmse and mape\n",
    "from sklearn.metrics import mean_squared_error\n",
    "rmse  = round(np.sqrt(mean_squared_error(test['Sales'],y_hat_ar['ar_boxcox'][test.index.min():])),2)\n",
    "mape = round(np.mean((np.abs(test['Sales']-y_hat_ar['ar_boxcox'][test.index.min():]))/test['Sales']*100),2)\n",
    "print(rmse,mape)"
   ]
  },
  {
   "cell_type": "markdown",
   "id": "6670f4be",
   "metadata": {},
   "source": [
    "### Moving Average(MA) model"
   ]
  },
  {
   "cell_type": "code",
   "execution_count": 40,
   "id": "cedf3105",
   "metadata": {},
   "outputs": [
    {
     "name": "stdout",
     "output_type": "stream",
     "text": [
      "const     0.025926\n",
      "ma.L1    -0.125552\n",
      "ma.L2    -0.285459\n",
      "ma.L3    -0.588185\n",
      "sigma2    0.094206\n",
      "dtype: float64\n"
     ]
    }
   ],
   "source": [
    "from statsmodels.tsa.arima.model import ARIMA\n",
    "model = ARIMA(train_boxcox_diff,order = (0,0,3))\n",
    "model_fit = model.fit()\n",
    "print(model_fit.params)"
   ]
  },
  {
   "cell_type": "markdown",
   "id": "164b89ed",
   "metadata": {},
   "source": [
    "### Recover original time series forecast data"
   ]
  },
  {
   "cell_type": "code",
   "execution_count": 47,
   "id": "c9102cb4",
   "metadata": {},
   "outputs": [],
   "source": [
    "y_hat_ma = df_boxcox_diff.copy()\n",
    "y_hat_ma['ma_boxcox_diff'] = model_fit.predict(df_boxcox_diff.index.min(),df_boxcox_diff.index.max())\n",
    "y_hat_ma['ma_boxcox_diff'] = y_hat_ma['ma_boxcox_diff'].cumsum()\n",
    "y_hat_ma['ma_boxcox'] = y_hat_ma['ma_boxcox_diff'].add(df_boxcox[0])\n",
    "##inv boxcox\n",
    "y_hat_ma['ma_forecast'] = inv_boxcox(y_hat_ma['ma_boxcox'],0)"
   ]
  },
  {
   "cell_type": "code",
   "execution_count": 48,
   "id": "fd465f0a",
   "metadata": {},
   "outputs": [
    {
     "name": "stdout",
     "output_type": "stream",
     "text": [
      "830.6 238.99\n"
     ]
    }
   ],
   "source": [
    "## Checking out the rmse and mape\n",
    "from sklearn.metrics import mean_squared_error\n",
    "rmse  = round(np.sqrt(mean_squared_error(test['Sales'],y_hat_ma['ma_forecast'][test.index.min():])),2)\n",
    "mape = round(np.mean((np.abs(test['Sales']-y_hat_ma['ma_forecast'][test.index.min():]))/test['Sales']*100),2)\n",
    "print(rmse,mape)"
   ]
  },
  {
   "cell_type": "markdown",
   "id": "26148539",
   "metadata": {},
   "source": [
    "### ARMA Method"
   ]
  },
  {
   "cell_type": "code",
   "execution_count": 49,
   "id": "80d72a95",
   "metadata": {},
   "outputs": [
    {
     "name": "stdout",
     "output_type": "stream",
     "text": [
      "const     0.019250\n",
      "ar.L1     0.256620\n",
      "ar.L2     1.048790\n",
      "ar.L3    -0.605033\n",
      "ar.L4    -0.491620\n",
      "ma.L1    -0.760580\n",
      "ma.L2    -0.668140\n",
      "ma.L3     0.757117\n",
      "sigma2    0.033200\n",
      "dtype: float64\n"
     ]
    }
   ],
   "source": [
    "model= ARIMA(df_boxcox_diff,order =(4,0,3))\n",
    "model_fit = model.fit()\n",
    "print(model_fit.params)"
   ]
  },
  {
   "cell_type": "code",
   "execution_count": 51,
   "id": "b85e83b9",
   "metadata": {},
   "outputs": [],
   "source": [
    "#Recovering the original time series format\n",
    "y_hat_arma = df_boxcox_diff.copy()\n",
    "y_hat_arma['arma_boxcox_diff'] = model_fit.predict(df_boxcox_diff.index.min(),df_boxcox_diff.index.max())\n",
    "y_hat_arma['arma_boxcox'] = y_hat_arma['arma_boxcox_diff'].cumsum()\n",
    "y_hat_arma['arma_boxcox'] = y_hat_arma['arma_boxcox'].add(df_boxcox[0])\n",
    "y_hat_arma['arma_forecast'] = inv_boxcox(y_hat_arma['arma_boxcox'],0.2)"
   ]
  },
  {
   "cell_type": "code",
   "execution_count": 58,
   "id": "e66214a3",
   "metadata": {},
   "outputs": [
    {
     "name": "stdout",
     "output_type": "stream",
     "text": [
      "445.71 85.6\n"
     ]
    }
   ],
   "source": [
    "## RMSE and MAPE\n",
    "rmse =round(np.sqrt( mean_squared_error(test['Sales'],y_hat_arma['arma_forecast'][test.index.min():])),2)\n",
    "mape = round(np.mean((np.abs(test['Sales']-y_hat_arma['arma_forecast'][test.index.min():]))/test['Sales']*100),2)\n",
    "print(rmse,mape)"
   ]
  },
  {
   "cell_type": "markdown",
   "id": "63a36ceb",
   "metadata": {},
   "source": [
    "### ARIMA model"
   ]
  },
  {
   "cell_type": "code",
   "execution_count": 74,
   "id": "2dcfbcff",
   "metadata": {},
   "outputs": [
    {
     "name": "stdout",
     "output_type": "stream",
     "text": [
      "ar.L1     0.213314\n",
      "ar.L2     1.126938\n",
      "ar.L3    -0.611181\n",
      "ar.L4    -0.524832\n",
      "ma.L1    -0.783944\n",
      "ma.L2    -0.792938\n",
      "ma.L3     0.988796\n",
      "sigma2    0.030451\n",
      "dtype: float64\n"
     ]
    }
   ],
   "source": [
    "model = ARIMA(train_df_boxcox,order = (4,1,3))\n",
    "model_fit = model.fit()\n",
    "print(model_fit.params)"
   ]
  },
  {
   "cell_type": "code",
   "execution_count": 86,
   "id": "3d660fbf",
   "metadata": {},
   "outputs": [],
   "source": [
    "## Recovering the original time series\n",
    "y_hat_arima = df_boxcox_diff.copy()\n",
    "y_hat_arima['arima_boxcox_diff'] = model_fit.predict(start=df_boxcox_diff.index.min(),end=df_boxcox_diff.index.max())\n",
    "y_hat_arima['arima_boxcox'] = y_hat_arima['arima_boxcox_diff'].cumsum()\n",
    "y_hat_arima['arima_boxcox'] = y_hat_arima['arima_boxcox'].add(df_boxcox[0])\n",
    "y_hat_arima['arima_forecast'] = inv_boxcox(y_hat_arima['arima_boxcox'],1.1)"
   ]
  },
  {
   "cell_type": "code",
   "execution_count": 87,
   "id": "da5aaa06",
   "metadata": {},
   "outputs": [
    {
     "name": "stdout",
     "output_type": "stream",
     "text": [
      "304.71 38.01\n"
     ]
    }
   ],
   "source": [
    "## Checking out the rmse and mape\n",
    "from sklearn.metrics import mean_squared_error\n",
    "rmse  = round(np.sqrt(mean_squared_error(test['Sales'],y_hat_arima['arima_forecast'][test.index.min():])),2)\n",
    "mape = round(np.mean((np.abs(test['Sales']-y_hat_arima['arima_forecast'][test.index.min():]))/test['Sales']*100),2)\n",
    "print(rmse,mape)"
   ]
  },
  {
   "cell_type": "markdown",
   "id": "ab2ba220",
   "metadata": {},
   "source": [
    "### SARIMA "
   ]
  },
  {
   "cell_type": "code",
   "execution_count": 88,
   "id": "c7c966ed",
   "metadata": {},
   "outputs": [
    {
     "name": "stdout",
     "output_type": "stream",
     "text": [
      "ar.L1      -1.392610\n",
      "ar.L2      -0.589887\n",
      "ar.L3      -0.173929\n",
      "ar.L4      -0.256081\n",
      "ar.L5      -0.522608\n",
      "ar.L6      -0.641861\n",
      "ar.L7      -0.304727\n",
      "ma.L1      -0.078722\n",
      "ma.L2      -0.825075\n",
      "ma.L3      -0.060318\n",
      "ma.L4       0.115576\n",
      "ma.L5       0.168881\n",
      "ma.L6      -0.071636\n",
      "ma.L7      -0.875165\n",
      "ma.L8      -0.192480\n",
      "ma.L9       0.862965\n",
      "ar.S.L12   -0.740469\n",
      "ar.S.L24   -0.629054\n",
      "ar.S.L36   -0.605924\n",
      "ma.S.L12   -0.028449\n",
      "sigma2      0.016991\n",
      "dtype: float64\n"
     ]
    }
   ],
   "source": [
    "from statsmodels.tsa.statespace.sarimax import SARIMAX\n",
    "model = SARIMAX(df_boxcox,order=(7,2,9),seasonal_order=(3,1,1,12))\n",
    "model_fit = model.fit()\n",
    "print(model_fit.params)"
   ]
  },
  {
   "cell_type": "code",
   "execution_count": 90,
   "id": "49732aa9",
   "metadata": {},
   "outputs": [],
   "source": [
    "## Recovering the original time series\n",
    "y_hat_sarima = df_boxcox.copy()\n",
    "y_hat_sarima['sarima_boxcox'] = model_fit.predict(df_boxcox_diff.index.min(),df_boxcox_diff.index.max())\n",
    "y_hat_sarima['sarima_forecast'] = inv_boxcox(y_hat_sarima['sarima_boxcox'],0)"
   ]
  },
  {
   "cell_type": "code",
   "execution_count": 91,
   "id": "d7c1f188",
   "metadata": {},
   "outputs": [
    {
     "name": "stdout",
     "output_type": "stream",
     "text": [
      "41.98 9.49\n"
     ]
    }
   ],
   "source": [
    "## Checking out the rmse and mape\n",
    "from sklearn.metrics import mean_squared_error\n",
    "rmse  = round(np.sqrt(mean_squared_error(test['Sales'],y_hat_sarima['sarima_forecast'][test.index.min():])),2)\n",
    "mape = round(np.mean((np.abs(test['Sales']-y_hat_sarima['sarima_forecast'][test.index.min():]))/test['Sales']*100),2)\n",
    "print(rmse,mape)"
   ]
  },
  {
   "cell_type": "markdown",
   "id": "bee4c4ce",
   "metadata": {},
   "source": []
  }
 ],
 "metadata": {
  "kernelspec": {
   "display_name": "Python 3 (ipykernel)",
   "language": "python",
   "name": "python3"
  },
  "language_info": {
   "codemirror_mode": {
    "name": "ipython",
    "version": 3
   },
   "file_extension": ".py",
   "mimetype": "text/x-python",
   "name": "python",
   "nbconvert_exporter": "python",
   "pygments_lexer": "ipython3",
   "version": "3.10.9"
  }
 },
 "nbformat": 4,
 "nbformat_minor": 5
}
