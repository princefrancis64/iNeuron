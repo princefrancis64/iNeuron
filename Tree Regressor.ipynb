{
 "cells": [
  {
   "cell_type": "code",
   "execution_count": 27,
   "id": "f5db246d",
   "metadata": {},
   "outputs": [],
   "source": [
    "from sklearn.tree import DecisionTreeRegressor"
   ]
  },
  {
   "cell_type": "code",
   "execution_count": 28,
   "id": "365f4cb6",
   "metadata": {},
   "outputs": [],
   "source": [
    "import pandas as pd,numpy as np\n",
    "import warnings\n",
    "warnings.filterwarnings('ignore')"
   ]
  },
  {
   "cell_type": "code",
   "execution_count": 29,
   "id": "58ece861",
   "metadata": {},
   "outputs": [
    {
     "data": {
      "text/html": [
       "<div>\n",
       "<style scoped>\n",
       "    .dataframe tbody tr th:only-of-type {\n",
       "        vertical-align: middle;\n",
       "    }\n",
       "\n",
       "    .dataframe tbody tr th {\n",
       "        vertical-align: top;\n",
       "    }\n",
       "\n",
       "    .dataframe thead th {\n",
       "        text-align: right;\n",
       "    }\n",
       "</style>\n",
       "<table border=\"1\" class=\"dataframe\">\n",
       "  <thead>\n",
       "    <tr style=\"text-align: right;\">\n",
       "      <th></th>\n",
       "      <th>price</th>\n",
       "      <th>area</th>\n",
       "      <th>bedrooms</th>\n",
       "      <th>bathrooms</th>\n",
       "      <th>stories</th>\n",
       "      <th>mainroad</th>\n",
       "      <th>guestroom</th>\n",
       "      <th>basement</th>\n",
       "      <th>hotwaterheating</th>\n",
       "      <th>airconditioning</th>\n",
       "      <th>parking</th>\n",
       "      <th>prefarea</th>\n",
       "      <th>furnishingstatus</th>\n",
       "    </tr>\n",
       "  </thead>\n",
       "  <tbody>\n",
       "    <tr>\n",
       "      <th>0</th>\n",
       "      <td>13300000</td>\n",
       "      <td>7420</td>\n",
       "      <td>4</td>\n",
       "      <td>2</td>\n",
       "      <td>3</td>\n",
       "      <td>yes</td>\n",
       "      <td>no</td>\n",
       "      <td>no</td>\n",
       "      <td>no</td>\n",
       "      <td>yes</td>\n",
       "      <td>2</td>\n",
       "      <td>yes</td>\n",
       "      <td>furnished</td>\n",
       "    </tr>\n",
       "    <tr>\n",
       "      <th>1</th>\n",
       "      <td>12250000</td>\n",
       "      <td>8960</td>\n",
       "      <td>4</td>\n",
       "      <td>4</td>\n",
       "      <td>4</td>\n",
       "      <td>yes</td>\n",
       "      <td>no</td>\n",
       "      <td>no</td>\n",
       "      <td>no</td>\n",
       "      <td>yes</td>\n",
       "      <td>3</td>\n",
       "      <td>no</td>\n",
       "      <td>furnished</td>\n",
       "    </tr>\n",
       "    <tr>\n",
       "      <th>2</th>\n",
       "      <td>12250000</td>\n",
       "      <td>9960</td>\n",
       "      <td>3</td>\n",
       "      <td>2</td>\n",
       "      <td>2</td>\n",
       "      <td>yes</td>\n",
       "      <td>no</td>\n",
       "      <td>yes</td>\n",
       "      <td>no</td>\n",
       "      <td>no</td>\n",
       "      <td>2</td>\n",
       "      <td>yes</td>\n",
       "      <td>semi-furnished</td>\n",
       "    </tr>\n",
       "    <tr>\n",
       "      <th>3</th>\n",
       "      <td>12215000</td>\n",
       "      <td>7500</td>\n",
       "      <td>4</td>\n",
       "      <td>2</td>\n",
       "      <td>2</td>\n",
       "      <td>yes</td>\n",
       "      <td>no</td>\n",
       "      <td>yes</td>\n",
       "      <td>no</td>\n",
       "      <td>yes</td>\n",
       "      <td>3</td>\n",
       "      <td>yes</td>\n",
       "      <td>furnished</td>\n",
       "    </tr>\n",
       "    <tr>\n",
       "      <th>4</th>\n",
       "      <td>11410000</td>\n",
       "      <td>7420</td>\n",
       "      <td>4</td>\n",
       "      <td>1</td>\n",
       "      <td>2</td>\n",
       "      <td>yes</td>\n",
       "      <td>yes</td>\n",
       "      <td>yes</td>\n",
       "      <td>no</td>\n",
       "      <td>yes</td>\n",
       "      <td>2</td>\n",
       "      <td>no</td>\n",
       "      <td>furnished</td>\n",
       "    </tr>\n",
       "  </tbody>\n",
       "</table>\n",
       "</div>"
      ],
      "text/plain": [
       "      price  area  bedrooms  bathrooms  stories mainroad guestroom basement  \\\n",
       "0  13300000  7420         4          2        3      yes        no       no   \n",
       "1  12250000  8960         4          4        4      yes        no       no   \n",
       "2  12250000  9960         3          2        2      yes        no      yes   \n",
       "3  12215000  7500         4          2        2      yes        no      yes   \n",
       "4  11410000  7420         4          1        2      yes       yes      yes   \n",
       "\n",
       "  hotwaterheating airconditioning  parking prefarea furnishingstatus  \n",
       "0              no             yes        2      yes        furnished  \n",
       "1              no             yes        3       no        furnished  \n",
       "2              no              no        2      yes   semi-furnished  \n",
       "3              no             yes        3      yes        furnished  \n",
       "4              no             yes        2       no        furnished  "
      ]
     },
     "execution_count": 29,
     "metadata": {},
     "output_type": "execute_result"
    }
   ],
   "source": [
    "df = pd.read_csv('Housing.csv')\n",
    "df.head()"
   ]
  },
  {
   "cell_type": "code",
   "execution_count": 30,
   "id": "a99c57e2",
   "metadata": {},
   "outputs": [],
   "source": [
    "##Changing all the categorical variables\n",
    "from sklearn.preprocessing import LabelEncoder\n",
    "encoder = LabelEncoder()"
   ]
  },
  {
   "cell_type": "code",
   "execution_count": 31,
   "id": "67090039",
   "metadata": {},
   "outputs": [
    {
     "name": "stdout",
     "output_type": "stream",
     "text": [
      "<class 'pandas.core.frame.DataFrame'>\n",
      "RangeIndex: 545 entries, 0 to 544\n",
      "Data columns (total 13 columns):\n",
      " #   Column            Non-Null Count  Dtype \n",
      "---  ------            --------------  ----- \n",
      " 0   price             545 non-null    int64 \n",
      " 1   area              545 non-null    int64 \n",
      " 2   bedrooms          545 non-null    int64 \n",
      " 3   bathrooms         545 non-null    int64 \n",
      " 4   stories           545 non-null    int64 \n",
      " 5   mainroad          545 non-null    object\n",
      " 6   guestroom         545 non-null    object\n",
      " 7   basement          545 non-null    object\n",
      " 8   hotwaterheating   545 non-null    object\n",
      " 9   airconditioning   545 non-null    object\n",
      " 10  parking           545 non-null    int64 \n",
      " 11  prefarea          545 non-null    object\n",
      " 12  furnishingstatus  545 non-null    object\n",
      "dtypes: int64(6), object(7)\n",
      "memory usage: 55.5+ KB\n"
     ]
    }
   ],
   "source": [
    "df.info()"
   ]
  },
  {
   "cell_type": "code",
   "execution_count": 32,
   "id": "1640dbf6",
   "metadata": {},
   "outputs": [
    {
     "data": {
      "text/plain": [
       "furnishingstatus\n",
       "semi-furnished      227\n",
       "unfurnished         178\n",
       "furnished           140\n",
       "dtype: int64"
      ]
     },
     "execution_count": 32,
     "metadata": {},
     "output_type": "execute_result"
    }
   ],
   "source": [
    "df[['furnishingstatus']].value_counts()"
   ]
  },
  {
   "cell_type": "code",
   "execution_count": 33,
   "id": "80f476a2",
   "metadata": {},
   "outputs": [
    {
     "data": {
      "text/plain": [
       "['mainroad',\n",
       " 'guestroom',\n",
       " 'basement',\n",
       " 'hotwaterheating',\n",
       " 'airconditioning',\n",
       " 'prefarea',\n",
       " 'furnishingstatus']"
      ]
     },
     "execution_count": 33,
     "metadata": {},
     "output_type": "execute_result"
    }
   ],
   "source": [
    "cat_variables = [i for i in df.columns if df[i].dtype=='O']\n",
    "cat_variables"
   ]
  },
  {
   "cell_type": "code",
   "execution_count": 34,
   "id": "7ecfda1a",
   "metadata": {},
   "outputs": [],
   "source": [
    "for i in cat_variables:\n",
    "    df[i] = encoder.fit_transform(df[i])"
   ]
  },
  {
   "cell_type": "code",
   "execution_count": 35,
   "id": "a0970099",
   "metadata": {},
   "outputs": [
    {
     "data": {
      "text/html": [
       "<div>\n",
       "<style scoped>\n",
       "    .dataframe tbody tr th:only-of-type {\n",
       "        vertical-align: middle;\n",
       "    }\n",
       "\n",
       "    .dataframe tbody tr th {\n",
       "        vertical-align: top;\n",
       "    }\n",
       "\n",
       "    .dataframe thead th {\n",
       "        text-align: right;\n",
       "    }\n",
       "</style>\n",
       "<table border=\"1\" class=\"dataframe\">\n",
       "  <thead>\n",
       "    <tr style=\"text-align: right;\">\n",
       "      <th></th>\n",
       "      <th>price</th>\n",
       "      <th>area</th>\n",
       "      <th>bedrooms</th>\n",
       "      <th>bathrooms</th>\n",
       "      <th>stories</th>\n",
       "      <th>mainroad</th>\n",
       "      <th>guestroom</th>\n",
       "      <th>basement</th>\n",
       "      <th>hotwaterheating</th>\n",
       "      <th>airconditioning</th>\n",
       "      <th>parking</th>\n",
       "      <th>prefarea</th>\n",
       "      <th>furnishingstatus</th>\n",
       "    </tr>\n",
       "  </thead>\n",
       "  <tbody>\n",
       "    <tr>\n",
       "      <th>0</th>\n",
       "      <td>13300000</td>\n",
       "      <td>7420</td>\n",
       "      <td>4</td>\n",
       "      <td>2</td>\n",
       "      <td>3</td>\n",
       "      <td>1</td>\n",
       "      <td>0</td>\n",
       "      <td>0</td>\n",
       "      <td>0</td>\n",
       "      <td>1</td>\n",
       "      <td>2</td>\n",
       "      <td>1</td>\n",
       "      <td>0</td>\n",
       "    </tr>\n",
       "    <tr>\n",
       "      <th>1</th>\n",
       "      <td>12250000</td>\n",
       "      <td>8960</td>\n",
       "      <td>4</td>\n",
       "      <td>4</td>\n",
       "      <td>4</td>\n",
       "      <td>1</td>\n",
       "      <td>0</td>\n",
       "      <td>0</td>\n",
       "      <td>0</td>\n",
       "      <td>1</td>\n",
       "      <td>3</td>\n",
       "      <td>0</td>\n",
       "      <td>0</td>\n",
       "    </tr>\n",
       "    <tr>\n",
       "      <th>2</th>\n",
       "      <td>12250000</td>\n",
       "      <td>9960</td>\n",
       "      <td>3</td>\n",
       "      <td>2</td>\n",
       "      <td>2</td>\n",
       "      <td>1</td>\n",
       "      <td>0</td>\n",
       "      <td>1</td>\n",
       "      <td>0</td>\n",
       "      <td>0</td>\n",
       "      <td>2</td>\n",
       "      <td>1</td>\n",
       "      <td>1</td>\n",
       "    </tr>\n",
       "    <tr>\n",
       "      <th>3</th>\n",
       "      <td>12215000</td>\n",
       "      <td>7500</td>\n",
       "      <td>4</td>\n",
       "      <td>2</td>\n",
       "      <td>2</td>\n",
       "      <td>1</td>\n",
       "      <td>0</td>\n",
       "      <td>1</td>\n",
       "      <td>0</td>\n",
       "      <td>1</td>\n",
       "      <td>3</td>\n",
       "      <td>1</td>\n",
       "      <td>0</td>\n",
       "    </tr>\n",
       "    <tr>\n",
       "      <th>4</th>\n",
       "      <td>11410000</td>\n",
       "      <td>7420</td>\n",
       "      <td>4</td>\n",
       "      <td>1</td>\n",
       "      <td>2</td>\n",
       "      <td>1</td>\n",
       "      <td>1</td>\n",
       "      <td>1</td>\n",
       "      <td>0</td>\n",
       "      <td>1</td>\n",
       "      <td>2</td>\n",
       "      <td>0</td>\n",
       "      <td>0</td>\n",
       "    </tr>\n",
       "  </tbody>\n",
       "</table>\n",
       "</div>"
      ],
      "text/plain": [
       "      price  area  bedrooms  bathrooms  stories  mainroad  guestroom  \\\n",
       "0  13300000  7420         4          2        3         1          0   \n",
       "1  12250000  8960         4          4        4         1          0   \n",
       "2  12250000  9960         3          2        2         1          0   \n",
       "3  12215000  7500         4          2        2         1          0   \n",
       "4  11410000  7420         4          1        2         1          1   \n",
       "\n",
       "   basement  hotwaterheating  airconditioning  parking  prefarea  \\\n",
       "0         0                0                1        2         1   \n",
       "1         0                0                1        3         0   \n",
       "2         1                0                0        2         1   \n",
       "3         1                0                1        3         1   \n",
       "4         1                0                1        2         0   \n",
       "\n",
       "   furnishingstatus  \n",
       "0                 0  \n",
       "1                 0  \n",
       "2                 1  \n",
       "3                 0  \n",
       "4                 0  "
      ]
     },
     "execution_count": 35,
     "metadata": {},
     "output_type": "execute_result"
    }
   ],
   "source": [
    "df.head()"
   ]
  },
  {
   "cell_type": "code",
   "execution_count": 36,
   "id": "000559d0",
   "metadata": {},
   "outputs": [
    {
     "data": {
      "text/plain": [
       "1    227\n",
       "2    178\n",
       "0    140\n",
       "Name: furnishingstatus, dtype: int64"
      ]
     },
     "execution_count": 36,
     "metadata": {},
     "output_type": "execute_result"
    }
   ],
   "source": [
    "df['furnishingstatus'].value_counts()"
   ]
  },
  {
   "cell_type": "code",
   "execution_count": 37,
   "id": "fc8693cf",
   "metadata": {},
   "outputs": [],
   "source": [
    "dt = DecisionTreeRegressor(random_state=42,max_depth=4,min_samples_leaf=10)"
   ]
  },
  {
   "cell_type": "code",
   "execution_count": 38,
   "id": "a68eafe5",
   "metadata": {},
   "outputs": [
    {
     "data": {
      "text/plain": [
       "((381, 13), (164, 13))"
      ]
     },
     "execution_count": 38,
     "metadata": {},
     "output_type": "execute_result"
    }
   ],
   "source": [
    "np.random.seed(0)\n",
    "from sklearn.model_selection import train_test_split\n",
    "df_train,df_test = train_test_split(df,train_size=0.7,random_state=100)\n",
    "df_train.shape,df_test.shape"
   ]
  },
  {
   "cell_type": "code",
   "execution_count": 39,
   "id": "43ee5d42",
   "metadata": {},
   "outputs": [
    {
     "data": {
      "text/html": [
       "<div>\n",
       "<style scoped>\n",
       "    .dataframe tbody tr th:only-of-type {\n",
       "        vertical-align: middle;\n",
       "    }\n",
       "\n",
       "    .dataframe tbody tr th {\n",
       "        vertical-align: top;\n",
       "    }\n",
       "\n",
       "    .dataframe thead th {\n",
       "        text-align: right;\n",
       "    }\n",
       "</style>\n",
       "<table border=\"1\" class=\"dataframe\">\n",
       "  <thead>\n",
       "    <tr style=\"text-align: right;\">\n",
       "      <th></th>\n",
       "      <th>price</th>\n",
       "      <th>area</th>\n",
       "      <th>bedrooms</th>\n",
       "      <th>bathrooms</th>\n",
       "      <th>stories</th>\n",
       "      <th>mainroad</th>\n",
       "      <th>guestroom</th>\n",
       "      <th>basement</th>\n",
       "      <th>hotwaterheating</th>\n",
       "      <th>airconditioning</th>\n",
       "      <th>parking</th>\n",
       "      <th>prefarea</th>\n",
       "      <th>furnishingstatus</th>\n",
       "    </tr>\n",
       "  </thead>\n",
       "  <tbody>\n",
       "    <tr>\n",
       "      <th>359</th>\n",
       "      <td>3710000</td>\n",
       "      <td>3600</td>\n",
       "      <td>3</td>\n",
       "      <td>1</td>\n",
       "      <td>1</td>\n",
       "      <td>1</td>\n",
       "      <td>0</td>\n",
       "      <td>0</td>\n",
       "      <td>0</td>\n",
       "      <td>0</td>\n",
       "      <td>1</td>\n",
       "      <td>0</td>\n",
       "      <td>2</td>\n",
       "    </tr>\n",
       "    <tr>\n",
       "      <th>19</th>\n",
       "      <td>8855000</td>\n",
       "      <td>6420</td>\n",
       "      <td>3</td>\n",
       "      <td>2</td>\n",
       "      <td>2</td>\n",
       "      <td>1</td>\n",
       "      <td>0</td>\n",
       "      <td>0</td>\n",
       "      <td>0</td>\n",
       "      <td>1</td>\n",
       "      <td>1</td>\n",
       "      <td>1</td>\n",
       "      <td>1</td>\n",
       "    </tr>\n",
       "    <tr>\n",
       "      <th>159</th>\n",
       "      <td>5460000</td>\n",
       "      <td>3150</td>\n",
       "      <td>3</td>\n",
       "      <td>2</td>\n",
       "      <td>1</td>\n",
       "      <td>1</td>\n",
       "      <td>1</td>\n",
       "      <td>1</td>\n",
       "      <td>0</td>\n",
       "      <td>1</td>\n",
       "      <td>0</td>\n",
       "      <td>0</td>\n",
       "      <td>0</td>\n",
       "    </tr>\n",
       "    <tr>\n",
       "      <th>35</th>\n",
       "      <td>8080940</td>\n",
       "      <td>7000</td>\n",
       "      <td>3</td>\n",
       "      <td>2</td>\n",
       "      <td>4</td>\n",
       "      <td>1</td>\n",
       "      <td>0</td>\n",
       "      <td>0</td>\n",
       "      <td>0</td>\n",
       "      <td>1</td>\n",
       "      <td>2</td>\n",
       "      <td>0</td>\n",
       "      <td>0</td>\n",
       "    </tr>\n",
       "    <tr>\n",
       "      <th>28</th>\n",
       "      <td>8400000</td>\n",
       "      <td>7950</td>\n",
       "      <td>5</td>\n",
       "      <td>2</td>\n",
       "      <td>2</td>\n",
       "      <td>1</td>\n",
       "      <td>0</td>\n",
       "      <td>1</td>\n",
       "      <td>1</td>\n",
       "      <td>0</td>\n",
       "      <td>2</td>\n",
       "      <td>0</td>\n",
       "      <td>2</td>\n",
       "    </tr>\n",
       "  </tbody>\n",
       "</table>\n",
       "</div>"
      ],
      "text/plain": [
       "       price  area  bedrooms  bathrooms  stories  mainroad  guestroom  \\\n",
       "359  3710000  3600         3          1        1         1          0   \n",
       "19   8855000  6420         3          2        2         1          0   \n",
       "159  5460000  3150         3          2        1         1          1   \n",
       "35   8080940  7000         3          2        4         1          0   \n",
       "28   8400000  7950         5          2        2         1          0   \n",
       "\n",
       "     basement  hotwaterheating  airconditioning  parking  prefarea  \\\n",
       "359         0                0                0        1         0   \n",
       "19          0                0                1        1         1   \n",
       "159         1                0                1        0         0   \n",
       "35          0                0                1        2         0   \n",
       "28          1                1                0        2         0   \n",
       "\n",
       "     furnishingstatus  \n",
       "359                 2  \n",
       "19                  1  \n",
       "159                 0  \n",
       "35                  0  \n",
       "28                  2  "
      ]
     },
     "execution_count": 39,
     "metadata": {},
     "output_type": "execute_result"
    }
   ],
   "source": [
    "df_train.head()"
   ]
  },
  {
   "cell_type": "code",
   "execution_count": 40,
   "id": "ac5209db",
   "metadata": {},
   "outputs": [],
   "source": [
    "from sklearn.preprocessing import MinMaxScaler\n",
    "scaler = MinMaxScaler()\n",
    "df_train['price'] = scaler.fit_transform(df_train[['price']])\n",
    "df_test['price'] = scaler.transform(df_test[['price']])"
   ]
  },
  {
   "cell_type": "code",
   "execution_count": 41,
   "id": "5e589789",
   "metadata": {},
   "outputs": [
    {
     "data": {
      "text/html": [
       "<div>\n",
       "<style scoped>\n",
       "    .dataframe tbody tr th:only-of-type {\n",
       "        vertical-align: middle;\n",
       "    }\n",
       "\n",
       "    .dataframe tbody tr th {\n",
       "        vertical-align: top;\n",
       "    }\n",
       "\n",
       "    .dataframe thead th {\n",
       "        text-align: right;\n",
       "    }\n",
       "</style>\n",
       "<table border=\"1\" class=\"dataframe\">\n",
       "  <thead>\n",
       "    <tr style=\"text-align: right;\">\n",
       "      <th></th>\n",
       "      <th>price</th>\n",
       "    </tr>\n",
       "  </thead>\n",
       "  <tbody>\n",
       "    <tr>\n",
       "      <th>359</th>\n",
       "      <td>0.169697</td>\n",
       "    </tr>\n",
       "    <tr>\n",
       "      <th>19</th>\n",
       "      <td>0.615152</td>\n",
       "    </tr>\n",
       "    <tr>\n",
       "      <th>159</th>\n",
       "      <td>0.321212</td>\n",
       "    </tr>\n",
       "    <tr>\n",
       "      <th>35</th>\n",
       "      <td>0.548133</td>\n",
       "    </tr>\n",
       "    <tr>\n",
       "      <th>28</th>\n",
       "      <td>0.575758</td>\n",
       "    </tr>\n",
       "    <tr>\n",
       "      <th>...</th>\n",
       "      <td>...</td>\n",
       "    </tr>\n",
       "    <tr>\n",
       "      <th>526</th>\n",
       "      <td>0.048485</td>\n",
       "    </tr>\n",
       "    <tr>\n",
       "      <th>53</th>\n",
       "      <td>0.484848</td>\n",
       "    </tr>\n",
       "    <tr>\n",
       "      <th>350</th>\n",
       "      <td>0.175758</td>\n",
       "    </tr>\n",
       "    <tr>\n",
       "      <th>79</th>\n",
       "      <td>0.424242</td>\n",
       "    </tr>\n",
       "    <tr>\n",
       "      <th>520</th>\n",
       "      <td>0.060606</td>\n",
       "    </tr>\n",
       "  </tbody>\n",
       "</table>\n",
       "<p>381 rows × 1 columns</p>\n",
       "</div>"
      ],
      "text/plain": [
       "        price\n",
       "359  0.169697\n",
       "19   0.615152\n",
       "159  0.321212\n",
       "35   0.548133\n",
       "28   0.575758\n",
       "..        ...\n",
       "526  0.048485\n",
       "53   0.484848\n",
       "350  0.175758\n",
       "79   0.424242\n",
       "520  0.060606\n",
       "\n",
       "[381 rows x 1 columns]"
      ]
     },
     "execution_count": 41,
     "metadata": {},
     "output_type": "execute_result"
    }
   ],
   "source": [
    "df_train[['price']]"
   ]
  },
  {
   "cell_type": "code",
   "execution_count": 42,
   "id": "a7062001",
   "metadata": {},
   "outputs": [],
   "source": [
    "y_train = df_train.pop(\"price\")\n",
    "X_train = df_train\n",
    "\n",
    "y_test = df_test.pop(\"price\")\n",
    "X_test = df_test"
   ]
  },
  {
   "cell_type": "code",
   "execution_count": 43,
   "id": "047952b9",
   "metadata": {},
   "outputs": [
    {
     "data": {
      "text/plain": [
       "((381, 12), (164, 12))"
      ]
     },
     "execution_count": 43,
     "metadata": {},
     "output_type": "execute_result"
    }
   ],
   "source": [
    "X_train.shape,X_test.shape"
   ]
  },
  {
   "cell_type": "code",
   "execution_count": 44,
   "id": "73a92bb9",
   "metadata": {},
   "outputs": [
    {
     "data": {
      "text/plain": [
       "(359    0.169697\n",
       " 19     0.615152\n",
       " 159    0.321212\n",
       " 35     0.548133\n",
       " 28     0.575758\n",
       "          ...   \n",
       " 526    0.048485\n",
       " 53     0.484848\n",
       " 350    0.175758\n",
       " 79     0.424242\n",
       " 520    0.060606\n",
       " Name: price, Length: 381, dtype: float64,\n",
       " 265    0.229697\n",
       " 54     0.484848\n",
       " 171    0.303030\n",
       " 244    0.242424\n",
       " 268    0.227879\n",
       "          ...   \n",
       " 413    0.145455\n",
       " 191    0.284848\n",
       " 310    0.206061\n",
       " 46     0.500000\n",
       " 50     0.490909\n",
       " Name: price, Length: 164, dtype: float64)"
      ]
     },
     "execution_count": 44,
     "metadata": {},
     "output_type": "execute_result"
    }
   ],
   "source": [
    "y_train,y_test"
   ]
  },
  {
   "cell_type": "markdown",
   "id": "ad5c79ed",
   "metadata": {},
   "source": [
    "### Fit the Decision Tree model"
   ]
  },
  {
   "cell_type": "code",
   "execution_count": 45,
   "id": "5edc4056",
   "metadata": {},
   "outputs": [
    {
     "data": {
      "text/html": [
       "<style>#sk-container-id-1 {color: black;background-color: white;}#sk-container-id-1 pre{padding: 0;}#sk-container-id-1 div.sk-toggleable {background-color: white;}#sk-container-id-1 label.sk-toggleable__label {cursor: pointer;display: block;width: 100%;margin-bottom: 0;padding: 0.3em;box-sizing: border-box;text-align: center;}#sk-container-id-1 label.sk-toggleable__label-arrow:before {content: \"▸\";float: left;margin-right: 0.25em;color: #696969;}#sk-container-id-1 label.sk-toggleable__label-arrow:hover:before {color: black;}#sk-container-id-1 div.sk-estimator:hover label.sk-toggleable__label-arrow:before {color: black;}#sk-container-id-1 div.sk-toggleable__content {max-height: 0;max-width: 0;overflow: hidden;text-align: left;background-color: #f0f8ff;}#sk-container-id-1 div.sk-toggleable__content pre {margin: 0.2em;color: black;border-radius: 0.25em;background-color: #f0f8ff;}#sk-container-id-1 input.sk-toggleable__control:checked~div.sk-toggleable__content {max-height: 200px;max-width: 100%;overflow: auto;}#sk-container-id-1 input.sk-toggleable__control:checked~label.sk-toggleable__label-arrow:before {content: \"▾\";}#sk-container-id-1 div.sk-estimator input.sk-toggleable__control:checked~label.sk-toggleable__label {background-color: #d4ebff;}#sk-container-id-1 div.sk-label input.sk-toggleable__control:checked~label.sk-toggleable__label {background-color: #d4ebff;}#sk-container-id-1 input.sk-hidden--visually {border: 0;clip: rect(1px 1px 1px 1px);clip: rect(1px, 1px, 1px, 1px);height: 1px;margin: -1px;overflow: hidden;padding: 0;position: absolute;width: 1px;}#sk-container-id-1 div.sk-estimator {font-family: monospace;background-color: #f0f8ff;border: 1px dotted black;border-radius: 0.25em;box-sizing: border-box;margin-bottom: 0.5em;}#sk-container-id-1 div.sk-estimator:hover {background-color: #d4ebff;}#sk-container-id-1 div.sk-parallel-item::after {content: \"\";width: 100%;border-bottom: 1px solid gray;flex-grow: 1;}#sk-container-id-1 div.sk-label:hover label.sk-toggleable__label {background-color: #d4ebff;}#sk-container-id-1 div.sk-serial::before {content: \"\";position: absolute;border-left: 1px solid gray;box-sizing: border-box;top: 0;bottom: 0;left: 50%;z-index: 0;}#sk-container-id-1 div.sk-serial {display: flex;flex-direction: column;align-items: center;background-color: white;padding-right: 0.2em;padding-left: 0.2em;position: relative;}#sk-container-id-1 div.sk-item {position: relative;z-index: 1;}#sk-container-id-1 div.sk-parallel {display: flex;align-items: stretch;justify-content: center;background-color: white;position: relative;}#sk-container-id-1 div.sk-item::before, #sk-container-id-1 div.sk-parallel-item::before {content: \"\";position: absolute;border-left: 1px solid gray;box-sizing: border-box;top: 0;bottom: 0;left: 50%;z-index: -1;}#sk-container-id-1 div.sk-parallel-item {display: flex;flex-direction: column;z-index: 1;position: relative;background-color: white;}#sk-container-id-1 div.sk-parallel-item:first-child::after {align-self: flex-end;width: 50%;}#sk-container-id-1 div.sk-parallel-item:last-child::after {align-self: flex-start;width: 50%;}#sk-container-id-1 div.sk-parallel-item:only-child::after {width: 0;}#sk-container-id-1 div.sk-dashed-wrapped {border: 1px dashed gray;margin: 0 0.4em 0.5em 0.4em;box-sizing: border-box;padding-bottom: 0.4em;background-color: white;}#sk-container-id-1 div.sk-label label {font-family: monospace;font-weight: bold;display: inline-block;line-height: 1.2em;}#sk-container-id-1 div.sk-label-container {text-align: center;}#sk-container-id-1 div.sk-container {/* jupyter's `normalize.less` sets `[hidden] { display: none; }` but bootstrap.min.css set `[hidden] { display: none !important; }` so we also need the `!important` here to be able to override the default hidden behavior on the sphinx rendered scikit-learn.org. See: https://github.com/scikit-learn/scikit-learn/issues/21755 */display: inline-block !important;position: relative;}#sk-container-id-1 div.sk-text-repr-fallback {display: none;}</style><div id=\"sk-container-id-1\" class=\"sk-top-container\"><div class=\"sk-text-repr-fallback\"><pre>DecisionTreeRegressor(max_depth=4, min_samples_leaf=10, random_state=42)</pre><b>In a Jupyter environment, please rerun this cell to show the HTML representation or trust the notebook. <br />On GitHub, the HTML representation is unable to render, please try loading this page with nbviewer.org.</b></div><div class=\"sk-container\" hidden><div class=\"sk-item\"><div class=\"sk-estimator sk-toggleable\"><input class=\"sk-toggleable__control sk-hidden--visually\" id=\"sk-estimator-id-1\" type=\"checkbox\" checked><label for=\"sk-estimator-id-1\" class=\"sk-toggleable__label sk-toggleable__label-arrow\">DecisionTreeRegressor</label><div class=\"sk-toggleable__content\"><pre>DecisionTreeRegressor(max_depth=4, min_samples_leaf=10, random_state=42)</pre></div></div></div></div></div>"
      ],
      "text/plain": [
       "DecisionTreeRegressor(max_depth=4, min_samples_leaf=10, random_state=42)"
      ]
     },
     "execution_count": 45,
     "metadata": {},
     "output_type": "execute_result"
    }
   ],
   "source": [
    "dt.fit(X_train,y_train)"
   ]
  },
  {
   "cell_type": "code",
   "execution_count": 47,
   "id": "9d1d7f47",
   "metadata": {},
   "outputs": [
    {
     "data": {
      "text/html": [
       "<div>\n",
       "<style scoped>\n",
       "    .dataframe tbody tr th:only-of-type {\n",
       "        vertical-align: middle;\n",
       "    }\n",
       "\n",
       "    .dataframe tbody tr th {\n",
       "        vertical-align: top;\n",
       "    }\n",
       "\n",
       "    .dataframe thead th {\n",
       "        text-align: right;\n",
       "    }\n",
       "</style>\n",
       "<table border=\"1\" class=\"dataframe\">\n",
       "  <thead>\n",
       "    <tr style=\"text-align: right;\">\n",
       "      <th></th>\n",
       "      <th>area</th>\n",
       "      <th>bedrooms</th>\n",
       "      <th>bathrooms</th>\n",
       "      <th>stories</th>\n",
       "      <th>mainroad</th>\n",
       "      <th>guestroom</th>\n",
       "      <th>basement</th>\n",
       "      <th>hotwaterheating</th>\n",
       "      <th>airconditioning</th>\n",
       "      <th>parking</th>\n",
       "      <th>prefarea</th>\n",
       "      <th>furnishingstatus</th>\n",
       "    </tr>\n",
       "  </thead>\n",
       "  <tbody>\n",
       "    <tr>\n",
       "      <th>359</th>\n",
       "      <td>3600</td>\n",
       "      <td>3</td>\n",
       "      <td>1</td>\n",
       "      <td>1</td>\n",
       "      <td>1</td>\n",
       "      <td>0</td>\n",
       "      <td>0</td>\n",
       "      <td>0</td>\n",
       "      <td>0</td>\n",
       "      <td>1</td>\n",
       "      <td>0</td>\n",
       "      <td>2</td>\n",
       "    </tr>\n",
       "    <tr>\n",
       "      <th>19</th>\n",
       "      <td>6420</td>\n",
       "      <td>3</td>\n",
       "      <td>2</td>\n",
       "      <td>2</td>\n",
       "      <td>1</td>\n",
       "      <td>0</td>\n",
       "      <td>0</td>\n",
       "      <td>0</td>\n",
       "      <td>1</td>\n",
       "      <td>1</td>\n",
       "      <td>1</td>\n",
       "      <td>1</td>\n",
       "    </tr>\n",
       "    <tr>\n",
       "      <th>159</th>\n",
       "      <td>3150</td>\n",
       "      <td>3</td>\n",
       "      <td>2</td>\n",
       "      <td>1</td>\n",
       "      <td>1</td>\n",
       "      <td>1</td>\n",
       "      <td>1</td>\n",
       "      <td>0</td>\n",
       "      <td>1</td>\n",
       "      <td>0</td>\n",
       "      <td>0</td>\n",
       "      <td>0</td>\n",
       "    </tr>\n",
       "    <tr>\n",
       "      <th>35</th>\n",
       "      <td>7000</td>\n",
       "      <td>3</td>\n",
       "      <td>2</td>\n",
       "      <td>4</td>\n",
       "      <td>1</td>\n",
       "      <td>0</td>\n",
       "      <td>0</td>\n",
       "      <td>0</td>\n",
       "      <td>1</td>\n",
       "      <td>2</td>\n",
       "      <td>0</td>\n",
       "      <td>0</td>\n",
       "    </tr>\n",
       "    <tr>\n",
       "      <th>28</th>\n",
       "      <td>7950</td>\n",
       "      <td>5</td>\n",
       "      <td>2</td>\n",
       "      <td>2</td>\n",
       "      <td>1</td>\n",
       "      <td>0</td>\n",
       "      <td>1</td>\n",
       "      <td>1</td>\n",
       "      <td>0</td>\n",
       "      <td>2</td>\n",
       "      <td>0</td>\n",
       "      <td>2</td>\n",
       "    </tr>\n",
       "    <tr>\n",
       "      <th>...</th>\n",
       "      <td>...</td>\n",
       "      <td>...</td>\n",
       "      <td>...</td>\n",
       "      <td>...</td>\n",
       "      <td>...</td>\n",
       "      <td>...</td>\n",
       "      <td>...</td>\n",
       "      <td>...</td>\n",
       "      <td>...</td>\n",
       "      <td>...</td>\n",
       "      <td>...</td>\n",
       "      <td>...</td>\n",
       "    </tr>\n",
       "    <tr>\n",
       "      <th>526</th>\n",
       "      <td>3180</td>\n",
       "      <td>2</td>\n",
       "      <td>1</td>\n",
       "      <td>1</td>\n",
       "      <td>1</td>\n",
       "      <td>0</td>\n",
       "      <td>0</td>\n",
       "      <td>0</td>\n",
       "      <td>0</td>\n",
       "      <td>0</td>\n",
       "      <td>0</td>\n",
       "      <td>2</td>\n",
       "    </tr>\n",
       "    <tr>\n",
       "      <th>53</th>\n",
       "      <td>5150</td>\n",
       "      <td>3</td>\n",
       "      <td>2</td>\n",
       "      <td>4</td>\n",
       "      <td>1</td>\n",
       "      <td>0</td>\n",
       "      <td>0</td>\n",
       "      <td>0</td>\n",
       "      <td>1</td>\n",
       "      <td>2</td>\n",
       "      <td>0</td>\n",
       "      <td>1</td>\n",
       "    </tr>\n",
       "    <tr>\n",
       "      <th>350</th>\n",
       "      <td>3420</td>\n",
       "      <td>2</td>\n",
       "      <td>1</td>\n",
       "      <td>2</td>\n",
       "      <td>1</td>\n",
       "      <td>0</td>\n",
       "      <td>0</td>\n",
       "      <td>1</td>\n",
       "      <td>0</td>\n",
       "      <td>1</td>\n",
       "      <td>0</td>\n",
       "      <td>1</td>\n",
       "    </tr>\n",
       "    <tr>\n",
       "      <th>79</th>\n",
       "      <td>6000</td>\n",
       "      <td>3</td>\n",
       "      <td>2</td>\n",
       "      <td>3</td>\n",
       "      <td>1</td>\n",
       "      <td>1</td>\n",
       "      <td>0</td>\n",
       "      <td>0</td>\n",
       "      <td>1</td>\n",
       "      <td>0</td>\n",
       "      <td>0</td>\n",
       "      <td>0</td>\n",
       "    </tr>\n",
       "    <tr>\n",
       "      <th>520</th>\n",
       "      <td>7700</td>\n",
       "      <td>2</td>\n",
       "      <td>1</td>\n",
       "      <td>1</td>\n",
       "      <td>1</td>\n",
       "      <td>0</td>\n",
       "      <td>0</td>\n",
       "      <td>0</td>\n",
       "      <td>0</td>\n",
       "      <td>0</td>\n",
       "      <td>0</td>\n",
       "      <td>2</td>\n",
       "    </tr>\n",
       "  </tbody>\n",
       "</table>\n",
       "<p>381 rows × 12 columns</p>\n",
       "</div>"
      ],
      "text/plain": [
       "     area  bedrooms  bathrooms  stories  mainroad  guestroom  basement  \\\n",
       "359  3600         3          1        1         1          0         0   \n",
       "19   6420         3          2        2         1          0         0   \n",
       "159  3150         3          2        1         1          1         1   \n",
       "35   7000         3          2        4         1          0         0   \n",
       "28   7950         5          2        2         1          0         1   \n",
       "..    ...       ...        ...      ...       ...        ...       ...   \n",
       "526  3180         2          1        1         1          0         0   \n",
       "53   5150         3          2        4         1          0         0   \n",
       "350  3420         2          1        2         1          0         0   \n",
       "79   6000         3          2        3         1          1         0   \n",
       "520  7700         2          1        1         1          0         0   \n",
       "\n",
       "     hotwaterheating  airconditioning  parking  prefarea  furnishingstatus  \n",
       "359                0                0        1         0                 2  \n",
       "19                 0                1        1         1                 1  \n",
       "159                0                1        0         0                 0  \n",
       "35                 0                1        2         0                 0  \n",
       "28                 1                0        2         0                 2  \n",
       "..               ...              ...      ...       ...               ...  \n",
       "526                0                0        0         0                 2  \n",
       "53                 0                1        2         0                 1  \n",
       "350                1                0        1         0                 1  \n",
       "79                 0                1        0         0                 0  \n",
       "520                0                0        0         0                 2  \n",
       "\n",
       "[381 rows x 12 columns]"
      ]
     },
     "execution_count": 47,
     "metadata": {},
     "output_type": "execute_result"
    }
   ],
   "source": [
    "df_train"
   ]
  },
  {
   "cell_type": "code",
   "execution_count": 50,
   "id": "4dfa3472",
   "metadata": {},
   "outputs": [
    {
     "data": {
      "text/plain": [
       "count    381.000000\n",
       "mean       0.260333\n",
       "std        0.157607\n",
       "min        0.000000\n",
       "25%        0.151515\n",
       "50%        0.221212\n",
       "75%        0.345455\n",
       "max        1.000000\n",
       "Name: price, dtype: float64"
      ]
     },
     "execution_count": 50,
     "metadata": {},
     "output_type": "execute_result"
    }
   ],
   "source": [
    "y_train.describe()"
   ]
  },
  {
   "cell_type": "code",
   "execution_count": 51,
   "id": "86df457b",
   "metadata": {},
   "outputs": [
    {
     "data": {
      "text/plain": [
       "array([0.17844971, 0.47919192, 0.29271562, 0.20105601, 0.20105601,\n",
       "       0.20105601, 0.59024318, 0.47919192, 0.20251748, 0.3930303 ,\n",
       "       0.20105601, 0.20105601, 0.27915152, 0.29271562, 0.20105601,\n",
       "       0.27915152, 0.59024318, 0.20105601, 0.3930303 , 0.17844971,\n",
       "       0.20105601, 0.20105601, 0.17844971, 0.20251748, 0.1123764 ,\n",
       "       0.1123764 , 0.20105601, 0.27915152, 0.59024318, 0.25830303,\n",
       "       0.17844971, 0.20105601, 0.20105601, 0.1123764 , 0.29271562,\n",
       "       0.20105601, 0.27915152, 0.17844971, 0.17844971, 0.20105601,\n",
       "       0.17844971, 0.27915152, 0.40285985, 0.1123764 , 0.1123764 ,\n",
       "       0.20105601, 0.20105601, 0.27915152, 0.20105601, 0.29271562,\n",
       "       0.1123764 , 0.3912987 , 0.3912987 , 0.29271562, 0.47919192,\n",
       "       0.20105601, 0.3930303 , 0.20105601, 0.1123764 , 0.20105601,\n",
       "       0.1123764 , 0.17844971, 0.3912987 , 0.47919192, 0.1123764 ,\n",
       "       0.29271562, 0.3930303 , 0.20105601, 0.1123764 , 0.20105601,\n",
       "       0.1123764 , 0.27915152, 0.20105601, 0.20105601, 0.29271562,\n",
       "       0.17844971, 0.40285985, 0.59024318, 0.59024318, 0.20105601,\n",
       "       0.47919192, 0.1123764 , 0.17844971, 0.1123764 , 0.20105601,\n",
       "       0.17844971, 0.20105601, 0.29271562, 0.27915152, 0.20105601,\n",
       "       0.29271562, 0.20105601, 0.1123764 , 0.27915152, 0.29271562,\n",
       "       0.17844971, 0.20105601, 0.1123764 , 0.29271562, 0.17844971,\n",
       "       0.17844971, 0.47919192, 0.3930303 , 0.59024318, 0.20251748,\n",
       "       0.20105601, 0.17844971, 0.17844971, 0.17844971, 0.3930303 ,\n",
       "       0.47919192, 0.3930303 , 0.3930303 , 0.17844971, 0.17844971,\n",
       "       0.59024318, 0.29271562, 0.27915152, 0.20105601, 0.20388889,\n",
       "       0.59024318, 0.1123764 , 0.20388889, 0.30053613, 0.3912987 ,\n",
       "       0.20388889, 0.20105601, 0.17844971, 0.3912987 , 0.27915152,\n",
       "       0.20105601, 0.20105601, 0.17844971, 0.3930303 , 0.1123764 ,\n",
       "       0.47919192, 0.40285985, 0.17844971, 0.20105601, 0.3912987 ,\n",
       "       0.17844971, 0.1123764 , 0.17844971, 0.29271562, 0.17844971,\n",
       "       0.29271562, 0.1123764 , 0.17844971, 0.59024318, 0.29271562,\n",
       "       0.20105601, 0.40285985, 0.1123764 , 0.27915152, 0.20251748,\n",
       "       0.17844971, 0.1123764 , 0.29271562, 0.20105601, 0.27915152,\n",
       "       0.3930303 , 0.25830303, 0.47919192, 0.40285985])"
      ]
     },
     "execution_count": 51,
     "metadata": {},
     "output_type": "execute_result"
    }
   ],
   "source": [
    "## Predict the decision tree model\n",
    "y_pred = dt.predict(X_test)\n",
    "y_pred"
   ]
  },
  {
   "cell_type": "code",
   "execution_count": 58,
   "id": "ca6badf5",
   "metadata": {},
   "outputs": [
    {
     "data": {
      "image/png": "[encoded data removed]",
      "text/plain": [
       "<Figure size 1200x800 with 1 Axes>"
      ]
     },
     "metadata": {},
     "output_type": "display_data"
    }
   ],
   "source": [
    "##plotting the decision tree\n",
    "import matplotlib.pyplot as plt\n",
    "plt.figure(figsize=(12,8))\n",
    "from sklearn import tree\n",
    "tree.plot_tree(dt,filled=True,max_depth=2,feature_names=X_train.columns)\n",
    "plt.show()"
   ]
  },
  {
   "cell_type": "code",
   "execution_count": 59,
   "id": "2748e89e",
   "metadata": {},
   "outputs": [],
   "source": [
    "from sklearn.metrics import r2_score\n",
    "y_train_pred = dt.predict(X_train)"
   ]
  },
  {
   "cell_type": "code",
   "execution_count": 60,
   "id": "e1099576",
   "metadata": {},
   "outputs": [
    {
     "data": {
      "text/plain": [
       "0.6234560022579934"
      ]
     },
     "execution_count": 60,
     "metadata": {},
     "output_type": "execute_result"
    }
   ],
   "source": [
    "r2_score(y_train,y_train_pred)"
   ]
  },
  {
   "cell_type": "code",
   "execution_count": 61,
   "id": "2ef77f97",
   "metadata": {},
   "outputs": [
    {
     "data": {
      "text/plain": [
       "0.5289772624972271"
      ]
     },
     "execution_count": 61,
     "metadata": {},
     "output_type": "execute_result"
    }
   ],
   "source": [
    "r2_score(y_test,y_pred)"
   ]
  },
  {
   "cell_type": "markdown",
   "id": "ed669f93",
   "metadata": {},
   "source": [
    "### Regression using Random Forest"
   ]
  },
  {
   "cell_type": "code",
   "execution_count": 62,
   "id": "8e465ca3",
   "metadata": {},
   "outputs": [],
   "source": [
    "from sklearn.ensemble import RandomForestRegressor"
   ]
  },
  {
   "cell_type": "code",
   "execution_count": 64,
   "id": "bd759913",
   "metadata": {},
   "outputs": [],
   "source": [
    "rf= RandomForestRegressor(random_state=42,n_jobs=-1,max_depth=5,min_samples_leaf=10)"
   ]
  },
  {
   "cell_type": "code",
   "execution_count": 65,
   "id": "1c5f4fe1",
   "metadata": {},
   "outputs": [
    {
     "data": {
      "text/html": [
       "<style>#sk-container-id-2 {color: black;background-color: white;}#sk-container-id-2 pre{padding: 0;}#sk-container-id-2 div.sk-toggleable {background-color: white;}#sk-container-id-2 label.sk-toggleable__label {cursor: pointer;display: block;width: 100%;margin-bottom: 0;padding: 0.3em;box-sizing: border-box;text-align: center;}#sk-container-id-2 label.sk-toggleable__label-arrow:before {content: \"▸\";float: left;margin-right: 0.25em;color: #696969;}#sk-container-id-2 label.sk-toggleable__label-arrow:hover:before {color: black;}#sk-container-id-2 div.sk-estimator:hover label.sk-toggleable__label-arrow:before {color: black;}#sk-container-id-2 div.sk-toggleable__content {max-height: 0;max-width: 0;overflow: hidden;text-align: left;background-color: #f0f8ff;}#sk-container-id-2 div.sk-toggleable__content pre {margin: 0.2em;color: black;border-radius: 0.25em;background-color: #f0f8ff;}#sk-container-id-2 input.sk-toggleable__control:checked~div.sk-toggleable__content {max-height: 200px;max-width: 100%;overflow: auto;}#sk-container-id-2 input.sk-toggleable__control:checked~label.sk-toggleable__label-arrow:before {content: \"▾\";}#sk-container-id-2 div.sk-estimator input.sk-toggleable__control:checked~label.sk-toggleable__label {background-color: #d4ebff;}#sk-container-id-2 div.sk-label input.sk-toggleable__control:checked~label.sk-toggleable__label {background-color: #d4ebff;}#sk-container-id-2 input.sk-hidden--visually {border: 0;clip: rect(1px 1px 1px 1px);clip: rect(1px, 1px, 1px, 1px);height: 1px;margin: -1px;overflow: hidden;padding: 0;position: absolute;width: 1px;}#sk-container-id-2 div.sk-estimator {font-family: monospace;background-color: #f0f8ff;border: 1px dotted black;border-radius: 0.25em;box-sizing: border-box;margin-bottom: 0.5em;}#sk-container-id-2 div.sk-estimator:hover {background-color: #d4ebff;}#sk-container-id-2 div.sk-parallel-item::after {content: \"\";width: 100%;border-bottom: 1px solid gray;flex-grow: 1;}#sk-container-id-2 div.sk-label:hover label.sk-toggleable__label {background-color: #d4ebff;}#sk-container-id-2 div.sk-serial::before {content: \"\";position: absolute;border-left: 1px solid gray;box-sizing: border-box;top: 0;bottom: 0;left: 50%;z-index: 0;}#sk-container-id-2 div.sk-serial {display: flex;flex-direction: column;align-items: center;background-color: white;padding-right: 0.2em;padding-left: 0.2em;position: relative;}#sk-container-id-2 div.sk-item {position: relative;z-index: 1;}#sk-container-id-2 div.sk-parallel {display: flex;align-items: stretch;justify-content: center;background-color: white;position: relative;}#sk-container-id-2 div.sk-item::before, #sk-container-id-2 div.sk-parallel-item::before {content: \"\";position: absolute;border-left: 1px solid gray;box-sizing: border-box;top: 0;bottom: 0;left: 50%;z-index: -1;}#sk-container-id-2 div.sk-parallel-item {display: flex;flex-direction: column;z-index: 1;position: relative;background-color: white;}#sk-container-id-2 div.sk-parallel-item:first-child::after {align-self: flex-end;width: 50%;}#sk-container-id-2 div.sk-parallel-item:last-child::after {align-self: flex-start;width: 50%;}#sk-container-id-2 div.sk-parallel-item:only-child::after {width: 0;}#sk-container-id-2 div.sk-dashed-wrapped {border: 1px dashed gray;margin: 0 0.4em 0.5em 0.4em;box-sizing: border-box;padding-bottom: 0.4em;background-color: white;}#sk-container-id-2 div.sk-label label {font-family: monospace;font-weight: bold;display: inline-block;line-height: 1.2em;}#sk-container-id-2 div.sk-label-container {text-align: center;}#sk-container-id-2 div.sk-container {/* jupyter's `normalize.less` sets `[hidden] { display: none; }` but bootstrap.min.css set `[hidden] { display: none !important; }` so we also need the `!important` here to be able to override the default hidden behavior on the sphinx rendered scikit-learn.org. See: https://github.com/scikit-learn/scikit-learn/issues/21755 */display: inline-block !important;position: relative;}#sk-container-id-2 div.sk-text-repr-fallback {display: none;}</style><div id=\"sk-container-id-2\" class=\"sk-top-container\"><div class=\"sk-text-repr-fallback\"><pre>RandomForestRegressor(max_depth=5, min_samples_leaf=10, n_jobs=-1,\n",
       "                      random_state=42)</pre><b>In a Jupyter environment, please rerun this cell to show the HTML representation or trust the notebook. <br />On GitHub, the HTML representation is unable to render, please try loading this page with nbviewer.org.</b></div><div class=\"sk-container\" hidden><div class=\"sk-item\"><div class=\"sk-estimator sk-toggleable\"><input class=\"sk-toggleable__control sk-hidden--visually\" id=\"sk-estimator-id-2\" type=\"checkbox\" checked><label for=\"sk-estimator-id-2\" class=\"sk-toggleable__label sk-toggleable__label-arrow\">RandomForestRegressor</label><div class=\"sk-toggleable__content\"><pre>RandomForestRegressor(max_depth=5, min_samples_leaf=10, n_jobs=-1,\n",
       "                      random_state=42)</pre></div></div></div></div></div>"
      ],
      "text/plain": [
       "RandomForestRegressor(max_depth=5, min_samples_leaf=10, n_jobs=-1,\n",
       "                      random_state=42)"
      ]
     },
     "execution_count": 65,
     "metadata": {},
     "output_type": "execute_result"
    }
   ],
   "source": [
    "rf.fit(X_train,y_train)"
   ]
  },
  {
   "cell_type": "code",
   "execution_count": 66,
   "id": "702a6067",
   "metadata": {},
   "outputs": [],
   "source": [
    "sample_tree = rf.estimators_[1]"
   ]
  },
  {
   "cell_type": "code",
   "execution_count": 71,
   "id": "c422eeff",
   "metadata": {},
   "outputs": [
    {
     "data": {
      "text/plain": [
       "[DecisionTreeRegressor(max_depth=5, max_features=1.0, min_samples_leaf=10,\n",
       "                       random_state=1608637542),\n",
       " DecisionTreeRegressor(max_depth=5, max_features=1.0, min_samples_leaf=10,\n",
       "                       random_state=1273642419),\n",
       " DecisionTreeRegressor(max_depth=5, max_features=1.0, min_samples_leaf=10,\n",
       "                       random_state=1935803228),\n",
       " DecisionTreeRegressor(max_depth=5, max_features=1.0, min_samples_leaf=10,\n",
       "                       random_state=787846414),\n",
       " DecisionTreeRegressor(max_depth=5, max_features=1.0, min_samples_leaf=10,\n",
       "                       random_state=996406378),\n",
       " DecisionTreeRegressor(max_depth=5, max_features=1.0, min_samples_leaf=10,\n",
       "                       random_state=1201263687),\n",
       " DecisionTreeRegressor(max_depth=5, max_features=1.0, min_samples_leaf=10,\n",
       "                       random_state=423734972),\n",
       " DecisionTreeRegressor(max_depth=5, max_features=1.0, min_samples_leaf=10,\n",
       "                       random_state=415968276),\n",
       " DecisionTreeRegressor(max_depth=5, max_features=1.0, min_samples_leaf=10,\n",
       "                       random_state=670094950),\n",
       " DecisionTreeRegressor(max_depth=5, max_features=1.0, min_samples_leaf=10,\n",
       "                       random_state=1914837113),\n",
       " DecisionTreeRegressor(max_depth=5, max_features=1.0, min_samples_leaf=10,\n",
       "                       random_state=669991378),\n",
       " DecisionTreeRegressor(max_depth=5, max_features=1.0, min_samples_leaf=10,\n",
       "                       random_state=429389014),\n",
       " DecisionTreeRegressor(max_depth=5, max_features=1.0, min_samples_leaf=10,\n",
       "                       random_state=249467210),\n",
       " DecisionTreeRegressor(max_depth=5, max_features=1.0, min_samples_leaf=10,\n",
       "                       random_state=1972458954),\n",
       " DecisionTreeRegressor(max_depth=5, max_features=1.0, min_samples_leaf=10,\n",
       "                       random_state=1572714583),\n",
       " DecisionTreeRegressor(max_depth=5, max_features=1.0, min_samples_leaf=10,\n",
       "                       random_state=1433267572),\n",
       " DecisionTreeRegressor(max_depth=5, max_features=1.0, min_samples_leaf=10,\n",
       "                       random_state=434285667),\n",
       " DecisionTreeRegressor(max_depth=5, max_features=1.0, min_samples_leaf=10,\n",
       "                       random_state=613608295),\n",
       " DecisionTreeRegressor(max_depth=5, max_features=1.0, min_samples_leaf=10,\n",
       "                       random_state=893664919),\n",
       " DecisionTreeRegressor(max_depth=5, max_features=1.0, min_samples_leaf=10,\n",
       "                       random_state=648061058),\n",
       " DecisionTreeRegressor(max_depth=5, max_features=1.0, min_samples_leaf=10,\n",
       "                       random_state=88409749),\n",
       " DecisionTreeRegressor(max_depth=5, max_features=1.0, min_samples_leaf=10,\n",
       "                       random_state=242285876),\n",
       " DecisionTreeRegressor(max_depth=5, max_features=1.0, min_samples_leaf=10,\n",
       "                       random_state=2018247425),\n",
       " DecisionTreeRegressor(max_depth=5, max_features=1.0, min_samples_leaf=10,\n",
       "                       random_state=953477463),\n",
       " DecisionTreeRegressor(max_depth=5, max_features=1.0, min_samples_leaf=10,\n",
       "                       random_state=1427830251),\n",
       " DecisionTreeRegressor(max_depth=5, max_features=1.0, min_samples_leaf=10,\n",
       "                       random_state=1883569565),\n",
       " DecisionTreeRegressor(max_depth=5, max_features=1.0, min_samples_leaf=10,\n",
       "                       random_state=911989541),\n",
       " DecisionTreeRegressor(max_depth=5, max_features=1.0, min_samples_leaf=10,\n",
       "                       random_state=3344769),\n",
       " DecisionTreeRegressor(max_depth=5, max_features=1.0, min_samples_leaf=10,\n",
       "                       random_state=780932287),\n",
       " DecisionTreeRegressor(max_depth=5, max_features=1.0, min_samples_leaf=10,\n",
       "                       random_state=2114032571),\n",
       " DecisionTreeRegressor(max_depth=5, max_features=1.0, min_samples_leaf=10,\n",
       "                       random_state=787716372),\n",
       " DecisionTreeRegressor(max_depth=5, max_features=1.0, min_samples_leaf=10,\n",
       "                       random_state=504579232),\n",
       " DecisionTreeRegressor(max_depth=5, max_features=1.0, min_samples_leaf=10,\n",
       "                       random_state=1306710475),\n",
       " DecisionTreeRegressor(max_depth=5, max_features=1.0, min_samples_leaf=10,\n",
       "                       random_state=479546681),\n",
       " DecisionTreeRegressor(max_depth=5, max_features=1.0, min_samples_leaf=10,\n",
       "                       random_state=106328085),\n",
       " DecisionTreeRegressor(max_depth=5, max_features=1.0, min_samples_leaf=10,\n",
       "                       random_state=30349564),\n",
       " DecisionTreeRegressor(max_depth=5, max_features=1.0, min_samples_leaf=10,\n",
       "                       random_state=1855189739),\n",
       " DecisionTreeRegressor(max_depth=5, max_features=1.0, min_samples_leaf=10,\n",
       "                       random_state=99052376),\n",
       " DecisionTreeRegressor(max_depth=5, max_features=1.0, min_samples_leaf=10,\n",
       "                       random_state=1250819632),\n",
       " DecisionTreeRegressor(max_depth=5, max_features=1.0, min_samples_leaf=10,\n",
       "                       random_state=106406362),\n",
       " DecisionTreeRegressor(max_depth=5, max_features=1.0, min_samples_leaf=10,\n",
       "                       random_state=480404538),\n",
       " DecisionTreeRegressor(max_depth=5, max_features=1.0, min_samples_leaf=10,\n",
       "                       random_state=1717389822),\n",
       " DecisionTreeRegressor(max_depth=5, max_features=1.0, min_samples_leaf=10,\n",
       "                       random_state=599121577),\n",
       " DecisionTreeRegressor(max_depth=5, max_features=1.0, min_samples_leaf=10,\n",
       "                       random_state=200427519),\n",
       " DecisionTreeRegressor(max_depth=5, max_features=1.0, min_samples_leaf=10,\n",
       "                       random_state=1254751707),\n",
       " DecisionTreeRegressor(max_depth=5, max_features=1.0, min_samples_leaf=10,\n",
       "                       random_state=2034764475),\n",
       " DecisionTreeRegressor(max_depth=5, max_features=1.0, min_samples_leaf=10,\n",
       "                       random_state=1573512143),\n",
       " DecisionTreeRegressor(max_depth=5, max_features=1.0, min_samples_leaf=10,\n",
       "                       random_state=999745294),\n",
       " DecisionTreeRegressor(max_depth=5, max_features=1.0, min_samples_leaf=10,\n",
       "                       random_state=1958805693),\n",
       " DecisionTreeRegressor(max_depth=5, max_features=1.0, min_samples_leaf=10,\n",
       "                       random_state=389151677),\n",
       " DecisionTreeRegressor(max_depth=5, max_features=1.0, min_samples_leaf=10,\n",
       "                       random_state=1224821422),\n",
       " DecisionTreeRegressor(max_depth=5, max_features=1.0, min_samples_leaf=10,\n",
       "                       random_state=508464061),\n",
       " DecisionTreeRegressor(max_depth=5, max_features=1.0, min_samples_leaf=10,\n",
       "                       random_state=857592370),\n",
       " DecisionTreeRegressor(max_depth=5, max_features=1.0, min_samples_leaf=10,\n",
       "                       random_state=1642661739),\n",
       " DecisionTreeRegressor(max_depth=5, max_features=1.0, min_samples_leaf=10,\n",
       "                       random_state=61136438),\n",
       " DecisionTreeRegressor(max_depth=5, max_features=1.0, min_samples_leaf=10,\n",
       "                       random_state=2075460851),\n",
       " DecisionTreeRegressor(max_depth=5, max_features=1.0, min_samples_leaf=10,\n",
       "                       random_state=396917567),\n",
       " DecisionTreeRegressor(max_depth=5, max_features=1.0, min_samples_leaf=10,\n",
       "                       random_state=2004731384),\n",
       " DecisionTreeRegressor(max_depth=5, max_features=1.0, min_samples_leaf=10,\n",
       "                       random_state=199502978),\n",
       " DecisionTreeRegressor(max_depth=5, max_features=1.0, min_samples_leaf=10,\n",
       "                       random_state=1545932260),\n",
       " DecisionTreeRegressor(max_depth=5, max_features=1.0, min_samples_leaf=10,\n",
       "                       random_state=461901618),\n",
       " DecisionTreeRegressor(max_depth=5, max_features=1.0, min_samples_leaf=10,\n",
       "                       random_state=774414982),\n",
       " DecisionTreeRegressor(max_depth=5, max_features=1.0, min_samples_leaf=10,\n",
       "                       random_state=732395540),\n",
       " DecisionTreeRegressor(max_depth=5, max_features=1.0, min_samples_leaf=10,\n",
       "                       random_state=1934879560),\n",
       " DecisionTreeRegressor(max_depth=5, max_features=1.0, min_samples_leaf=10,\n",
       "                       random_state=279394470),\n",
       " DecisionTreeRegressor(max_depth=5, max_features=1.0, min_samples_leaf=10,\n",
       "                       random_state=56972561),\n",
       " DecisionTreeRegressor(max_depth=5, max_features=1.0, min_samples_leaf=10,\n",
       "                       random_state=1927948675),\n",
       " DecisionTreeRegressor(max_depth=5, max_features=1.0, min_samples_leaf=10,\n",
       "                       random_state=1899242072),\n",
       " DecisionTreeRegressor(max_depth=5, max_features=1.0, min_samples_leaf=10,\n",
       "                       random_state=1999874363),\n",
       " DecisionTreeRegressor(max_depth=5, max_features=1.0, min_samples_leaf=10,\n",
       "                       random_state=271820813),\n",
       " DecisionTreeRegressor(max_depth=5, max_features=1.0, min_samples_leaf=10,\n",
       "                       random_state=1324556529),\n",
       " DecisionTreeRegressor(max_depth=5, max_features=1.0, min_samples_leaf=10,\n",
       "                       random_state=1655351289),\n",
       " DecisionTreeRegressor(max_depth=5, max_features=1.0, min_samples_leaf=10,\n",
       "                       random_state=1308306184),\n",
       " DecisionTreeRegressor(max_depth=5, max_features=1.0, min_samples_leaf=10,\n",
       "                       random_state=68574553),\n",
       " DecisionTreeRegressor(max_depth=5, max_features=1.0, min_samples_leaf=10,\n",
       "                       random_state=419498548),\n",
       " DecisionTreeRegressor(max_depth=5, max_features=1.0, min_samples_leaf=10,\n",
       "                       random_state=991681409),\n",
       " DecisionTreeRegressor(max_depth=5, max_features=1.0, min_samples_leaf=10,\n",
       "                       random_state=791274835),\n",
       " DecisionTreeRegressor(max_depth=5, max_features=1.0, min_samples_leaf=10,\n",
       "                       random_state=1035196507),\n",
       " DecisionTreeRegressor(max_depth=5, max_features=1.0, min_samples_leaf=10,\n",
       "                       random_state=1890440558),\n",
       " DecisionTreeRegressor(max_depth=5, max_features=1.0, min_samples_leaf=10,\n",
       "                       random_state=787110843),\n",
       " DecisionTreeRegressor(max_depth=5, max_features=1.0, min_samples_leaf=10,\n",
       "                       random_state=524150214),\n",
       " DecisionTreeRegressor(max_depth=5, max_features=1.0, min_samples_leaf=10,\n",
       "                       random_state=472432043),\n",
       " DecisionTreeRegressor(max_depth=5, max_features=1.0, min_samples_leaf=10,\n",
       "                       random_state=2126768636),\n",
       " DecisionTreeRegressor(max_depth=5, max_features=1.0, min_samples_leaf=10,\n",
       "                       random_state=1431061255),\n",
       " DecisionTreeRegressor(max_depth=5, max_features=1.0, min_samples_leaf=10,\n",
       "                       random_state=147697582),\n",
       " DecisionTreeRegressor(max_depth=5, max_features=1.0, min_samples_leaf=10,\n",
       "                       random_state=744595490),\n",
       " DecisionTreeRegressor(max_depth=5, max_features=1.0, min_samples_leaf=10,\n",
       "                       random_state=1758017741),\n",
       " DecisionTreeRegressor(max_depth=5, max_features=1.0, min_samples_leaf=10,\n",
       "                       random_state=1679592528),\n",
       " DecisionTreeRegressor(max_depth=5, max_features=1.0, min_samples_leaf=10,\n",
       "                       random_state=1111451555),\n",
       " DecisionTreeRegressor(max_depth=5, max_features=1.0, min_samples_leaf=10,\n",
       "                       random_state=782698033),\n",
       " DecisionTreeRegressor(max_depth=5, max_features=1.0, min_samples_leaf=10,\n",
       "                       random_state=698027879),\n",
       " DecisionTreeRegressor(max_depth=5, max_features=1.0, min_samples_leaf=10,\n",
       "                       random_state=1096768899),\n",
       " DecisionTreeRegressor(max_depth=5, max_features=1.0, min_samples_leaf=10,\n",
       "                       random_state=1338788865),\n",
       " DecisionTreeRegressor(max_depth=5, max_features=1.0, min_samples_leaf=10,\n",
       "                       random_state=1826030589),\n",
       " DecisionTreeRegressor(max_depth=5, max_features=1.0, min_samples_leaf=10,\n",
       "                       random_state=86191493),\n",
       " DecisionTreeRegressor(max_depth=5, max_features=1.0, min_samples_leaf=10,\n",
       "                       random_state=893102645),\n",
       " DecisionTreeRegressor(max_depth=5, max_features=1.0, min_samples_leaf=10,\n",
       "                       random_state=200619113),\n",
       " DecisionTreeRegressor(max_depth=5, max_features=1.0, min_samples_leaf=10,\n",
       "                       random_state=290770691),\n",
       " DecisionTreeRegressor(max_depth=5, max_features=1.0, min_samples_leaf=10,\n",
       "                       random_state=793943861),\n",
       " DecisionTreeRegressor(max_depth=5, max_features=1.0, min_samples_leaf=10,\n",
       "                       random_state=134489564)]"
      ]
     },
     "execution_count": 71,
     "metadata": {},
     "output_type": "execute_result"
    }
   ],
   "source": [
    "rf.estimators_"
   ]
  },
  {
   "cell_type": "code",
   "execution_count": 72,
   "id": "56555699",
   "metadata": {},
   "outputs": [],
   "source": [
    "def get_dt_graph(model):\n",
    "    from sklearn import tree\n",
    "    plt.figure(figsize=(12,8))\n",
    "    tree.plot_tree(model,filled=True,rounded=True)\n",
    "    plt.show(block=False)"
   ]
  },
  {
   "cell_type": "code",
   "execution_count": 78,
   "id": "8730bb86",
   "metadata": {},
   "outputs": [],
   "source": [
    "def evaluate_model(dt_classifier):\n",
    "    print(\"Train set performance\")\n",
    "    print(r2_score(y_train,dt_classifier.predict(X_train)))\n",
    "\n",
    "    print(\"-\"*50)\n",
    "    print(\"Test set performance\")\n",
    "    print(r2_score(y_test,dt_classifier.predict(X_test)))\n",
    "    "
   ]
  },
  {
   "cell_type": "code",
   "execution_count": 73,
   "id": "ae2fbb67",
   "metadata": {},
   "outputs": [
    {
     "data": {
      "image/png": "[encoded data removed]",
      "text/plain": [
       "<Figure size 1200x800 with 1 Axes>"
      ]
     },
     "metadata": {},
     "output_type": "display_data"
    }
   ],
   "source": [
    "get_dt_graph(sample_tree)"
   ]
  },
  {
   "cell_type": "code",
   "execution_count": 76,
   "id": "aa925419",
   "metadata": {},
   "outputs": [],
   "source": [
    "model = rf.estimator_"
   ]
  },
  {
   "cell_type": "code",
   "execution_count": 77,
   "id": "9cef06e7",
   "metadata": {},
   "outputs": [
    {
     "data": {
      "text/html": [
       "<style>#sk-container-id-5 {color: black;background-color: white;}#sk-container-id-5 pre{padding: 0;}#sk-container-id-5 div.sk-toggleable {background-color: white;}#sk-container-id-5 label.sk-toggleable__label {cursor: pointer;display: block;width: 100%;margin-bottom: 0;padding: 0.3em;box-sizing: border-box;text-align: center;}#sk-container-id-5 label.sk-toggleable__label-arrow:before {content: \"▸\";float: left;margin-right: 0.25em;color: #696969;}#sk-container-id-5 label.sk-toggleable__label-arrow:hover:before {color: black;}#sk-container-id-5 div.sk-estimator:hover label.sk-toggleable__label-arrow:before {color: black;}#sk-container-id-5 div.sk-toggleable__content {max-height: 0;max-width: 0;overflow: hidden;text-align: left;background-color: #f0f8ff;}#sk-container-id-5 div.sk-toggleable__content pre {margin: 0.2em;color: black;border-radius: 0.25em;background-color: #f0f8ff;}#sk-container-id-5 input.sk-toggleable__control:checked~div.sk-toggleable__content {max-height: 200px;max-width: 100%;overflow: auto;}#sk-container-id-5 input.sk-toggleable__control:checked~label.sk-toggleable__label-arrow:before {content: \"▾\";}#sk-container-id-5 div.sk-estimator input.sk-toggleable__control:checked~label.sk-toggleable__label {background-color: #d4ebff;}#sk-container-id-5 div.sk-label input.sk-toggleable__control:checked~label.sk-toggleable__label {background-color: #d4ebff;}#sk-container-id-5 input.sk-hidden--visually {border: 0;clip: rect(1px 1px 1px 1px);clip: rect(1px, 1px, 1px, 1px);height: 1px;margin: -1px;overflow: hidden;padding: 0;position: absolute;width: 1px;}#sk-container-id-5 div.sk-estimator {font-family: monospace;background-color: #f0f8ff;border: 1px dotted black;border-radius: 0.25em;box-sizing: border-box;margin-bottom: 0.5em;}#sk-container-id-5 div.sk-estimator:hover {background-color: #d4ebff;}#sk-container-id-5 div.sk-parallel-item::after {content: \"\";width: 100%;border-bottom: 1px solid gray;flex-grow: 1;}#sk-container-id-5 div.sk-label:hover label.sk-toggleable__label {background-color: #d4ebff;}#sk-container-id-5 div.sk-serial::before {content: \"\";position: absolute;border-left: 1px solid gray;box-sizing: border-box;top: 0;bottom: 0;left: 50%;z-index: 0;}#sk-container-id-5 div.sk-serial {display: flex;flex-direction: column;align-items: center;background-color: white;padding-right: 0.2em;padding-left: 0.2em;position: relative;}#sk-container-id-5 div.sk-item {position: relative;z-index: 1;}#sk-container-id-5 div.sk-parallel {display: flex;align-items: stretch;justify-content: center;background-color: white;position: relative;}#sk-container-id-5 div.sk-item::before, #sk-container-id-5 div.sk-parallel-item::before {content: \"\";position: absolute;border-left: 1px solid gray;box-sizing: border-box;top: 0;bottom: 0;left: 50%;z-index: -1;}#sk-container-id-5 div.sk-parallel-item {display: flex;flex-direction: column;z-index: 1;position: relative;background-color: white;}#sk-container-id-5 div.sk-parallel-item:first-child::after {align-self: flex-end;width: 50%;}#sk-container-id-5 div.sk-parallel-item:last-child::after {align-self: flex-start;width: 50%;}#sk-container-id-5 div.sk-parallel-item:only-child::after {width: 0;}#sk-container-id-5 div.sk-dashed-wrapped {border: 1px dashed gray;margin: 0 0.4em 0.5em 0.4em;box-sizing: border-box;padding-bottom: 0.4em;background-color: white;}#sk-container-id-5 div.sk-label label {font-family: monospace;font-weight: bold;display: inline-block;line-height: 1.2em;}#sk-container-id-5 div.sk-label-container {text-align: center;}#sk-container-id-5 div.sk-container {/* jupyter's `normalize.less` sets `[hidden] { display: none; }` but bootstrap.min.css set `[hidden] { display: none !important; }` so we also need the `!important` here to be able to override the default hidden behavior on the sphinx rendered scikit-learn.org. See: https://github.com/scikit-learn/scikit-learn/issues/21755 */display: inline-block !important;position: relative;}#sk-container-id-5 div.sk-text-repr-fallback {display: none;}</style><div id=\"sk-container-id-5\" class=\"sk-top-container\"><div class=\"sk-text-repr-fallback\"><pre>DecisionTreeRegressor()</pre><b>In a Jupyter environment, please rerun this cell to show the HTML representation or trust the notebook. <br />On GitHub, the HTML representation is unable to render, please try loading this page with nbviewer.org.</b></div><div class=\"sk-container\" hidden><div class=\"sk-item\"><div class=\"sk-estimator sk-toggleable\"><input class=\"sk-toggleable__control sk-hidden--visually\" id=\"sk-estimator-id-5\" type=\"checkbox\" checked><label for=\"sk-estimator-id-5\" class=\"sk-toggleable__label sk-toggleable__label-arrow\">DecisionTreeRegressor</label><div class=\"sk-toggleable__content\"><pre>DecisionTreeRegressor()</pre></div></div></div></div></div>"
      ],
      "text/plain": [
       "DecisionTreeRegressor()"
      ]
     },
     "execution_count": 77,
     "metadata": {},
     "output_type": "execute_result"
    }
   ],
   "source": [
    "model.fit(X_train,y_train)"
   ]
  },
  {
   "cell_type": "code",
   "execution_count": 79,
   "id": "bb77d673",
   "metadata": {},
   "outputs": [
    {
     "name": "stdout",
     "output_type": "stream",
     "text": [
      "Train set performance\n",
      "0.9984486155583219\n",
      "--------------------------------------------------\n",
      "Test set performance\n",
      "0.29831133708616553\n"
     ]
    }
   ],
   "source": [
    "evaluate_model(model)"
   ]
  },
  {
   "cell_type": "markdown",
   "id": "5cd6d39b",
   "metadata": {},
   "source": [
    "- As per the model performancer the model is extremely overfitting."
   ]
  },
  {
   "cell_type": "markdown",
   "id": "858d7de0",
   "metadata": {},
   "source": [
    "### Feature importances"
   ]
  },
  {
   "cell_type": "code",
   "execution_count": 80,
   "id": "34091133",
   "metadata": {},
   "outputs": [
    {
     "data": {
      "text/plain": [
       "array([0.48595672, 0.04755409, 0.16778349, 0.04403001, 0.01305031,\n",
       "       0.01439395, 0.03813161, 0.00908037, 0.0224981 , 0.05015417,\n",
       "       0.04401522, 0.06335196])"
      ]
     },
     "execution_count": 80,
     "metadata": {},
     "output_type": "execute_result"
    }
   ],
   "source": [
    "model.feature_importances_"
   ]
  },
  {
   "cell_type": "code",
   "execution_count": 81,
   "id": "5fe4ee07",
   "metadata": {},
   "outputs": [
    {
     "data": {
      "text/html": [
       "<div>\n",
       "<style scoped>\n",
       "    .dataframe tbody tr th:only-of-type {\n",
       "        vertical-align: middle;\n",
       "    }\n",
       "\n",
       "    .dataframe tbody tr th {\n",
       "        vertical-align: top;\n",
       "    }\n",
       "\n",
       "    .dataframe thead th {\n",
       "        text-align: right;\n",
       "    }\n",
       "</style>\n",
       "<table border=\"1\" class=\"dataframe\">\n",
       "  <thead>\n",
       "    <tr style=\"text-align: right;\">\n",
       "      <th></th>\n",
       "      <th>Varname</th>\n",
       "      <th>Imp</th>\n",
       "    </tr>\n",
       "  </thead>\n",
       "  <tbody>\n",
       "    <tr>\n",
       "      <th>0</th>\n",
       "      <td>area</td>\n",
       "      <td>0.485957</td>\n",
       "    </tr>\n",
       "    <tr>\n",
       "      <th>1</th>\n",
       "      <td>bedrooms</td>\n",
       "      <td>0.047554</td>\n",
       "    </tr>\n",
       "    <tr>\n",
       "      <th>2</th>\n",
       "      <td>bathrooms</td>\n",
       "      <td>0.167783</td>\n",
       "    </tr>\n",
       "    <tr>\n",
       "      <th>3</th>\n",
       "      <td>stories</td>\n",
       "      <td>0.044030</td>\n",
       "    </tr>\n",
       "    <tr>\n",
       "      <th>4</th>\n",
       "      <td>mainroad</td>\n",
       "      <td>0.013050</td>\n",
       "    </tr>\n",
       "    <tr>\n",
       "      <th>5</th>\n",
       "      <td>guestroom</td>\n",
       "      <td>0.014394</td>\n",
       "    </tr>\n",
       "    <tr>\n",
       "      <th>6</th>\n",
       "      <td>basement</td>\n",
       "      <td>0.038132</td>\n",
       "    </tr>\n",
       "    <tr>\n",
       "      <th>7</th>\n",
       "      <td>hotwaterheating</td>\n",
       "      <td>0.009080</td>\n",
       "    </tr>\n",
       "    <tr>\n",
       "      <th>8</th>\n",
       "      <td>airconditioning</td>\n",
       "      <td>0.022498</td>\n",
       "    </tr>\n",
       "    <tr>\n",
       "      <th>9</th>\n",
       "      <td>parking</td>\n",
       "      <td>0.050154</td>\n",
       "    </tr>\n",
       "    <tr>\n",
       "      <th>10</th>\n",
       "      <td>prefarea</td>\n",
       "      <td>0.044015</td>\n",
       "    </tr>\n",
       "    <tr>\n",
       "      <th>11</th>\n",
       "      <td>furnishingstatus</td>\n",
       "      <td>0.063352</td>\n",
       "    </tr>\n",
       "  </tbody>\n",
       "</table>\n",
       "</div>"
      ],
      "text/plain": [
       "             Varname       Imp\n",
       "0               area  0.485957\n",
       "1           bedrooms  0.047554\n",
       "2          bathrooms  0.167783\n",
       "3            stories  0.044030\n",
       "4           mainroad  0.013050\n",
       "5          guestroom  0.014394\n",
       "6           basement  0.038132\n",
       "7    hotwaterheating  0.009080\n",
       "8    airconditioning  0.022498\n",
       "9            parking  0.050154\n",
       "10          prefarea  0.044015\n",
       "11  furnishingstatus  0.063352"
      ]
     },
     "execution_count": 81,
     "metadata": {},
     "output_type": "execute_result"
    }
   ],
   "source": [
    "imp = pd.DataFrame({\n",
    "    'Varname':X_train.columns,\n",
    "    'Imp': model.feature_importances_\n",
    "})\n",
    "imp"
   ]
  },
  {
   "cell_type": "code",
   "execution_count": 83,
   "id": "9d5dc800",
   "metadata": {},
   "outputs": [
    {
     "data": {
      "text/html": [
       "<div>\n",
       "<style scoped>\n",
       "    .dataframe tbody tr th:only-of-type {\n",
       "        vertical-align: middle;\n",
       "    }\n",
       "\n",
       "    .dataframe tbody tr th {\n",
       "        vertical-align: top;\n",
       "    }\n",
       "\n",
       "    .dataframe thead th {\n",
       "        text-align: right;\n",
       "    }\n",
       "</style>\n",
       "<table border=\"1\" class=\"dataframe\">\n",
       "  <thead>\n",
       "    <tr style=\"text-align: right;\">\n",
       "      <th></th>\n",
       "      <th>Varname</th>\n",
       "      <th>Imp</th>\n",
       "    </tr>\n",
       "  </thead>\n",
       "  <tbody>\n",
       "    <tr>\n",
       "      <th>0</th>\n",
       "      <td>area</td>\n",
       "      <td>0.485957</td>\n",
       "    </tr>\n",
       "    <tr>\n",
       "      <th>2</th>\n",
       "      <td>bathrooms</td>\n",
       "      <td>0.167783</td>\n",
       "    </tr>\n",
       "    <tr>\n",
       "      <th>11</th>\n",
       "      <td>furnishingstatus</td>\n",
       "      <td>0.063352</td>\n",
       "    </tr>\n",
       "    <tr>\n",
       "      <th>9</th>\n",
       "      <td>parking</td>\n",
       "      <td>0.050154</td>\n",
       "    </tr>\n",
       "    <tr>\n",
       "      <th>1</th>\n",
       "      <td>bedrooms</td>\n",
       "      <td>0.047554</td>\n",
       "    </tr>\n",
       "    <tr>\n",
       "      <th>3</th>\n",
       "      <td>stories</td>\n",
       "      <td>0.044030</td>\n",
       "    </tr>\n",
       "    <tr>\n",
       "      <th>10</th>\n",
       "      <td>prefarea</td>\n",
       "      <td>0.044015</td>\n",
       "    </tr>\n",
       "    <tr>\n",
       "      <th>6</th>\n",
       "      <td>basement</td>\n",
       "      <td>0.038132</td>\n",
       "    </tr>\n",
       "    <tr>\n",
       "      <th>8</th>\n",
       "      <td>airconditioning</td>\n",
       "      <td>0.022498</td>\n",
       "    </tr>\n",
       "    <tr>\n",
       "      <th>5</th>\n",
       "      <td>guestroom</td>\n",
       "      <td>0.014394</td>\n",
       "    </tr>\n",
       "    <tr>\n",
       "      <th>4</th>\n",
       "      <td>mainroad</td>\n",
       "      <td>0.013050</td>\n",
       "    </tr>\n",
       "    <tr>\n",
       "      <th>7</th>\n",
       "      <td>hotwaterheating</td>\n",
       "      <td>0.009080</td>\n",
       "    </tr>\n",
       "  </tbody>\n",
       "</table>\n",
       "</div>"
      ],
      "text/plain": [
       "             Varname       Imp\n",
       "0               area  0.485957\n",
       "2          bathrooms  0.167783\n",
       "11  furnishingstatus  0.063352\n",
       "9            parking  0.050154\n",
       "1           bedrooms  0.047554\n",
       "3            stories  0.044030\n",
       "10          prefarea  0.044015\n",
       "6           basement  0.038132\n",
       "8    airconditioning  0.022498\n",
       "5          guestroom  0.014394\n",
       "4           mainroad  0.013050\n",
       "7    hotwaterheating  0.009080"
      ]
     },
     "execution_count": 83,
     "metadata": {},
     "output_type": "execute_result"
    }
   ],
   "source": [
    "imp.sort_values(by='Imp',ascending=False)"
   ]
  },
  {
   "cell_type": "markdown",
   "id": "c6a071ff",
   "metadata": {},
   "source": [
    "- Here 'Area' seems  to be the most important feature."
   ]
  }
 ],
 "metadata": {
  "kernelspec": {
   "display_name": "Python 3 (ipykernel)",
   "language": "python",
   "name": "python3"
  },
  "language_info": {
   "codemirror_mode": {
    "name": "ipython",
    "version": 3
   },
   "file_extension": ".py",
   "mimetype": "text/x-python",
   "name": "python",
   "nbconvert_exporter": "python",
   "pygments_lexer": "ipython3",
   "version": "3.10.9"
  }
 },
 "nbformat": 4,
 "nbformat_minor": 5
}
