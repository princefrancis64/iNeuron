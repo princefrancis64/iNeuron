{
 "cells": [
  {
   "cell_type": "code",
   "execution_count": 1,
   "id": "d752bef6",
   "metadata": {},
   "outputs": [],
   "source": [
    "## Importing the libraries\n",
    "import pandas as pd\n",
    "import numpy as np\n",
    "import matplotlib.pyplot as plt\n",
    "import seaborn as sns"
   ]
  },
  {
   "cell_type": "code",
   "execution_count": 23,
   "id": "86c18276",
   "metadata": {},
   "outputs": [
    {
     "data": {
      "text/html": [
       "<div>\n",
       "<style scoped>\n",
       "    .dataframe tbody tr th:only-of-type {\n",
       "        vertical-align: middle;\n",
       "    }\n",
       "\n",
       "    .dataframe tbody tr th {\n",
       "        vertical-align: top;\n",
       "    }\n",
       "\n",
       "    .dataframe thead th {\n",
       "        text-align: right;\n",
       "    }\n",
       "</style>\n",
       "<table border=\"1\" class=\"dataframe\">\n",
       "  <thead>\n",
       "    <tr style=\"text-align: right;\">\n",
       "      <th></th>\n",
       "      <th>id</th>\n",
       "      <th>target</th>\n",
       "      <th>ps_ind_01</th>\n",
       "      <th>ps_ind_02_cat</th>\n",
       "      <th>ps_ind_03</th>\n",
       "      <th>ps_ind_04_cat</th>\n",
       "      <th>ps_ind_05_cat</th>\n",
       "      <th>ps_ind_06_bin</th>\n",
       "      <th>ps_ind_07_bin</th>\n",
       "      <th>ps_ind_08_bin</th>\n",
       "      <th>...</th>\n",
       "      <th>ps_calc_11</th>\n",
       "      <th>ps_calc_12</th>\n",
       "      <th>ps_calc_13</th>\n",
       "      <th>ps_calc_14</th>\n",
       "      <th>ps_calc_15_bin</th>\n",
       "      <th>ps_calc_16_bin</th>\n",
       "      <th>ps_calc_17_bin</th>\n",
       "      <th>ps_calc_18_bin</th>\n",
       "      <th>ps_calc_19_bin</th>\n",
       "      <th>ps_calc_20_bin</th>\n",
       "    </tr>\n",
       "  </thead>\n",
       "  <tbody>\n",
       "    <tr>\n",
       "      <th>0</th>\n",
       "      <td>7</td>\n",
       "      <td>0</td>\n",
       "      <td>2</td>\n",
       "      <td>2</td>\n",
       "      <td>5</td>\n",
       "      <td>1</td>\n",
       "      <td>0</td>\n",
       "      <td>0</td>\n",
       "      <td>1</td>\n",
       "      <td>0</td>\n",
       "      <td>...</td>\n",
       "      <td>9</td>\n",
       "      <td>1</td>\n",
       "      <td>5</td>\n",
       "      <td>8</td>\n",
       "      <td>0</td>\n",
       "      <td>1</td>\n",
       "      <td>1</td>\n",
       "      <td>0</td>\n",
       "      <td>0</td>\n",
       "      <td>1</td>\n",
       "    </tr>\n",
       "    <tr>\n",
       "      <th>1</th>\n",
       "      <td>9</td>\n",
       "      <td>0</td>\n",
       "      <td>1</td>\n",
       "      <td>1</td>\n",
       "      <td>7</td>\n",
       "      <td>0</td>\n",
       "      <td>0</td>\n",
       "      <td>0</td>\n",
       "      <td>0</td>\n",
       "      <td>1</td>\n",
       "      <td>...</td>\n",
       "      <td>3</td>\n",
       "      <td>1</td>\n",
       "      <td>1</td>\n",
       "      <td>9</td>\n",
       "      <td>0</td>\n",
       "      <td>1</td>\n",
       "      <td>1</td>\n",
       "      <td>0</td>\n",
       "      <td>1</td>\n",
       "      <td>0</td>\n",
       "    </tr>\n",
       "    <tr>\n",
       "      <th>2</th>\n",
       "      <td>13</td>\n",
       "      <td>0</td>\n",
       "      <td>5</td>\n",
       "      <td>4</td>\n",
       "      <td>9</td>\n",
       "      <td>1</td>\n",
       "      <td>0</td>\n",
       "      <td>0</td>\n",
       "      <td>0</td>\n",
       "      <td>1</td>\n",
       "      <td>...</td>\n",
       "      <td>4</td>\n",
       "      <td>2</td>\n",
       "      <td>7</td>\n",
       "      <td>7</td>\n",
       "      <td>0</td>\n",
       "      <td>1</td>\n",
       "      <td>1</td>\n",
       "      <td>0</td>\n",
       "      <td>1</td>\n",
       "      <td>0</td>\n",
       "    </tr>\n",
       "    <tr>\n",
       "      <th>3</th>\n",
       "      <td>16</td>\n",
       "      <td>0</td>\n",
       "      <td>0</td>\n",
       "      <td>1</td>\n",
       "      <td>2</td>\n",
       "      <td>0</td>\n",
       "      <td>0</td>\n",
       "      <td>1</td>\n",
       "      <td>0</td>\n",
       "      <td>0</td>\n",
       "      <td>...</td>\n",
       "      <td>2</td>\n",
       "      <td>2</td>\n",
       "      <td>4</td>\n",
       "      <td>9</td>\n",
       "      <td>0</td>\n",
       "      <td>0</td>\n",
       "      <td>0</td>\n",
       "      <td>0</td>\n",
       "      <td>0</td>\n",
       "      <td>0</td>\n",
       "    </tr>\n",
       "    <tr>\n",
       "      <th>4</th>\n",
       "      <td>17</td>\n",
       "      <td>0</td>\n",
       "      <td>0</td>\n",
       "      <td>2</td>\n",
       "      <td>0</td>\n",
       "      <td>1</td>\n",
       "      <td>0</td>\n",
       "      <td>1</td>\n",
       "      <td>0</td>\n",
       "      <td>0</td>\n",
       "      <td>...</td>\n",
       "      <td>3</td>\n",
       "      <td>1</td>\n",
       "      <td>1</td>\n",
       "      <td>3</td>\n",
       "      <td>0</td>\n",
       "      <td>0</td>\n",
       "      <td>0</td>\n",
       "      <td>1</td>\n",
       "      <td>1</td>\n",
       "      <td>0</td>\n",
       "    </tr>\n",
       "  </tbody>\n",
       "</table>\n",
       "<p>5 rows × 59 columns</p>\n",
       "</div>"
      ],
      "text/plain": [
       "   id  target  ps_ind_01  ps_ind_02_cat  ps_ind_03  ps_ind_04_cat  \\\n",
       "0   7       0          2              2          5              1   \n",
       "1   9       0          1              1          7              0   \n",
       "2  13       0          5              4          9              1   \n",
       "3  16       0          0              1          2              0   \n",
       "4  17       0          0              2          0              1   \n",
       "\n",
       "   ps_ind_05_cat  ps_ind_06_bin  ps_ind_07_bin  ps_ind_08_bin  ...  \\\n",
       "0              0              0              1              0  ...   \n",
       "1              0              0              0              1  ...   \n",
       "2              0              0              0              1  ...   \n",
       "3              0              1              0              0  ...   \n",
       "4              0              1              0              0  ...   \n",
       "\n",
       "   ps_calc_11  ps_calc_12  ps_calc_13  ps_calc_14  ps_calc_15_bin  \\\n",
       "0           9           1           5           8               0   \n",
       "1           3           1           1           9               0   \n",
       "2           4           2           7           7               0   \n",
       "3           2           2           4           9               0   \n",
       "4           3           1           1           3               0   \n",
       "\n",
       "   ps_calc_16_bin  ps_calc_17_bin  ps_calc_18_bin  ps_calc_19_bin  \\\n",
       "0               1               1               0               0   \n",
       "1               1               1               0               1   \n",
       "2               1               1               0               1   \n",
       "3               0               0               0               0   \n",
       "4               0               0               1               1   \n",
       "\n",
       "   ps_calc_20_bin  \n",
       "0               1  \n",
       "1               0  \n",
       "2               0  \n",
       "3               0  \n",
       "4               0  \n",
       "\n",
       "[5 rows x 59 columns]"
      ]
     },
     "execution_count": 23,
     "metadata": {},
     "output_type": "execute_result"
    }
   ],
   "source": [
    "#read the data\n",
    "df = pd.read_csv('train.csv')\n",
    "df.head()"
   ]
  },
  {
   "cell_type": "code",
   "execution_count": 24,
   "id": "59039558",
   "metadata": {},
   "outputs": [
    {
     "data": {
      "text/plain": [
       "(595212, 59)"
      ]
     },
     "execution_count": 24,
     "metadata": {},
     "output_type": "execute_result"
    }
   ],
   "source": [
    "df.shape"
   ]
  },
  {
   "cell_type": "code",
   "execution_count": 25,
   "id": "29afce0e",
   "metadata": {},
   "outputs": [
    {
     "data": {
      "text/plain": [
       "(595212, 59)"
      ]
     },
     "execution_count": 25,
     "metadata": {},
     "output_type": "execute_result"
    }
   ],
   "source": [
    "#checking the duplicates\n",
    "df.drop_duplicates()\n",
    "df.shape"
   ]
  },
  {
   "cell_type": "code",
   "execution_count": 26,
   "id": "7c26c922",
   "metadata": {},
   "outputs": [
    {
     "name": "stdout",
     "output_type": "stream",
     "text": [
      "<class 'pandas.core.frame.DataFrame'>\n",
      "RangeIndex: 595212 entries, 0 to 595211\n",
      "Data columns (total 59 columns):\n",
      " #   Column          Non-Null Count   Dtype  \n",
      "---  ------          --------------   -----  \n",
      " 0   id              595212 non-null  int64  \n",
      " 1   target          595212 non-null  int64  \n",
      " 2   ps_ind_01       595212 non-null  int64  \n",
      " 3   ps_ind_02_cat   595212 non-null  int64  \n",
      " 4   ps_ind_03       595212 non-null  int64  \n",
      " 5   ps_ind_04_cat   595212 non-null  int64  \n",
      " 6   ps_ind_05_cat   595212 non-null  int64  \n",
      " 7   ps_ind_06_bin   595212 non-null  int64  \n",
      " 8   ps_ind_07_bin   595212 non-null  int64  \n",
      " 9   ps_ind_08_bin   595212 non-null  int64  \n",
      " 10  ps_ind_09_bin   595212 non-null  int64  \n",
      " 11  ps_ind_10_bin   595212 non-null  int64  \n",
      " 12  ps_ind_11_bin   595212 non-null  int64  \n",
      " 13  ps_ind_12_bin   595212 non-null  int64  \n",
      " 14  ps_ind_13_bin   595212 non-null  int64  \n",
      " 15  ps_ind_14       595212 non-null  int64  \n",
      " 16  ps_ind_15       595212 non-null  int64  \n",
      " 17  ps_ind_16_bin   595212 non-null  int64  \n",
      " 18  ps_ind_17_bin   595212 non-null  int64  \n",
      " 19  ps_ind_18_bin   595212 non-null  int64  \n",
      " 20  ps_reg_01       595212 non-null  float64\n",
      " 21  ps_reg_02       595212 non-null  float64\n",
      " 22  ps_reg_03       595212 non-null  float64\n",
      " 23  ps_car_01_cat   595212 non-null  int64  \n",
      " 24  ps_car_02_cat   595212 non-null  int64  \n",
      " 25  ps_car_03_cat   595212 non-null  int64  \n",
      " 26  ps_car_04_cat   595212 non-null  int64  \n",
      " 27  ps_car_05_cat   595212 non-null  int64  \n",
      " 28  ps_car_06_cat   595212 non-null  int64  \n",
      " 29  ps_car_07_cat   595212 non-null  int64  \n",
      " 30  ps_car_08_cat   595212 non-null  int64  \n",
      " 31  ps_car_09_cat   595212 non-null  int64  \n",
      " 32  ps_car_10_cat   595212 non-null  int64  \n",
      " 33  ps_car_11_cat   595212 non-null  int64  \n",
      " 34  ps_car_11       595212 non-null  int64  \n",
      " 35  ps_car_12       595212 non-null  float64\n",
      " 36  ps_car_13       595212 non-null  float64\n",
      " 37  ps_car_14       595212 non-null  float64\n",
      " 38  ps_car_15       595212 non-null  float64\n",
      " 39  ps_calc_01      595212 non-null  float64\n",
      " 40  ps_calc_02      595212 non-null  float64\n",
      " 41  ps_calc_03      595212 non-null  float64\n",
      " 42  ps_calc_04      595212 non-null  int64  \n",
      " 43  ps_calc_05      595212 non-null  int64  \n",
      " 44  ps_calc_06      595212 non-null  int64  \n",
      " 45  ps_calc_07      595212 non-null  int64  \n",
      " 46  ps_calc_08      595212 non-null  int64  \n",
      " 47  ps_calc_09      595212 non-null  int64  \n",
      " 48  ps_calc_10      595212 non-null  int64  \n",
      " 49  ps_calc_11      595212 non-null  int64  \n",
      " 50  ps_calc_12      595212 non-null  int64  \n",
      " 51  ps_calc_13      595212 non-null  int64  \n",
      " 52  ps_calc_14      595212 non-null  int64  \n",
      " 53  ps_calc_15_bin  595212 non-null  int64  \n",
      " 54  ps_calc_16_bin  595212 non-null  int64  \n",
      " 55  ps_calc_17_bin  595212 non-null  int64  \n",
      " 56  ps_calc_18_bin  595212 non-null  int64  \n",
      " 57  ps_calc_19_bin  595212 non-null  int64  \n",
      " 58  ps_calc_20_bin  595212 non-null  int64  \n",
      "dtypes: float64(10), int64(49)\n",
      "memory usage: 267.9 MB\n"
     ]
    }
   ],
   "source": [
    "df.info()"
   ]
  },
  {
   "cell_type": "code",
   "execution_count": 27,
   "id": "0fe9a1b7",
   "metadata": {},
   "outputs": [
    {
     "name": "stdout",
     "output_type": "stream",
     "text": [
      "ps_ind_02_cat has 216 obs (0.04%) missing \n",
      "ps_ind_04_cat has 83 obs (0.01%) missing \n",
      "ps_ind_05_cat has 5809 obs (0.98%) missing \n",
      "ps_reg_03 has 107772 obs (18.11%) missing \n",
      "ps_car_01_cat has 107 obs (0.02%) missing \n",
      "ps_car_02_cat has 5 obs (0.00%) missing \n",
      "ps_car_03_cat has 411231 obs (69.09%) missing \n",
      "ps_car_05_cat has 266551 obs (44.78%) missing \n",
      "ps_car_07_cat has 11489 obs (1.93%) missing \n",
      "ps_car_09_cat has 569 obs (0.10%) missing \n",
      "ps_car_11 has 5 obs (0.00%) missing \n",
      "ps_car_12 has 1 obs (0.00%) missing \n",
      "ps_car_14 has 42620 obs (7.16%) missing \n"
     ]
    }
   ],
   "source": [
    "#Let's check if there are any null values, which are replaced by -1\n",
    "missing_obs=[]\n",
    "for i in df.columns:\n",
    "    nulls = df[df[i]==-1][i].count()\n",
    "    if nulls>0:\n",
    "        missing_obs.append(i)\n",
    "        nulls_perc = nulls/df.shape[0]\n",
    "        \n",
    "        print('{} has {} obs ({:.2%}) missing '.format(i,nulls,nulls_perc))"
   ]
  },
  {
   "cell_type": "code",
   "execution_count": 28,
   "id": "ff36ba61",
   "metadata": {},
   "outputs": [
    {
     "data": {
      "text/plain": [
       "(595212, 57)"
      ]
     },
     "execution_count": 28,
     "metadata": {},
     "output_type": "execute_result"
    }
   ],
   "source": [
    "##dropping columns with high missing values\n",
    "df = df.drop(columns=['ps_car_03_cat','ps_car_05_cat'],axis=1)\n",
    "df.shape"
   ]
  },
  {
   "cell_type": "code",
   "execution_count": 29,
   "id": "855805b2",
   "metadata": {},
   "outputs": [],
   "source": [
    "##Imputing with mean or mode \n",
    "from sklearn. impute import SimpleImputer\n",
    "mean_imputation = SimpleImputer(missing_values=-1,strategy='mean')\n",
    "mode_imputation = SimpleImputer(missing_values=-1,strategy='most_frequent')\n",
    "df['ps_reg_03'] = mean_imputation.fit_transform(df[['ps_reg_03']]).ravel()\n",
    "df['ps_car_12'] = mean_imputation.fit_transform(df[['ps_car_12']]).ravel()\n",
    "df['ps_car_14'] = mean_imputation.fit_transform(df[['ps_car_14']]).ravel()\n",
    "df['ps_car_11'] = mean_imputation.fit_transform(df[['ps_car_11']]).ravel()\n",
    "df['ps_ind_02_cat'] = mode_imputation.fit_transform(df[['ps_ind_02_cat']]).ravel()\n",
    "df['ps_ind_04_cat'] = mode_imputation.fit_transform(df[['ps_ind_04_cat']]).ravel()\n",
    "df['ps_ind_05_cat'] = mode_imputation.fit_transform(df[['ps_ind_05_cat']]).ravel()\n",
    "df['ps_car_01_cat'] = mode_imputation.fit_transform(df[['ps_car_01_cat']]).ravel()\n",
    "df['ps_car_02_cat'] = mode_imputation.fit_transform(df[['ps_car_02_cat']]).ravel()\n",
    "df['ps_car_07_cat'] = mode_imputation.fit_transform(df[['ps_car_07_cat']]).ravel()\n",
    "df['ps_car_09_cat'] = mode_imputation.fit_transform(df[['ps_car_09_cat']]).ravel()"
   ]
  },
  {
   "cell_type": "code",
   "execution_count": 30,
   "id": "c621d31c",
   "metadata": {},
   "outputs": [
    {
     "name": "stdout",
     "output_type": "stream",
     "text": [
      "ps_ind_02_cat has 4 unique values\n",
      "ps_ind_04_cat has 2 unique values\n",
      "ps_ind_05_cat has 7 unique values\n",
      "ps_car_01_cat has 12 unique values\n",
      "ps_car_02_cat has 2 unique values\n",
      "ps_car_04_cat has 10 unique values\n",
      "ps_car_06_cat has 18 unique values\n",
      "ps_car_07_cat has 2 unique values\n",
      "ps_car_08_cat has 2 unique values\n",
      "ps_car_09_cat has 5 unique values\n",
      "ps_car_10_cat has 3 unique values\n",
      "ps_car_11_cat has 104 unique values\n"
     ]
    }
   ],
   "source": [
    "##Checking out the cardinality of the categorical variables\n",
    "cols_with_cardinality = ['ps_ind_02_cat','ps_ind_04_cat','ps_ind_05_cat','ps_car_01_cat','ps_car_02_cat','ps_car_04_cat',\n",
    "                         'ps_car_06_cat','ps_car_07_cat','ps_car_08_cat','ps_car_09_cat','ps_car_10_cat','ps_car_11_cat']\n",
    "for i in cols_with_cardinality:\n",
    "    unique_categories = df[i].value_counts().shape[0]\n",
    "    print('{} has {} unique values'.format(i,unique_categories))"
   ]
  },
  {
   "cell_type": "markdown",
   "id": "bc3b14b0",
   "metadata": {},
   "source": [
    "### Exploratory Data Analysis"
   ]
  },
  {
   "cell_type": "code",
   "execution_count": 31,
   "id": "6232a3c2",
   "metadata": {},
   "outputs": [
    {
     "data": {
      "text/plain": [
       "(595212, 57)"
      ]
     },
     "execution_count": 31,
     "metadata": {},
     "output_type": "execute_result"
    }
   ],
   "source": [
    "df.shape"
   ]
  },
  {
   "cell_type": "code",
   "execution_count": 33,
   "id": "1d7301a4",
   "metadata": {},
   "outputs": [
    {
     "data": {
      "image/png": "[encoded data removed]",
      "text/plain": [
       "<Figure size 2000x2000 with 2 Axes>"
      ]
     },
     "metadata": {},
     "output_type": "display_data"
    }
   ],
   "source": [
    "#check correlation of continuous vars with target\n",
    "conti_cols = ['ps_reg_01','ps_reg_02','ps_reg_03','ps_car_12','ps_car_13','ps_car_14','ps_car_15','ps_calc_01','ps_calc_02',\n",
    "     'ps_calc_03','target']\n",
    "\n",
    "#Finding out the correlation between the features\n",
    "conti_cols_corr = df[conti_cols].corr()\n",
    "\n",
    "#Plotting the heatmap of correlation between features\n",
    "plt.figure(figsize=(20,20))\n",
    "sns.heatmap(conti_cols_corr,cbar=True,square=True,fmt='.2f',annot=True,annot_kws={'size':15}, cmap='Greens')\n",
    "plt.show()"
   ]
  },
  {
   "cell_type": "code",
   "execution_count": 34,
   "id": "31320c2f",
   "metadata": {},
   "outputs": [
    {
     "data": {
      "image/png": "[encoded data removed]",
      "text/plain": [
       "<Figure size 2000x2000 with 2 Axes>"
      ]
     },
     "metadata": {},
     "output_type": "display_data"
    }
   ],
   "source": [
    "#Check correlation of ordinal vars with target \n",
    "ord_cols = ['ps_ind_01','ps_ind_03','ps_ind_14','ps_ind_15','ps_car_11','ps_calc_04','ps_calc_05','ps_calc_06','ps_calc_07',\n",
    "     'ps_calc_08','ps_calc_09','ps_calc_10','ps_calc_11','ps_calc_12','ps_calc_13','ps_calc_14','target']\n",
    "#Finding out the correlation between the features \n",
    "ord_cols_corr = df[ord_cols].corr()\n",
    "\n",
    "#Plotting the heatmap of correlation between features\n",
    "plt.figure(figsize=(20,20))\n",
    "sns.heatmap(ord_cols_corr,cbar=True,square=True,fmt='.2f',annot=True,annot_kws={'size':15}, cmap='Greens')\n",
    "plt.show()"
   ]
  },
  {
   "cell_type": "markdown",
   "id": "27239810",
   "metadata": {},
   "source": [
    "## Feature Engineering"
   ]
  },
  {
   "cell_type": "code",
   "execution_count": 41,
   "id": "1d62c746",
   "metadata": {},
   "outputs": [
    {
     "data": {
      "text/html": [
       "<div>\n",
       "<style scoped>\n",
       "    .dataframe tbody tr th:only-of-type {\n",
       "        vertical-align: middle;\n",
       "    }\n",
       "\n",
       "    .dataframe tbody tr th {\n",
       "        vertical-align: top;\n",
       "    }\n",
       "\n",
       "    .dataframe thead th {\n",
       "        text-align: right;\n",
       "    }\n",
       "</style>\n",
       "<table border=\"1\" class=\"dataframe\">\n",
       "  <thead>\n",
       "    <tr style=\"text-align: right;\">\n",
       "      <th></th>\n",
       "      <th>id</th>\n",
       "      <th>target</th>\n",
       "      <th>ps_ind_01</th>\n",
       "      <th>ps_ind_02_cat</th>\n",
       "      <th>ps_ind_03</th>\n",
       "      <th>ps_ind_04_cat</th>\n",
       "      <th>ps_ind_05_cat</th>\n",
       "      <th>ps_ind_06_bin</th>\n",
       "      <th>ps_ind_07_bin</th>\n",
       "      <th>ps_ind_08_bin</th>\n",
       "      <th>...</th>\n",
       "      <th>ps_calc_12</th>\n",
       "      <th>ps_calc_13</th>\n",
       "      <th>ps_calc_14</th>\n",
       "      <th>ps_calc_15_bin</th>\n",
       "      <th>ps_calc_16_bin</th>\n",
       "      <th>ps_calc_17_bin</th>\n",
       "      <th>ps_calc_18_bin</th>\n",
       "      <th>ps_calc_19_bin</th>\n",
       "      <th>ps_calc_20_bin</th>\n",
       "      <th>ps_ind_02_cat_freq</th>\n",
       "    </tr>\n",
       "  </thead>\n",
       "  <tbody>\n",
       "    <tr>\n",
       "      <th>0</th>\n",
       "      <td>7</td>\n",
       "      <td>0</td>\n",
       "      <td>2</td>\n",
       "      <td>2</td>\n",
       "      <td>5</td>\n",
       "      <td>1</td>\n",
       "      <td>0</td>\n",
       "      <td>0</td>\n",
       "      <td>1</td>\n",
       "      <td>0</td>\n",
       "      <td>...</td>\n",
       "      <td>1</td>\n",
       "      <td>5</td>\n",
       "      <td>8</td>\n",
       "      <td>0</td>\n",
       "      <td>1</td>\n",
       "      <td>1</td>\n",
       "      <td>0</td>\n",
       "      <td>0</td>\n",
       "      <td>1</td>\n",
       "      <td>0.207612</td>\n",
       "    </tr>\n",
       "    <tr>\n",
       "      <th>1</th>\n",
       "      <td>9</td>\n",
       "      <td>0</td>\n",
       "      <td>1</td>\n",
       "      <td>1</td>\n",
       "      <td>7</td>\n",
       "      <td>0</td>\n",
       "      <td>0</td>\n",
       "      <td>0</td>\n",
       "      <td>0</td>\n",
       "      <td>1</td>\n",
       "      <td>...</td>\n",
       "      <td>1</td>\n",
       "      <td>1</td>\n",
       "      <td>9</td>\n",
       "      <td>0</td>\n",
       "      <td>1</td>\n",
       "      <td>1</td>\n",
       "      <td>0</td>\n",
       "      <td>1</td>\n",
       "      <td>0</td>\n",
       "      <td>0.725918</td>\n",
       "    </tr>\n",
       "    <tr>\n",
       "      <th>2</th>\n",
       "      <td>13</td>\n",
       "      <td>0</td>\n",
       "      <td>5</td>\n",
       "      <td>4</td>\n",
       "      <td>9</td>\n",
       "      <td>1</td>\n",
       "      <td>0</td>\n",
       "      <td>0</td>\n",
       "      <td>0</td>\n",
       "      <td>1</td>\n",
       "      <td>...</td>\n",
       "      <td>2</td>\n",
       "      <td>7</td>\n",
       "      <td>7</td>\n",
       "      <td>0</td>\n",
       "      <td>1</td>\n",
       "      <td>1</td>\n",
       "      <td>0</td>\n",
       "      <td>1</td>\n",
       "      <td>0</td>\n",
       "      <td>0.019116</td>\n",
       "    </tr>\n",
       "    <tr>\n",
       "      <th>3</th>\n",
       "      <td>16</td>\n",
       "      <td>0</td>\n",
       "      <td>0</td>\n",
       "      <td>1</td>\n",
       "      <td>2</td>\n",
       "      <td>0</td>\n",
       "      <td>0</td>\n",
       "      <td>1</td>\n",
       "      <td>0</td>\n",
       "      <td>0</td>\n",
       "      <td>...</td>\n",
       "      <td>2</td>\n",
       "      <td>4</td>\n",
       "      <td>9</td>\n",
       "      <td>0</td>\n",
       "      <td>0</td>\n",
       "      <td>0</td>\n",
       "      <td>0</td>\n",
       "      <td>0</td>\n",
       "      <td>0</td>\n",
       "      <td>0.725918</td>\n",
       "    </tr>\n",
       "    <tr>\n",
       "      <th>4</th>\n",
       "      <td>17</td>\n",
       "      <td>0</td>\n",
       "      <td>0</td>\n",
       "      <td>2</td>\n",
       "      <td>0</td>\n",
       "      <td>1</td>\n",
       "      <td>0</td>\n",
       "      <td>1</td>\n",
       "      <td>0</td>\n",
       "      <td>0</td>\n",
       "      <td>...</td>\n",
       "      <td>1</td>\n",
       "      <td>1</td>\n",
       "      <td>3</td>\n",
       "      <td>0</td>\n",
       "      <td>0</td>\n",
       "      <td>0</td>\n",
       "      <td>1</td>\n",
       "      <td>1</td>\n",
       "      <td>0</td>\n",
       "      <td>0.207612</td>\n",
       "    </tr>\n",
       "  </tbody>\n",
       "</table>\n",
       "<p>5 rows × 58 columns</p>\n",
       "</div>"
      ],
      "text/plain": [
       "   id  target  ps_ind_01  ps_ind_02_cat  ps_ind_03  ps_ind_04_cat  \\\n",
       "0   7       0          2              2          5              1   \n",
       "1   9       0          1              1          7              0   \n",
       "2  13       0          5              4          9              1   \n",
       "3  16       0          0              1          2              0   \n",
       "4  17       0          0              2          0              1   \n",
       "\n",
       "   ps_ind_05_cat  ps_ind_06_bin  ps_ind_07_bin  ps_ind_08_bin  ...  \\\n",
       "0              0              0              1              0  ...   \n",
       "1              0              0              0              1  ...   \n",
       "2              0              0              0              1  ...   \n",
       "3              0              1              0              0  ...   \n",
       "4              0              1              0              0  ...   \n",
       "\n",
       "   ps_calc_12  ps_calc_13  ps_calc_14  ps_calc_15_bin  ps_calc_16_bin  \\\n",
       "0           1           5           8               0               1   \n",
       "1           1           1           9               0               1   \n",
       "2           2           7           7               0               1   \n",
       "3           2           4           9               0               0   \n",
       "4           1           1           3               0               0   \n",
       "\n",
       "   ps_calc_17_bin  ps_calc_18_bin  ps_calc_19_bin  ps_calc_20_bin  \\\n",
       "0               1               0               0               1   \n",
       "1               1               0               1               0   \n",
       "2               1               0               1               0   \n",
       "3               0               0               0               0   \n",
       "4               0               1               1               0   \n",
       "\n",
       "   ps_ind_02_cat_freq  \n",
       "0            0.207612  \n",
       "1            0.725918  \n",
       "2            0.019116  \n",
       "3            0.725918  \n",
       "4            0.207612  \n",
       "\n",
       "[5 rows x 58 columns]"
      ]
     },
     "execution_count": 41,
     "metadata": {},
     "output_type": "execute_result"
    }
   ],
   "source": [
    "# frequency encoding\n",
    "cat = ['ps_ind_02_cat','ps_ind_04_cat','ps_ind_05_cat','ps_car_01_cat','ps_car_02_cat','ps_car_04_cat','ps_car_06_cat',\n",
    "    'ps_car_07_cat','ps_car_08_cat','ps_car_09_cat','ps_car_10_cat','ps_car_11_cat']\n",
    "\n",
    "df_freq = df\n",
    "freq_enc = df_freq['ps_ind_02_cat'].value_counts()/len(df_freq)\n",
    "df_freq['ps_ind_02_cat_freq'] = df_freq['ps_ind_02_cat'].map(freq_enc) \n",
    "df_freq.head()"
   ]
  },
  {
   "cell_type": "code",
   "execution_count": 42,
   "id": "f5949ce1",
   "metadata": {},
   "outputs": [
    {
     "name": "stdout",
     "output_type": "stream",
     "text": [
      "Before ohe we have 58 features in train\n",
      "After ohe we have 205 features in train\n"
     ]
    }
   ],
   "source": [
    "## One-hot encoding\n",
    "ohe_cols = ['ps_ind_02_cat','ps_ind_04_cat','ps_ind_05_cat','ps_car_01_cat','ps_car_02_cat','ps_car_04_cat','ps_car_06_cat',\n",
    "    'ps_car_07_cat','ps_car_08_cat','ps_car_09_cat','ps_car_10_cat','ps_car_11_cat']\n",
    "\n",
    "print('Before ohe we have {} features in train'.format(df.shape[1]))\n",
    "df_ohe = pd.get_dummies(df,columns=ohe_cols,drop_first=True)\n",
    "print('After ohe we have {} features in train'.format(df_ohe.shape[1]))"
   ]
  },
  {
   "cell_type": "code",
   "execution_count": 43,
   "id": "f7660137",
   "metadata": {},
   "outputs": [
    {
     "name": "stdout",
     "output_type": "stream",
     "text": [
      "Before ohe we have 58 features in train\n",
      "After ohe we have 103 features in train\n"
     ]
    }
   ],
   "source": [
    "#We will drop the column 'ps_car_11_cat' since there are 104 different categorical variables in it\n",
    "ohe_cols_new = ['ps_ind_02_cat','ps_ind_04_cat','ps_ind_05_cat','ps_car_01_cat','ps_car_02_cat','ps_car_04_cat','ps_car_06_cat',\n",
    "    'ps_car_07_cat','ps_car_08_cat','ps_car_09_cat','ps_car_10_cat']\n",
    "print('Before ohe we have {} features in train'.format(df.shape[1]))\n",
    "df = pd.get_dummies(df,columns=ohe_cols_new,drop_first=True)\n",
    "print('After ohe we have {} features in train'.format(df.shape[1]))"
   ]
  },
  {
   "cell_type": "markdown",
   "id": "58536597",
   "metadata": {},
   "source": [
    "### Feature Selection"
   ]
  },
  {
   "cell_type": "code",
   "execution_count": 44,
   "id": "269eab31",
   "metadata": {},
   "outputs": [
    {
     "data": {
      "text/plain": [
       "(595212, 81)"
      ]
     },
     "execution_count": 44,
     "metadata": {},
     "output_type": "execute_result"
    }
   ],
   "source": [
    "# removing irrelevant columns\n",
    "cols_to_drop = ['ps_calc_01','ps_calc_02','ps_calc_03','ps_calc_04','ps_calc_05','ps_calc_06','ps_calc_07','ps_calc_08',\n",
    "                'ps_calc_09','ps_calc_10','ps_calc_11','ps_calc_12','ps_calc_13','ps_calc_14','ps_calc_15_bin',\n",
    "                'ps_calc_16_bin','ps_calc_17_bin','ps_calc_18_bin','ps_calc_19_bin','ps_calc_20_bin','ps_ind_02_cat_freq',\n",
    "                'ps_car_11_cat']\n",
    "df.drop(cols_to_drop,axis=1,inplace=True)\n",
    "df.shape"
   ]
  },
  {
   "cell_type": "code",
   "execution_count": 45,
   "id": "0ad41a2a",
   "metadata": {},
   "outputs": [],
   "source": [
    "#splitting dataset into train and test\n",
    "from sklearn.model_selection import train_test_split\n",
    "y = df.target\n",
    "X = df.drop('target',axis=1)\n",
    "X = X.drop('id',axis=1)\n",
    "\n",
    "X_train,X_test,y_train,y_test = train_test_split(X,y,test_size=0.3,stratify=y,random_state=56)"
   ]
  },
  {
   "cell_type": "code",
   "execution_count": 46,
   "id": "ef077a03",
   "metadata": {},
   "outputs": [
    {
     "name": "stdout",
     "output_type": "stream",
     "text": [
      "('ps_ind_01', 0.05118954580449022)\n",
      "('ps_ind_03', 0.06434186540869143)\n",
      "('ps_ind_06_bin', 0.00675348576224513)\n",
      "('ps_ind_07_bin', 0.007405667748814442)\n",
      "('ps_ind_08_bin', 0.007985190811854172)\n",
      "('ps_ind_09_bin', 0.007518167121777154)\n",
      "('ps_ind_10_bin', 0.00011166870429741566)\n",
      "('ps_ind_11_bin', 0.00035673340754619154)\n",
      "('ps_ind_12_bin', 0.0014406042323936272)\n",
      "('ps_ind_13_bin', 0.0002577819160550023)\n",
      "('ps_ind_14', 0.0018539191112386443)\n",
      "('ps_ind_15', 0.0665386106201095)\n",
      "('ps_ind_16_bin', 0.008279575273272765)\n",
      "('ps_ind_17_bin', 0.0050077284488846225)\n",
      "('ps_ind_18_bin', 0.006894378909969615)\n",
      "('ps_reg_01', 0.049735031981957445)\n",
      "('ps_reg_02', 0.06137910881872508)\n",
      "('ps_reg_03', 0.10704667035922452)\n",
      "('ps_car_11', 0.021399330997115103)\n",
      "('ps_car_12', 0.037456297252167446)\n",
      "('ps_car_13', 0.11613125678404074)\n",
      "('ps_car_14', 0.07710644783067346)\n",
      "('ps_car_15', 0.051173480646896384)\n",
      "('ps_ind_02_cat_2', 0.01287532178549659)\n",
      "('ps_ind_02_cat_3', 0.006262659501310978)\n",
      "('ps_ind_02_cat_4', 0.003526253591329842)\n",
      "('ps_ind_04_cat_1', 0.017552800294262684)\n",
      "('ps_ind_05_cat_1', 0.0033914021758910547)\n",
      "('ps_ind_05_cat_2', 0.0027847023489194307)\n",
      "('ps_ind_05_cat_3', 0.0032588771938365994)\n",
      "('ps_ind_05_cat_4', 0.00594317976880433)\n",
      "('ps_ind_05_cat_5', 0.001082914381014295)\n",
      "('ps_ind_05_cat_6', 0.005485120635186135)\n",
      "('ps_car_01_cat_1', 0.0007083606344665333)\n",
      "('ps_car_01_cat_2', 0.0009681385021018999)\n",
      "('ps_car_01_cat_3', 0.00204126513798422)\n",
      "('ps_car_01_cat_4', 0.005316088615990158)\n",
      "('ps_car_01_cat_5', 0.003673297474398831)\n",
      "('ps_car_01_cat_6', 0.00651447718495108)\n",
      "('ps_car_01_cat_7', 0.007859004310692952)\n",
      "('ps_car_01_cat_8', 0.0040615717127608884)\n",
      "('ps_car_01_cat_9', 0.0045897432409030235)\n",
      "('ps_car_01_cat_10', 0.007230954936733422)\n",
      "('ps_car_01_cat_11', 0.011796576176001244)\n",
      "('ps_car_02_cat_1', 0.007857900005353486)\n",
      "('ps_car_04_cat_1', 0.004167090338391404)\n",
      "('ps_car_04_cat_2', 0.002943645984781363)\n",
      "('ps_car_04_cat_3', 0.0002997185442404772)\n",
      "('ps_car_04_cat_4', 8.163152032497273e-05)\n",
      "('ps_car_04_cat_5', 0.00028271161958428226)\n",
      "('ps_car_04_cat_6', 0.0004786148819787885)\n",
      "('ps_car_04_cat_7', 0.00024185241017932163)\n",
      "('ps_car_04_cat_8', 0.0025905410781661667)\n",
      "('ps_car_04_cat_9', 0.002000918913228847)\n",
      "('ps_car_06_cat_1', 0.010976415757716816)\n",
      "('ps_car_06_cat_2', 0.0006579370205573009)\n",
      "('ps_car_06_cat_3', 0.0025487889919917246)\n",
      "('ps_car_06_cat_4', 0.005089501878085588)\n",
      "('ps_car_06_cat_5', 0.000734349218206678)\n",
      "('ps_car_06_cat_6', 0.004399268106187733)\n",
      "('ps_car_06_cat_7', 0.0036481175293457354)\n",
      "('ps_car_06_cat_8', 0.0004827394429785281)\n",
      "('ps_car_06_cat_9', 0.003519477031699736)\n",
      "('ps_car_06_cat_10', 0.004830786520859088)\n",
      "('ps_car_06_cat_11', 0.010284230643645762)\n",
      "('ps_car_06_cat_12', 0.000863956514430381)\n",
      "('ps_car_06_cat_13', 0.0015265634363169206)\n",
      "('ps_car_06_cat_14', 0.00741213571344587)\n",
      "('ps_car_06_cat_15', 0.003721213927578918)\n",
      "('ps_car_06_cat_16', 0.0013886082002846087)\n",
      "('ps_car_06_cat_17', 0.001654081165308194)\n",
      "('ps_car_07_cat_1', 0.0058931515180100785)\n",
      "('ps_car_08_cat_1', 0.00909016053444899)\n",
      "('ps_car_09_cat_1', 0.0046754814600830285)\n",
      "('ps_car_09_cat_2', 0.015111124841125152)\n",
      "('ps_car_09_cat_3', 0.0027349137667393108)\n",
      "('ps_car_09_cat_4', 0.001521688133343093)\n",
      "('ps_car_10_cat_1', 0.0018878487956489583)\n",
      "('ps_car_10_cat_2', 0.0001175770002561727)\n"
     ]
    }
   ],
   "source": [
    "#run random forest to get feature importance\n",
    "from sklearn.ensemble import RandomForestClassifier\n",
    "rf = RandomForestClassifier(n_estimators=25).fit(X_train,y_train)\n",
    "\n",
    "feats = X_train.columns\n",
    "\n",
    "for feature in zip(feats,rf.feature_importances_):\n",
    "    print(feature)"
   ]
  },
  {
   "cell_type": "code",
   "execution_count": 47,
   "id": "50627702",
   "metadata": {},
   "outputs": [],
   "source": [
    "cols_for_model = ['ps_ind_01','ps_ind_03','ps_ind_15','ps_reg_01','ps_reg_02','ps_reg_03','ps_car_11','ps_car_12','ps_car_13',\n",
    "                  'ps_car_14','ps_car_15','ps_ind_02_cat_2','ps_ind_04_cat_1','ps_car_01_cat_11','ps_car_06_cat_1',\n",
    "                  'ps_car_06_cat_11','ps_car_09_cat_2','target']"
   ]
  },
  {
   "cell_type": "code",
   "execution_count": 48,
   "id": "eece23b0",
   "metadata": {},
   "outputs": [
    {
     "data": {
      "text/plain": [
       "(595212, 18)"
      ]
     },
     "execution_count": 48,
     "metadata": {},
     "output_type": "execute_result"
    }
   ],
   "source": [
    "df2 = df\n",
    "df = df2[cols_for_model]\n",
    "df.shape"
   ]
  },
  {
   "cell_type": "code",
   "execution_count": 49,
   "id": "17691c5b",
   "metadata": {},
   "outputs": [
    {
     "data": {
      "text/plain": [
       "Index(['ps_ind_01', 'ps_ind_03', 'ps_ind_15', 'ps_reg_01', 'ps_reg_02',\n",
       "       'ps_reg_03', 'ps_car_11', 'ps_car_12', 'ps_car_13', 'ps_car_14',\n",
       "       'ps_car_15', 'ps_ind_02_cat_2', 'ps_ind_04_cat_1', 'ps_car_01_cat_11',\n",
       "       'ps_car_06_cat_1', 'ps_car_06_cat_11', 'ps_car_09_cat_2', 'target'],\n",
       "      dtype='object')"
      ]
     },
     "execution_count": 49,
     "metadata": {},
     "output_type": "execute_result"
    }
   ],
   "source": [
    "df.columns"
   ]
  },
  {
   "cell_type": "markdown",
   "id": "0cfad8af",
   "metadata": {},
   "source": [
    "## Handling Imbalance Dataset"
   ]
  },
  {
   "cell_type": "code",
   "execution_count": 51,
   "id": "dafbb3ff",
   "metadata": {},
   "outputs": [
    {
     "name": "stdout",
     "output_type": "stream",
     "text": [
      "0    573518\n",
      "1     21694\n",
      "Name: target, dtype: int64\n"
     ]
    },
    {
     "data": {
      "text/plain": [
       "0    96.355248\n",
       "1     3.644752\n",
       "Name: target, dtype: float64"
      ]
     },
     "execution_count": 51,
     "metadata": {},
     "output_type": "execute_result"
    }
   ],
   "source": [
    "#Let's check the distribution of target variable\n",
    "print(df.target.value_counts())\n",
    "df.target.value_counts(normalize=True)*100"
   ]
  },
  {
   "cell_type": "code",
   "execution_count": 54,
   "id": "40530d33",
   "metadata": {},
   "outputs": [
    {
     "data": {
      "text/plain": [
       "Text(0.5, 1.0, 'Class Distributions \\n (0:No Claim || 1:Claim)')"
      ]
     },
     "execution_count": 54,
     "metadata": {},
     "output_type": "execute_result"
    },
    {
     "data": {
      "image/png": "[encoded data removed]",
      "text/plain": [
       "<Figure size 640x480 with 1 Axes>"
      ]
     },
     "metadata": {},
     "output_type": "display_data"
    }
   ],
   "source": [
    "colors = ['blue','red']\n",
    "sns.countplot(x = 'target',data=df,palette=colors)\n",
    "plt.title('Class Distributions \\n (0:No Claim || 1:Claim)',fontsize=14)"
   ]
  },
  {
   "cell_type": "markdown",
   "id": "502ae11d",
   "metadata": {},
   "source": [
    "### Dealing with the imbalance problem"
   ]
  },
  {
   "cell_type": "code",
   "execution_count": 55,
   "id": "1410043d",
   "metadata": {},
   "outputs": [],
   "source": [
    "#Creating train and test sets\n",
    "from sklearn.model_selection import train_test_split\n",
    "y = df.target\n",
    "X = df.drop('target',axis=1)\n",
    "\n",
    "X_train,X_test,y_train,y_test = train_test_split(X,y,test_size=0.3,stratify=y,random_state=56)"
   ]
  },
  {
   "cell_type": "code",
   "execution_count": 56,
   "id": "7609b639",
   "metadata": {},
   "outputs": [
    {
     "name": "stdout",
     "output_type": "stream",
     "text": [
      "0    401462\n",
      "1     15186\n",
      "Name: target, dtype: int64\n"
     ]
    },
    {
     "data": {
      "text/html": [
       "<div>\n",
       "<style scoped>\n",
       "    .dataframe tbody tr th:only-of-type {\n",
       "        vertical-align: middle;\n",
       "    }\n",
       "\n",
       "    .dataframe tbody tr th {\n",
       "        vertical-align: top;\n",
       "    }\n",
       "\n",
       "    .dataframe thead th {\n",
       "        text-align: right;\n",
       "    }\n",
       "</style>\n",
       "<table border=\"1\" class=\"dataframe\">\n",
       "  <thead>\n",
       "    <tr style=\"text-align: right;\">\n",
       "      <th></th>\n",
       "      <th>index</th>\n",
       "      <th>target</th>\n",
       "    </tr>\n",
       "  </thead>\n",
       "  <tbody>\n",
       "    <tr>\n",
       "      <th>0</th>\n",
       "      <td>0</td>\n",
       "      <td>0.963552</td>\n",
       "    </tr>\n",
       "    <tr>\n",
       "      <th>1</th>\n",
       "      <td>1</td>\n",
       "      <td>0.036448</td>\n",
       "    </tr>\n",
       "  </tbody>\n",
       "</table>\n",
       "</div>"
      ],
      "text/plain": [
       "   index    target\n",
       "0      0  0.963552\n",
       "1      1  0.036448"
      ]
     },
     "execution_count": 56,
     "metadata": {},
     "output_type": "execute_result"
    }
   ],
   "source": [
    "print(y_train.value_counts())\n",
    "y_train.value_counts(normalize=True).reset_index()"
   ]
  },
  {
   "cell_type": "code",
   "execution_count": 57,
   "id": "f50b5dd2",
   "metadata": {},
   "outputs": [
    {
     "name": "stdout",
     "output_type": "stream",
     "text": [
      "0    172056\n",
      "1      6508\n",
      "Name: target, dtype: int64\n"
     ]
    },
    {
     "data": {
      "text/html": [
       "<div>\n",
       "<style scoped>\n",
       "    .dataframe tbody tr th:only-of-type {\n",
       "        vertical-align: middle;\n",
       "    }\n",
       "\n",
       "    .dataframe tbody tr th {\n",
       "        vertical-align: top;\n",
       "    }\n",
       "\n",
       "    .dataframe thead th {\n",
       "        text-align: right;\n",
       "    }\n",
       "</style>\n",
       "<table border=\"1\" class=\"dataframe\">\n",
       "  <thead>\n",
       "    <tr style=\"text-align: right;\">\n",
       "      <th></th>\n",
       "      <th>index</th>\n",
       "      <th>target</th>\n",
       "    </tr>\n",
       "  </thead>\n",
       "  <tbody>\n",
       "    <tr>\n",
       "      <th>0</th>\n",
       "      <td>0</td>\n",
       "      <td>0.963554</td>\n",
       "    </tr>\n",
       "    <tr>\n",
       "      <th>1</th>\n",
       "      <td>1</td>\n",
       "      <td>0.036446</td>\n",
       "    </tr>\n",
       "  </tbody>\n",
       "</table>\n",
       "</div>"
      ],
      "text/plain": [
       "   index    target\n",
       "0      0  0.963554\n",
       "1      1  0.036446"
      ]
     },
     "execution_count": 57,
     "metadata": {},
     "output_type": "execute_result"
    }
   ],
   "source": [
    "print(y_test.value_counts())\n",
    "y_test.value_counts(normalize=True).reset_index()"
   ]
  },
  {
   "cell_type": "code",
   "execution_count": 58,
   "id": "8395ae73",
   "metadata": {},
   "outputs": [],
   "source": [
    "import warnings\n",
    "warnings.filterwarnings('ignore')"
   ]
  },
  {
   "cell_type": "markdown",
   "id": "4bb7bb29",
   "metadata": {},
   "source": [
    "### Model building without handling the class imbalance"
   ]
  },
  {
   "cell_type": "code",
   "execution_count": 59,
   "id": "c1aa511f",
   "metadata": {},
   "outputs": [],
   "source": [
    "#Logistic regression\n",
    "from collections import Counter\n",
    "from sklearn.linear_model import LogisticRegression\n",
    "from sklearn.metrics import precision_score,recall_score,confusion_matrix,classification_report,accuracy_score, f1_score"
   ]
  },
  {
   "cell_type": "code",
   "execution_count": 60,
   "id": "c81989bd",
   "metadata": {},
   "outputs": [
    {
     "data": {
      "text/html": [
       "<style>#sk-container-id-1 {color: black;background-color: white;}#sk-container-id-1 pre{padding: 0;}#sk-container-id-1 div.sk-toggleable {background-color: white;}#sk-container-id-1 label.sk-toggleable__label {cursor: pointer;display: block;width: 100%;margin-bottom: 0;padding: 0.3em;box-sizing: border-box;text-align: center;}#sk-container-id-1 label.sk-toggleable__label-arrow:before {content: \"▸\";float: left;margin-right: 0.25em;color: #696969;}#sk-container-id-1 label.sk-toggleable__label-arrow:hover:before {color: black;}#sk-container-id-1 div.sk-estimator:hover label.sk-toggleable__label-arrow:before {color: black;}#sk-container-id-1 div.sk-toggleable__content {max-height: 0;max-width: 0;overflow: hidden;text-align: left;background-color: #f0f8ff;}#sk-container-id-1 div.sk-toggleable__content pre {margin: 0.2em;color: black;border-radius: 0.25em;background-color: #f0f8ff;}#sk-container-id-1 input.sk-toggleable__control:checked~div.sk-toggleable__content {max-height: 200px;max-width: 100%;overflow: auto;}#sk-container-id-1 input.sk-toggleable__control:checked~label.sk-toggleable__label-arrow:before {content: \"▾\";}#sk-container-id-1 div.sk-estimator input.sk-toggleable__control:checked~label.sk-toggleable__label {background-color: #d4ebff;}#sk-container-id-1 div.sk-label input.sk-toggleable__control:checked~label.sk-toggleable__label {background-color: #d4ebff;}#sk-container-id-1 input.sk-hidden--visually {border: 0;clip: rect(1px 1px 1px 1px);clip: rect(1px, 1px, 1px, 1px);height: 1px;margin: -1px;overflow: hidden;padding: 0;position: absolute;width: 1px;}#sk-container-id-1 div.sk-estimator {font-family: monospace;background-color: #f0f8ff;border: 1px dotted black;border-radius: 0.25em;box-sizing: border-box;margin-bottom: 0.5em;}#sk-container-id-1 div.sk-estimator:hover {background-color: #d4ebff;}#sk-container-id-1 div.sk-parallel-item::after {content: \"\";width: 100%;border-bottom: 1px solid gray;flex-grow: 1;}#sk-container-id-1 div.sk-label:hover label.sk-toggleable__label {background-color: #d4ebff;}#sk-container-id-1 div.sk-serial::before {content: \"\";position: absolute;border-left: 1px solid gray;box-sizing: border-box;top: 0;bottom: 0;left: 50%;z-index: 0;}#sk-container-id-1 div.sk-serial {display: flex;flex-direction: column;align-items: center;background-color: white;padding-right: 0.2em;padding-left: 0.2em;position: relative;}#sk-container-id-1 div.sk-item {position: relative;z-index: 1;}#sk-container-id-1 div.sk-parallel {display: flex;align-items: stretch;justify-content: center;background-color: white;position: relative;}#sk-container-id-1 div.sk-item::before, #sk-container-id-1 div.sk-parallel-item::before {content: \"\";position: absolute;border-left: 1px solid gray;box-sizing: border-box;top: 0;bottom: 0;left: 50%;z-index: -1;}#sk-container-id-1 div.sk-parallel-item {display: flex;flex-direction: column;z-index: 1;position: relative;background-color: white;}#sk-container-id-1 div.sk-parallel-item:first-child::after {align-self: flex-end;width: 50%;}#sk-container-id-1 div.sk-parallel-item:last-child::after {align-self: flex-start;width: 50%;}#sk-container-id-1 div.sk-parallel-item:only-child::after {width: 0;}#sk-container-id-1 div.sk-dashed-wrapped {border: 1px dashed gray;margin: 0 0.4em 0.5em 0.4em;box-sizing: border-box;padding-bottom: 0.4em;background-color: white;}#sk-container-id-1 div.sk-label label {font-family: monospace;font-weight: bold;display: inline-block;line-height: 1.2em;}#sk-container-id-1 div.sk-label-container {text-align: center;}#sk-container-id-1 div.sk-container {/* jupyter's `normalize.less` sets `[hidden] { display: none; }` but bootstrap.min.css set `[hidden] { display: none !important; }` so we also need the `!important` here to be able to override the default hidden behavior on the sphinx rendered scikit-learn.org. See: https://github.com/scikit-learn/scikit-learn/issues/21755 */display: inline-block !important;position: relative;}#sk-container-id-1 div.sk-text-repr-fallback {display: none;}</style><div id=\"sk-container-id-1\" class=\"sk-top-container\"><div class=\"sk-text-repr-fallback\"><pre>LogisticRegression()</pre><b>In a Jupyter environment, please rerun this cell to show the HTML representation or trust the notebook. <br />On GitHub, the HTML representation is unable to render, please try loading this page with nbviewer.org.</b></div><div class=\"sk-container\" hidden><div class=\"sk-item\"><div class=\"sk-estimator sk-toggleable\"><input class=\"sk-toggleable__control sk-hidden--visually\" id=\"sk-estimator-id-1\" type=\"checkbox\" checked><label for=\"sk-estimator-id-1\" class=\"sk-toggleable__label sk-toggleable__label-arrow\">LogisticRegression</label><div class=\"sk-toggleable__content\"><pre>LogisticRegression()</pre></div></div></div></div></div>"
      ],
      "text/plain": [
       "LogisticRegression()"
      ]
     },
     "execution_count": 60,
     "metadata": {},
     "output_type": "execute_result"
    }
   ],
   "source": [
    "lreg = LogisticRegression()\n",
    "lreg.fit(X_train,y_train)"
   ]
  },
  {
   "cell_type": "code",
   "execution_count": 61,
   "id": "caf4d894",
   "metadata": {},
   "outputs": [],
   "source": [
    "y_pred = lreg.predict(X_test)"
   ]
  },
  {
   "cell_type": "code",
   "execution_count": 62,
   "id": "07d78121",
   "metadata": {},
   "outputs": [
    {
     "name": "stdout",
     "output_type": "stream",
     "text": [
      "Accuracy:  0.9635536838332475\n",
      "F1 score:  0.0\n",
      "Recall:  0.0\n",
      "Precision:  0.0\n",
      "\n",
      " clasification report:\n",
      "               precision    recall  f1-score   support\n",
      "\n",
      "           0       0.96      1.00      0.98    172056\n",
      "           1       0.00      0.00      0.00      6508\n",
      "\n",
      "    accuracy                           0.96    178564\n",
      "   macro avg       0.48      0.50      0.49    178564\n",
      "weighted avg       0.93      0.96      0.95    178564\n",
      "\n",
      "\n",
      " confussion matrix:\n",
      " [[172056      0]\n",
      " [  6508      0]]\n"
     ]
    }
   ],
   "source": [
    "print ('Accuracy: ', accuracy_score(y_test, y_pred))\n",
    "print ('F1 score: ', f1_score(y_test, y_pred))\n",
    "print ('Recall: ', recall_score(y_test, y_pred))\n",
    "print ('Precision: ', precision_score(y_test, y_pred))\n",
    "print ('\\n clasification report:\\n', classification_report(y_test,y_pred))\n",
    "print ('\\n confussion matrix:\\n',confusion_matrix(y_test, y_pred))"
   ]
  },
  {
   "cell_type": "code",
   "execution_count": 64,
   "id": "b8d97213",
   "metadata": {},
   "outputs": [
    {
     "name": "stdout",
     "output_type": "stream",
     "text": [
      "Requirement already satisfied: imbalanced-learn in c:\\users\\prince\\anaconda3\\lib\\site-packages (0.10.1)\n",
      "Requirement already satisfied: scikit-learn>=1.0.2 in c:\\users\\prince\\anaconda3\\lib\\site-packages (from imbalanced-learn) (1.2.1)\n",
      "Requirement already satisfied: threadpoolctl>=2.0.0 in c:\\users\\prince\\anaconda3\\lib\\site-packages (from imbalanced-learn) (2.2.0)\n",
      "Requirement already satisfied: numpy>=1.17.3 in c:\\users\\prince\\anaconda3\\lib\\site-packages (from imbalanced-learn) (1.23.5)\n",
      "Requirement already satisfied: scipy>=1.3.2 in c:\\users\\prince\\anaconda3\\lib\\site-packages (from imbalanced-learn) (1.10.0)\n",
      "Requirement already satisfied: joblib>=1.1.1 in c:\\users\\prince\\anaconda3\\lib\\site-packages (from imbalanced-learn) (1.1.1)\n"
     ]
    }
   ],
   "source": [
    "#installing library\n",
    "!pip install imbalanced-learn"
   ]
  },
  {
   "cell_type": "markdown",
   "id": "aa0e6b71",
   "metadata": {},
   "source": [
    "### Random Undersampling"
   ]
  },
  {
   "cell_type": "code",
   "execution_count": 65,
   "id": "a5cbbb36",
   "metadata": {},
   "outputs": [
    {
     "data": {
      "text/plain": [
       "30372"
      ]
     },
     "execution_count": 65,
     "metadata": {},
     "output_type": "execute_result"
    }
   ],
   "source": [
    "#Random undersampling\n",
    "from imblearn.under_sampling import RandomUnderSampler\n",
    "under_sample = RandomUnderSampler(random_state=5)\n",
    "X_resampled_us,y_resampled_us = under_sample.fit_resample(X_train,y_train)\n",
    "len(X_resampled_us)"
   ]
  },
  {
   "cell_type": "code",
   "execution_count": 68,
   "id": "84faf9f2",
   "metadata": {},
   "outputs": [
    {
     "data": {
      "text/plain": [
       "30372"
      ]
     },
     "execution_count": 68,
     "metadata": {},
     "output_type": "execute_result"
    }
   ],
   "source": [
    "len(y_resampled_us)"
   ]
  },
  {
   "cell_type": "code",
   "execution_count": 70,
   "id": "011e3165",
   "metadata": {},
   "outputs": [
    {
     "data": {
      "text/plain": [
       "0    15186\n",
       "1    15186\n",
       "Name: target, dtype: int64"
      ]
     },
     "execution_count": 70,
     "metadata": {},
     "output_type": "execute_result"
    }
   ],
   "source": [
    "y_resampled_us.value_counts()"
   ]
  },
  {
   "cell_type": "code",
   "execution_count": 74,
   "id": "a45207fb",
   "metadata": {},
   "outputs": [
    {
     "name": "stdout",
     "output_type": "stream",
     "text": [
      "[(0, 15186), (1, 15186)]\n"
     ]
    }
   ],
   "source": [
    "print(sorted(Counter(y_resampled_us).items()))"
   ]
  },
  {
   "cell_type": "code",
   "execution_count": 75,
   "id": "6ccda64a",
   "metadata": {},
   "outputs": [],
   "source": [
    "lreg_us = LogisticRegression()\n",
    "lreg_us.fit(X_resampled_us,y_resampled_us)\n",
    "y_pred_us = lreg_us.predict(X_test)"
   ]
  },
  {
   "cell_type": "code",
   "execution_count": 76,
   "id": "6c97cfc8",
   "metadata": {},
   "outputs": [
    {
     "name": "stdout",
     "output_type": "stream",
     "text": [
      "Accuracy:  0.5961055979928765\n",
      "F1 score:  0.08856424319781624\n",
      "Recall:  0.5384142593730793\n",
      "Precision:  0.04825050605196844\n",
      "\n",
      " clasification report:\n",
      "               precision    recall  f1-score   support\n",
      "\n",
      "           0       0.97      0.60      0.74    172056\n",
      "           1       0.05      0.54      0.09      6508\n",
      "\n",
      "    accuracy                           0.60    178564\n",
      "   macro avg       0.51      0.57      0.41    178564\n",
      "weighted avg       0.94      0.60      0.72    178564\n",
      "\n",
      "\n",
      " confussion matrix:\n",
      " [[102939  69117]\n",
      " [  3004   3504]]\n"
     ]
    }
   ],
   "source": [
    "print ('Accuracy: ', accuracy_score(y_test, y_pred_us))\n",
    "print ('F1 score: ', f1_score(y_test, y_pred_us))\n",
    "print ('Recall: ', recall_score(y_test, y_pred_us))\n",
    "print ('Precision: ', precision_score(y_test, y_pred_us))\n",
    "print ('\\n clasification report:\\n', classification_report(y_test,y_pred_us))\n",
    "print ('\\n confussion matrix:\\n',confusion_matrix(y_test, y_pred_us))"
   ]
  },
  {
   "cell_type": "markdown",
   "id": "d22ba4d5",
   "metadata": {},
   "source": [
    "### TomekLinks"
   ]
  },
  {
   "cell_type": "code",
   "execution_count": 78,
   "id": "88ae3900",
   "metadata": {},
   "outputs": [
    {
     "data": {
      "text/plain": [
       "409168"
      ]
     },
     "execution_count": 78,
     "metadata": {},
     "output_type": "execute_result"
    }
   ],
   "source": [
    "# TomekLinks\n",
    "from imblearn.under_sampling import TomekLinks\n",
    "tomek_sample = TomekLinks(sampling_strategy='majority')\n",
    "X_resampled_tomek,y_resampled_tomek = tomek_sample.fit_resample(X_train,y_train)\n",
    "len(X_resampled_tomek)"
   ]
  },
  {
   "cell_type": "code",
   "execution_count": 79,
   "id": "41fb5da0",
   "metadata": {},
   "outputs": [
    {
     "name": "stdout",
     "output_type": "stream",
     "text": [
      "[(0, 393982), (1, 15186)]\n"
     ]
    }
   ],
   "source": [
    "print(sorted(Counter(y_resampled_tomek).items()))"
   ]
  },
  {
   "cell_type": "code",
   "execution_count": 81,
   "id": "569bacf1",
   "metadata": {},
   "outputs": [],
   "source": [
    "lreg_tomek =LogisticRegression()\n",
    "lreg_tomek.fit(X_resampled_tomek,y_resampled_tomek)\n",
    "\n",
    "y_pred_tomek = lreg_tomek.predict(X_test)"
   ]
  },
  {
   "cell_type": "code",
   "execution_count": 82,
   "id": "4fbe963b",
   "metadata": {},
   "outputs": [
    {
     "name": "stdout",
     "output_type": "stream",
     "text": [
      "Accuracy:  0.9635536838332475\n",
      "F1 score:  0.0\n",
      "Recall:  0.0\n",
      "Precision:  0.0\n",
      "\n",
      " clasification report:\n",
      "               precision    recall  f1-score   support\n",
      "\n",
      "           0       0.96      1.00      0.98    172056\n",
      "           1       0.00      0.00      0.00      6508\n",
      "\n",
      "    accuracy                           0.96    178564\n",
      "   macro avg       0.48      0.50      0.49    178564\n",
      "weighted avg       0.93      0.96      0.95    178564\n",
      "\n",
      "\n",
      " confussion matrix:\n",
      " [[172056      0]\n",
      " [  6508      0]]\n"
     ]
    }
   ],
   "source": [
    "print ('Accuracy: ', accuracy_score(y_test, y_pred_tomek))\n",
    "print ('F1 score: ', f1_score(y_test, y_pred_tomek))\n",
    "print ('Recall: ', recall_score(y_test, y_pred_tomek))\n",
    "print ('Precision: ', precision_score(y_test, y_pred_tomek))\n",
    "print ('\\n clasification report:\\n', classification_report(y_test,y_pred_tomek))\n",
    "print ('\\n confussion matrix:\\n',confusion_matrix(y_test, y_pred_tomek))"
   ]
  },
  {
   "cell_type": "markdown",
   "id": "83c72e7c",
   "metadata": {},
   "source": [
    "### Random Oversampling"
   ]
  },
  {
   "cell_type": "code",
   "execution_count": 84,
   "id": "7e902e44",
   "metadata": {},
   "outputs": [
    {
     "data": {
      "text/plain": [
       "802924"
      ]
     },
     "execution_count": 84,
     "metadata": {},
     "output_type": "execute_result"
    }
   ],
   "source": [
    "#Random Oversampling\n",
    "from imblearn.over_sampling import RandomOverSampler\n",
    "over_sample = RandomOverSampler(sampling_strategy=1)\n",
    "X_resampled_os,y_resampled_os = over_sample.fit_resample(X_train,y_train)\n",
    "len(X_resampled_os)"
   ]
  },
  {
   "cell_type": "code",
   "execution_count": 85,
   "id": "0538d71d",
   "metadata": {},
   "outputs": [
    {
     "name": "stdout",
     "output_type": "stream",
     "text": [
      "Counter({0: 401462, 1: 401462})\n"
     ]
    }
   ],
   "source": [
    "print(Counter(y_resampled_os))"
   ]
  },
  {
   "cell_type": "code",
   "execution_count": 88,
   "id": "68dc72fc",
   "metadata": {},
   "outputs": [
    {
     "data": {
      "text/plain": [
       "Counter({0: 401462, 1: 15186})"
      ]
     },
     "execution_count": 88,
     "metadata": {},
     "output_type": "execute_result"
    }
   ],
   "source": [
    "Counter(y_train)"
   ]
  },
  {
   "cell_type": "code",
   "execution_count": 86,
   "id": "57149a56",
   "metadata": {},
   "outputs": [],
   "source": [
    "lreg_os = LogisticRegression()\n",
    "lreg_os.fit(X_resampled_os,y_resampled_os)\n",
    "\n",
    "y_pred_os = lreg_os.predict(X_test)"
   ]
  },
  {
   "cell_type": "code",
   "execution_count": 87,
   "id": "877e3d7b",
   "metadata": {},
   "outputs": [
    {
     "name": "stdout",
     "output_type": "stream",
     "text": [
      "Accuracy:  0.6042987388275353\n",
      "F1 score:  0.08891868891353123\n",
      "Recall:  0.5298094652735095\n",
      "Precision:  0.04853193705486586\n",
      "\n",
      " clasification report:\n",
      "               precision    recall  f1-score   support\n",
      "\n",
      "           0       0.97      0.61      0.75    172056\n",
      "           1       0.05      0.53      0.09      6508\n",
      "\n",
      "    accuracy                           0.60    178564\n",
      "   macro avg       0.51      0.57      0.42    178564\n",
      "weighted avg       0.94      0.60      0.72    178564\n",
      "\n",
      "\n",
      " confussion matrix:\n",
      " [[104458  67598]\n",
      " [  3060   3448]]\n"
     ]
    }
   ],
   "source": [
    "print ('Accuracy: ', accuracy_score(y_test, y_pred_os))\n",
    "print ('F1 score: ', f1_score(y_test, y_pred_os))\n",
    "print ('Recall: ', recall_score(y_test, y_pred_os))\n",
    "print ('Precision: ', precision_score(y_test, y_pred_os))\n",
    "print ('\\n clasification report:\\n', classification_report(y_test,y_pred_os))\n",
    "print ('\\n confussion matrix:\\n',confusion_matrix(y_test, y_pred_os))"
   ]
  },
  {
   "cell_type": "markdown",
   "id": "8d760f30",
   "metadata": {},
   "source": [
    "### SMOTE"
   ]
  },
  {
   "cell_type": "code",
   "execution_count": 89,
   "id": "5a5d7a1e",
   "metadata": {},
   "outputs": [
    {
     "data": {
      "text/plain": [
       "802924"
      ]
     },
     "execution_count": 89,
     "metadata": {},
     "output_type": "execute_result"
    }
   ],
   "source": [
    "#SMOTE\n",
    "from imblearn.over_sampling import SMOTE\n",
    "smt = SMOTE(random_state=45,k_neighbors=5)\n",
    "X_resampled_smt, y_resampled_smt = smt.fit_resample(X_train,y_train)\n",
    "len(X_resampled_smt)"
   ]
  },
  {
   "cell_type": "code",
   "execution_count": 90,
   "id": "842f0ec7",
   "metadata": {},
   "outputs": [
    {
     "data": {
      "text/plain": [
       "Counter({0: 401462, 1: 401462})"
      ]
     },
     "execution_count": 90,
     "metadata": {},
     "output_type": "execute_result"
    }
   ],
   "source": [
    "Counter(y_resampled_smt)"
   ]
  },
  {
   "cell_type": "code",
   "execution_count": 92,
   "id": "1ad6d5dd",
   "metadata": {},
   "outputs": [],
   "source": [
    "lreg_smt = LogisticRegression()\n",
    "lreg_smt.fit(X_resampled_smt,y_resampled_smt)\n",
    "y_pred_smt = lreg_smt.predict(X_test)"
   ]
  },
  {
   "cell_type": "code",
   "execution_count": 93,
   "id": "f42c7f07",
   "metadata": {},
   "outputs": [
    {
     "name": "stdout",
     "output_type": "stream",
     "text": [
      "Accuracy:  0.5717781859725365\n",
      "F1 score:  0.07801290166998252\n",
      "Recall:  0.497080516287646\n",
      "Precision:  0.04232797309851231\n",
      "\n",
      " clasification report:\n",
      "               precision    recall  f1-score   support\n",
      "\n",
      "           0       0.97      0.57      0.72    172056\n",
      "           1       0.04      0.50      0.08      6508\n",
      "\n",
      "    accuracy                           0.57    178564\n",
      "   macro avg       0.51      0.54      0.40    178564\n",
      "weighted avg       0.93      0.57      0.70    178564\n",
      "\n",
      "\n",
      " confussion matrix:\n",
      " [[98864 73192]\n",
      " [ 3273  3235]]\n"
     ]
    }
   ],
   "source": [
    "print ('Accuracy: ', accuracy_score(y_test, y_pred_smt))\n",
    "print ('F1 score: ', f1_score(y_test, y_pred_smt))\n",
    "print ('Recall: ', recall_score(y_test, y_pred_smt))\n",
    "print ('Precision: ', precision_score(y_test, y_pred_smt))\n",
    "print ('\\n clasification report:\\n', classification_report(y_test,y_pred_smt))\n",
    "print ('\\n confussion matrix:\\n',confusion_matrix(y_test, y_pred_smt))"
   ]
  },
  {
   "cell_type": "markdown",
   "id": "ef1569f8",
   "metadata": {},
   "source": [
    "### ADASYN"
   ]
  },
  {
   "cell_type": "code",
   "execution_count": 94,
   "id": "79d49c30",
   "metadata": {},
   "outputs": [
    {
     "data": {
      "text/plain": [
       "808204"
      ]
     },
     "execution_count": 94,
     "metadata": {},
     "output_type": "execute_result"
    }
   ],
   "source": [
    "#ADASYN\n",
    "from imblearn.over_sampling import ADASYN\n",
    "ada = ADASYN(random_state=42,n_neighbors=5)\n",
    "X_resampled_ada,y_resampled_ada = ada.fit_resample(X_train,y_train)\n",
    "len(X_resampled_ada)"
   ]
  },
  {
   "cell_type": "code",
   "execution_count": 95,
   "id": "fa4fb124",
   "metadata": {},
   "outputs": [
    {
     "data": {
      "text/plain": [
       "Counter({0: 401462, 1: 406742})"
      ]
     },
     "execution_count": 95,
     "metadata": {},
     "output_type": "execute_result"
    }
   ],
   "source": [
    "Counter(y_resampled_ada)"
   ]
  },
  {
   "cell_type": "code",
   "execution_count": 96,
   "id": "3d1541a1",
   "metadata": {},
   "outputs": [],
   "source": [
    "lreg_ada = LogisticRegression()\n",
    "lreg_ada.fit(X_resampled_ada,y_resampled_ada)\n",
    "y_pred_ada = lreg_smt.predict(X_test)"
   ]
  },
  {
   "cell_type": "code",
   "execution_count": 97,
   "id": "128c2c39",
   "metadata": {},
   "outputs": [
    {
     "name": "stdout",
     "output_type": "stream",
     "text": [
      "Accuracy:  0.5717781859725365\n",
      "F1 score:  0.07801290166998252\n",
      "Recall:  0.497080516287646\n",
      "Precision:  0.04232797309851231\n",
      "\n",
      " clasification report:\n",
      "               precision    recall  f1-score   support\n",
      "\n",
      "           0       0.97      0.57      0.72    172056\n",
      "           1       0.04      0.50      0.08      6508\n",
      "\n",
      "    accuracy                           0.57    178564\n",
      "   macro avg       0.51      0.54      0.40    178564\n",
      "weighted avg       0.93      0.57      0.70    178564\n",
      "\n",
      "\n",
      " confussion matrix:\n",
      " [[98864 73192]\n",
      " [ 3273  3235]]\n"
     ]
    }
   ],
   "source": [
    "print ('Accuracy: ', accuracy_score(y_test, y_pred_ada))\n",
    "print ('F1 score: ', f1_score(y_test, y_pred_ada))\n",
    "print ('Recall: ', recall_score(y_test, y_pred_ada))\n",
    "print ('Precision: ', precision_score(y_test, y_pred_ada))\n",
    "print ('\\n clasification report:\\n', classification_report(y_test,y_pred_ada))\n",
    "print ('\\n confussion matrix:\\n',confusion_matrix(y_test, y_pred_ada))"
   ]
  },
  {
   "cell_type": "markdown",
   "id": "c6abc233",
   "metadata": {},
   "source": [
    "### SMOTE+TOMEK"
   ]
  },
  {
   "cell_type": "code",
   "execution_count": 98,
   "id": "b10771b2",
   "metadata": {},
   "outputs": [
    {
     "data": {
      "text/plain": [
       "802528"
      ]
     },
     "execution_count": 98,
     "metadata": {},
     "output_type": "execute_result"
    }
   ],
   "source": [
    "#SMOTE+TOMEK\n",
    "from imblearn.combine import SMOTETomek\n",
    "smt_tmk = SMOTETomek(random_state=45)\n",
    "X_resampled_smt_tmk,y_resampled_smt_tmk = smt_tmk.fit_resample(X_train,y_train)\n",
    "len(X_resampled_smt_tmk)"
   ]
  },
  {
   "cell_type": "code",
   "execution_count": 99,
   "id": "b0040026",
   "metadata": {},
   "outputs": [],
   "source": [
    "lreg_smt_tmk = LogisticRegression()\n",
    "lreg_smt_tmk.fit(X_resampled_smt_tmk,y_resampled_smt_tmk)\n",
    "y_pred_smt_tmk = lreg_smt_tmk.predict(X_test)"
   ]
  },
  {
   "cell_type": "code",
   "execution_count": 100,
   "id": "ab85e4e3",
   "metadata": {},
   "outputs": [
    {
     "name": "stdout",
     "output_type": "stream",
     "text": [
      "Accuracy:  0.5732342465446563\n",
      "F1 score:  0.07776742384819256\n",
      "Recall:  0.493700061462815\n",
      "Precision:  0.0422080054648398\n",
      "\n",
      " clasification report:\n",
      "               precision    recall  f1-score   support\n",
      "\n",
      "           0       0.97      0.58      0.72    172056\n",
      "           1       0.04      0.49      0.08      6508\n",
      "\n",
      "    accuracy                           0.57    178564\n",
      "   macro avg       0.51      0.53      0.40    178564\n",
      "weighted avg       0.93      0.57      0.70    178564\n",
      "\n",
      "\n",
      " confussion matrix:\n",
      " [[99146 72910]\n",
      " [ 3295  3213]]\n"
     ]
    }
   ],
   "source": [
    "print ('Accuracy: ', accuracy_score(y_test, y_pred_smt_tmk))\n",
    "print ('F1 score: ', f1_score(y_test, y_pred_smt_tmk))\n",
    "print ('Recall: ', recall_score(y_test, y_pred_smt_tmk))\n",
    "print ('Precision: ', precision_score(y_test, y_pred_smt_tmk))\n",
    "print ('\\n clasification report:\\n', classification_report(y_test,y_pred_smt_tmk))\n",
    "print ('\\n confussion matrix:\\n',confusion_matrix(y_test, y_pred_smt_tmk))"
   ]
  },
  {
   "cell_type": "markdown",
   "id": "10b7d5fd",
   "metadata": {},
   "source": [
    "## Decision Trees"
   ]
  },
  {
   "cell_type": "code",
   "execution_count": 101,
   "id": "5fd38d9a",
   "metadata": {},
   "outputs": [],
   "source": [
    "#Decision Tree-Base\n",
    "from sklearn.tree import DecisionTreeClassifier\n",
    "dtc = DecisionTreeClassifier(random_state=0)\n",
    "dtc.fit(X_train,y_train)\n",
    "\n",
    "y_pred_dtc = dtc.predict(X_test)"
   ]
  },
  {
   "cell_type": "code",
   "execution_count": 102,
   "id": "af5381ac",
   "metadata": {},
   "outputs": [
    {
     "name": "stdout",
     "output_type": "stream",
     "text": [
      "Accuracy:  0.9187798212405636\n",
      "F1 score:  0.050664397460234344\n",
      "Recall:  0.05946527350952674\n",
      "Precision:  0.04413274033527198\n",
      "\n",
      " clasification report:\n",
      "               precision    recall  f1-score   support\n",
      "\n",
      "           0       0.96      0.95      0.96    172056\n",
      "           1       0.04      0.06      0.05      6508\n",
      "\n",
      "    accuracy                           0.92    178564\n",
      "   macro avg       0.50      0.51      0.50    178564\n",
      "weighted avg       0.93      0.92      0.92    178564\n",
      "\n",
      "\n",
      " confussion matrix:\n",
      " [[163674   8382]\n",
      " [  6121    387]]\n"
     ]
    }
   ],
   "source": [
    "print ('Accuracy: ', accuracy_score(y_test, y_pred_dtc))\n",
    "print ('F1 score: ', f1_score(y_test, y_pred_dtc))\n",
    "print ('Recall: ', recall_score(y_test, y_pred_dtc))\n",
    "print ('Precision: ', precision_score(y_test, y_pred_dtc))\n",
    "print ('\\n clasification report:\\n', classification_report(y_test,y_pred_dtc))\n",
    "print ('\\n confussion matrix:\\n',confusion_matrix(y_test, y_pred_dtc))"
   ]
  },
  {
   "cell_type": "code",
   "execution_count": 103,
   "id": "e13eae3d",
   "metadata": {},
   "outputs": [],
   "source": [
    "#Decision Trees- Random UnderSampling\n",
    "dtc_us = DecisionTreeClassifier(random_state=0)\n",
    "dtc_us.fit(X_resampled_us,y_resampled_us)\n",
    "\n",
    "y_pred_dtc_us = \n",
    "dtc_us.predict(X_test)"
   ]
  },
  {
   "cell_type": "code",
   "execution_count": 104,
   "id": "2affbd9d",
   "metadata": {},
   "outputs": [
    {
     "name": "stdout",
     "output_type": "stream",
     "text": [
      "Accuracy:  0.5219641137071303\n",
      "F1 score:  0.07217391304347825\n",
      "Recall:  0.510141364474493\n",
      "Precision:  0.03883404295138727\n",
      "\n",
      " clasification report:\n",
      "               precision    recall  f1-score   support\n",
      "\n",
      "           0       0.97      0.52      0.68    172056\n",
      "           1       0.04      0.51      0.07      6508\n",
      "\n",
      "    accuracy                           0.52    178564\n",
      "   macro avg       0.50      0.52      0.38    178564\n",
      "weighted avg       0.93      0.52      0.66    178564\n",
      "\n",
      "\n",
      " confussion matrix:\n",
      " [[89884 82172]\n",
      " [ 3188  3320]]\n"
     ]
    }
   ],
   "source": [
    "print ('Accuracy: ', accuracy_score(y_test, y_pred_dtc_us))\n",
    "print ('F1 score: ', f1_score(y_test, y_pred_dtc_us))\n",
    "print ('Recall: ', recall_score(y_test, y_pred_dtc_us))\n",
    "print ('Precision: ', precision_score(y_test, y_pred_dtc_us))\n",
    "print ('\\n clasification report:\\n', classification_report(y_test,y_pred_dtc_us))\n",
    "print ('\\n confussion matrix:\\n',confusion_matrix(y_test, y_pred_dtc_us))"
   ]
  },
  {
   "cell_type": "code",
   "execution_count": 105,
   "id": "3e5ea785",
   "metadata": {},
   "outputs": [],
   "source": [
    "## Decision Trees- Tomek Links\n",
    "dtc_tomek = DecisionTreeClassifier(random_state=0)\n",
    "dtc_tomek.fit(X_resampled_tomek,y_resampled_tomek)\n",
    "\n",
    "y_pred_dtc_tomek = dtc_tomek.predict(X_test)"
   ]
  },
  {
   "cell_type": "code",
   "execution_count": 106,
   "id": "69f8631b",
   "metadata": {},
   "outputs": [
    {
     "name": "stdout",
     "output_type": "stream",
     "text": [
      "Accuracy:  0.9181469949149884\n",
      "F1 score:  0.04918032786885245\n",
      "Recall:  0.05808236017209588\n",
      "Precision:  0.042644404332129966\n",
      "\n",
      " clasification report:\n",
      "               precision    recall  f1-score   support\n",
      "\n",
      "           0       0.96      0.95      0.96    172056\n",
      "           1       0.04      0.06      0.05      6508\n",
      "\n",
      "    accuracy                           0.92    178564\n",
      "   macro avg       0.50      0.50      0.50    178564\n",
      "weighted avg       0.93      0.92      0.92    178564\n",
      "\n",
      "\n",
      " confussion matrix:\n",
      " [[163570   8486]\n",
      " [  6130    378]]\n"
     ]
    }
   ],
   "source": [
    "print ('Accuracy: ', accuracy_score(y_test, y_pred_dtc_tomek))\n",
    "print ('F1 score: ', f1_score(y_test, y_pred_dtc_tomek))\n",
    "print ('Recall: ', recall_score(y_test, y_pred_dtc_tomek))\n",
    "print ('Precision: ', precision_score(y_test, y_pred_dtc_tomek))\n",
    "print ('\\n clasification report:\\n', classification_report(y_test,y_pred_dtc_tomek))\n",
    "print ('\\n confussion matrix:\\n',confusion_matrix(y_test, y_pred_dtc_tomek))"
   ]
  },
  {
   "cell_type": "code",
   "execution_count": 107,
   "id": "c7eb2442",
   "metadata": {},
   "outputs": [],
   "source": [
    "#Decision Trees - Random Oversampling\n",
    "dtc_os = DecisionTreeClassifier(random_state=0)\n",
    "dtc_os.fit(X_resampled_os,y_resampled_os)\n",
    "\n",
    "y_pred_dtc_os = dtc_os.predict(X_test)"
   ]
  },
  {
   "cell_type": "code",
   "execution_count": 108,
   "id": "db1dc123",
   "metadata": {},
   "outputs": [
    {
     "name": "stdout",
     "output_type": "stream",
     "text": [
      "Accuracy:  0.9296330727358258\n",
      "F1 score:  0.04412324077596045\n",
      "Recall:  0.044560540872771975\n",
      "Precision:  0.043694440259153235\n",
      "\n",
      " clasification report:\n",
      "               precision    recall  f1-score   support\n",
      "\n",
      "           0       0.96      0.96      0.96    172056\n",
      "           1       0.04      0.04      0.04      6508\n",
      "\n",
      "    accuracy                           0.93    178564\n",
      "   macro avg       0.50      0.50      0.50    178564\n",
      "weighted avg       0.93      0.93      0.93    178564\n",
      "\n",
      "\n",
      " confussion matrix:\n",
      " [[165709   6347]\n",
      " [  6218    290]]\n"
     ]
    }
   ],
   "source": [
    "print ('Accuracy: ', accuracy_score(y_test, y_pred_dtc_os))\n",
    "print ('F1 score: ', f1_score(y_test, y_pred_dtc_os))\n",
    "print ('Recall: ', recall_score(y_test, y_pred_dtc_os))\n",
    "print ('Precision: ', precision_score(y_test, y_pred_dtc_os))\n",
    "print ('\\n clasification report:\\n', classification_report(y_test,y_pred_dtc_os))\n",
    "print ('\\n confussion matrix:\\n',confusion_matrix(y_test, y_pred_dtc_os))"
   ]
  },
  {
   "cell_type": "code",
   "execution_count": 111,
   "id": "a119233d",
   "metadata": {},
   "outputs": [],
   "source": [
    "## Decision Trees- SMOTE\n",
    "dtc_smt = DecisionTreeClassifier(random_state=0)\n",
    "dtc_smt.fit(X_resampled_smt,y_resampled_smt)\n",
    "\n",
    "y_pred_dtc_smt = dtc_smt.predict(X_test)"
   ]
  },
  {
   "cell_type": "code",
   "execution_count": 112,
   "id": "6efd8efd",
   "metadata": {},
   "outputs": [
    {
     "name": "stdout",
     "output_type": "stream",
     "text": [
      "Accuracy:  0.9144396406890527\n",
      "F1 score:  0.053876641070101566\n",
      "Recall:  0.06684081130915796\n",
      "Precision:  0.04512448132780083\n",
      "\n",
      " clasification report:\n",
      "               precision    recall  f1-score   support\n",
      "\n",
      "           0       0.96      0.95      0.96    172056\n",
      "           1       0.05      0.07      0.05      6508\n",
      "\n",
      "    accuracy                           0.91    178564\n",
      "   macro avg       0.50      0.51      0.50    178564\n",
      "weighted avg       0.93      0.91      0.92    178564\n",
      "\n",
      "\n",
      " confussion matrix:\n",
      " [[162851   9205]\n",
      " [  6073    435]]\n"
     ]
    }
   ],
   "source": [
    "print ('Accuracy: ', accuracy_score(y_test, y_pred_dtc_smt))\n",
    "print ('F1 score: ', f1_score(y_test, y_pred_dtc_smt))\n",
    "print ('Recall: ', recall_score(y_test, y_pred_dtc_smt))\n",
    "print ('Precision: ', precision_score(y_test, y_pred_dtc_smt))\n",
    "print ('\\n clasification report:\\n', classification_report(y_test,y_pred_dtc_smt))\n",
    "print ('\\n confussion matrix:\\n',confusion_matrix(y_test, y_pred_dtc_smt))"
   ]
  },
  {
   "cell_type": "code",
   "execution_count": 113,
   "id": "792847cb",
   "metadata": {},
   "outputs": [],
   "source": [
    "## Decision Trees -ADASYN\n",
    "dtc_ada = DecisionTreeClassifier(random_state=0)\n",
    "dtc_ada.fit(X_resampled_ada,y_resampled_ada)\n",
    "\n",
    "y_dtc_pred_ada = dtc_ada.predict(X_test)"
   ]
  },
  {
   "cell_type": "code",
   "execution_count": 114,
   "id": "61554d0a",
   "metadata": {},
   "outputs": [
    {
     "name": "stdout",
     "output_type": "stream",
     "text": [
      "Accuracy:  0.9147532537353554\n",
      "F1 score:  0.051943198804185346\n",
      "Recall:  0.06407498463429626\n",
      "Precision:  0.043674067867616254\n",
      "\n",
      " clasification report:\n",
      "               precision    recall  f1-score   support\n",
      "\n",
      "           0       0.96      0.95      0.96    172056\n",
      "           1       0.04      0.06      0.05      6508\n",
      "\n",
      "    accuracy                           0.91    178564\n",
      "   macro avg       0.50      0.51      0.50    178564\n",
      "weighted avg       0.93      0.91      0.92    178564\n",
      "\n",
      "\n",
      " confussion matrix:\n",
      " [[162925   9131]\n",
      " [  6091    417]]\n"
     ]
    }
   ],
   "source": [
    "print ('Accuracy: ', accuracy_score(y_test, y_dtc_pred_ada))\n",
    "print ('F1 score: ', f1_score(y_test, y_dtc_pred_ada))\n",
    "print ('Recall: ', recall_score(y_test, y_dtc_pred_ada))\n",
    "print ('Precision: ', precision_score(y_test, y_dtc_pred_ada))\n",
    "print ('\\n clasification report:\\n', classification_report(y_test,y_dtc_pred_ada))\n",
    "print ('\\n confussion matrix:\\n',confusion_matrix(y_test, y_dtc_pred_ada))"
   ]
  },
  {
   "cell_type": "code",
   "execution_count": 115,
   "id": "b78ec443",
   "metadata": {},
   "outputs": [],
   "source": [
    "## Smote+Tomek\n",
    "dtc_smt_tmk = DecisionTreeClassifier(random_state=0)\n",
    "dtc_smt_tmk.fit(X_resampled_smt_tmk,y_resampled_smt_tmk)\n",
    "\n",
    "y_dtc_pred_smt_tmk = dtc_smt_tmk.predict(X_test)"
   ]
  },
  {
   "cell_type": "code",
   "execution_count": 116,
   "id": "896670a2",
   "metadata": {},
   "outputs": [
    {
     "name": "stdout",
     "output_type": "stream",
     "text": [
      "Accuracy:  0.9147756546672342\n",
      "F1 score:  0.05348923995521831\n",
      "Recall:  0.06607252612169637\n",
      "Precision:  0.04493207941483804\n",
      "\n",
      " clasification report:\n",
      "               precision    recall  f1-score   support\n",
      "\n",
      "           0       0.96      0.95      0.96    172056\n",
      "           1       0.04      0.07      0.05      6508\n",
      "\n",
      "    accuracy                           0.91    178564\n",
      "   macro avg       0.50      0.51      0.50    178564\n",
      "weighted avg       0.93      0.91      0.92    178564\n",
      "\n",
      "\n",
      " confussion matrix:\n",
      " [[162916   9140]\n",
      " [  6078    430]]\n"
     ]
    }
   ],
   "source": [
    "print ('Accuracy: ', accuracy_score(y_test, y_dtc_pred_smt_tmk))\n",
    "print ('F1 score: ', f1_score(y_test, y_dtc_pred_smt_tmk))\n",
    "print ('Recall: ', recall_score(y_test, y_dtc_pred_smt_tmk))\n",
    "print ('Precision: ', precision_score(y_test, y_dtc_pred_smt_tmk))\n",
    "print ('\\n clasification report:\\n', classification_report(y_test,y_dtc_pred_smt_tmk))\n",
    "print ('\\n confussion matrix:\\n',confusion_matrix(y_test, y_dtc_pred_smt_tmk))"
   ]
  },
  {
   "cell_type": "markdown",
   "id": "50236dea",
   "metadata": {},
   "source": [
    "## Random Forests"
   ]
  },
  {
   "cell_type": "code",
   "execution_count": 117,
   "id": "c933cb27",
   "metadata": {},
   "outputs": [],
   "source": [
    "#Random Forest-Base\n",
    "from sklearn.ensemble import RandomForestClassifier\n",
    "rf = RandomForestClassifier()\n",
    "rf.fit(X_train,y_train)\n",
    "\n",
    "y_pred_rf = rf.predict(X_test)"
   ]
  },
  {
   "cell_type": "code",
   "execution_count": 118,
   "id": "c734508e",
   "metadata": {},
   "outputs": [
    {
     "name": "stdout",
     "output_type": "stream",
     "text": [
      "Accuracy:  0.9635424833673081\n",
      "F1 score:  0.0003071253071253071\n",
      "Recall:  0.00015365703749231714\n",
      "Precision:  0.25\n",
      "\n",
      " clasification report:\n",
      "               precision    recall  f1-score   support\n",
      "\n",
      "           0       0.96      1.00      0.98    172056\n",
      "           1       0.25      0.00      0.00      6508\n",
      "\n",
      "    accuracy                           0.96    178564\n",
      "   macro avg       0.61      0.50      0.49    178564\n",
      "weighted avg       0.94      0.96      0.95    178564\n",
      "\n",
      "\n",
      " confussion matrix:\n",
      " [[172053      3]\n",
      " [  6507      1]]\n"
     ]
    }
   ],
   "source": [
    "print ('Accuracy: ', accuracy_score(y_test, y_pred_rf))\n",
    "print ('F1 score: ', f1_score(y_test, y_pred_rf))\n",
    "print ('Recall: ', recall_score(y_test, y_pred_rf))\n",
    "print ('Precision: ', precision_score(y_test, y_pred_rf))\n",
    "print ('\\n clasification report:\\n', classification_report(y_test,y_pred_rf))\n",
    "print ('\\n confussion matrix:\\n',confusion_matrix(y_test, y_pred_rf))"
   ]
  },
  {
   "cell_type": "code",
   "execution_count": 119,
   "id": "10d57ce0",
   "metadata": {},
   "outputs": [],
   "source": [
    "#Random Forest- Random Undersampling\n",
    "rf_us = RandomForestClassifier()\n",
    "rf_us.fit(X_resampled_us,y_resampled_us)\n",
    "\n",
    "y_pred_rf_us = rf_us.predict(X_test)"
   ]
  },
  {
   "cell_type": "code",
   "execution_count": 120,
   "id": "77f30665",
   "metadata": {},
   "outputs": [
    {
     "name": "stdout",
     "output_type": "stream",
     "text": [
      "Accuracy:  0.5803465424161645\n",
      "F1 score:  0.08556750094573322\n",
      "Recall:  0.5387215734480639\n",
      "Precision:  0.04647463513567253\n",
      "\n",
      " clasification report:\n",
      "               precision    recall  f1-score   support\n",
      "\n",
      "           0       0.97      0.58      0.73    172056\n",
      "           1       0.05      0.54      0.09      6508\n",
      "\n",
      "    accuracy                           0.58    178564\n",
      "   macro avg       0.51      0.56      0.41    178564\n",
      "weighted avg       0.94      0.58      0.70    178564\n",
      "\n",
      "\n",
      " confussion matrix:\n",
      " [[100123  71933]\n",
      " [  3002   3506]]\n"
     ]
    }
   ],
   "source": [
    "print ('Accuracy: ', accuracy_score(y_test, y_pred_rf_us))\n",
    "print ('F1 score: ', f1_score(y_test, y_pred_rf_us))\n",
    "print ('Recall: ', recall_score(y_test, y_pred_rf_us))\n",
    "print ('Precision: ', precision_score(y_test, y_pred_rf_us))\n",
    "print ('\\n clasification report:\\n', classification_report(y_test,y_pred_rf_us))\n",
    "print ('\\n confussion matrix:\\n',confusion_matrix(y_test, y_pred_rf_us))"
   ]
  },
  {
   "cell_type": "code",
   "execution_count": 121,
   "id": "d1335406",
   "metadata": {},
   "outputs": [],
   "source": [
    "##Random Forest-SMOTE\n",
    "rf_smt = RandomForestClassifier()\n",
    "rf_smt.fit(X_resampled_smt,y_resampled_smt)\n",
    "\n",
    "y_pred_rf_smt = rf_smt.predict(X_test)"
   ]
  },
  {
   "cell_type": "code",
   "execution_count": 122,
   "id": "694d89b7",
   "metadata": {},
   "outputs": [
    {
     "name": "stdout",
     "output_type": "stream",
     "text": [
      "Accuracy:  0.9630944647297327\n",
      "F1 score:  0.0024220405691795337\n",
      "Recall:  0.001229256299938537\n",
      "Precision:  0.08163265306122448\n",
      "\n",
      " clasification report:\n",
      "               precision    recall  f1-score   support\n",
      "\n",
      "           0       0.96      1.00      0.98    172056\n",
      "           1       0.08      0.00      0.00      6508\n",
      "\n",
      "    accuracy                           0.96    178564\n",
      "   macro avg       0.52      0.50      0.49    178564\n",
      "weighted avg       0.93      0.96      0.95    178564\n",
      "\n",
      "\n",
      " confussion matrix:\n",
      " [[171966     90]\n",
      " [  6500      8]]\n"
     ]
    }
   ],
   "source": [
    "print ('Accuracy: ', accuracy_score(y_test, y_pred_rf_smt))\n",
    "print ('F1 score: ', f1_score(y_test, y_pred_rf_smt))\n",
    "print ('Recall: ', recall_score(y_test, y_pred_rf_smt))\n",
    "print ('Precision: ', precision_score(y_test, y_pred_rf_smt))\n",
    "print ('\\n clasification report:\\n', classification_report(y_test,y_pred_rf_smt))\n",
    "print ('\\n confussion matrix:\\n',confusion_matrix(y_test, y_pred_rf_smt))"
   ]
  },
  {
   "cell_type": "code",
   "execution_count": 123,
   "id": "245182e2",
   "metadata": {},
   "outputs": [],
   "source": [
    "##Random Forest-Oversampling\n",
    "rf_os = RandomForestClassifier()\n",
    "rf_os.fit(X_resampled_os,y_resampled_os)\n",
    "\n",
    "y_pred_rf_os = rf_os.predict(X_test)"
   ]
  },
  {
   "cell_type": "code",
   "execution_count": 124,
   "id": "433c25cf",
   "metadata": {},
   "outputs": [
    {
     "name": "stdout",
     "output_type": "stream",
     "text": [
      "Accuracy:  0.9634136780090051\n",
      "F1 score:  0.0006119014838610983\n",
      "Recall:  0.00030731407498463427\n",
      "Precision:  0.06896551724137931\n",
      "\n",
      " clasification report:\n",
      "               precision    recall  f1-score   support\n",
      "\n",
      "           0       0.96      1.00      0.98    172056\n",
      "           1       0.07      0.00      0.00      6508\n",
      "\n",
      "    accuracy                           0.96    178564\n",
      "   macro avg       0.52      0.50      0.49    178564\n",
      "weighted avg       0.93      0.96      0.95    178564\n",
      "\n",
      "\n",
      " confussion matrix:\n",
      " [[172029     27]\n",
      " [  6506      2]]\n"
     ]
    }
   ],
   "source": [
    "print ('Accuracy: ', accuracy_score(y_test, y_pred_rf_os))\n",
    "print ('F1 score: ', f1_score(y_test, y_pred_rf_os))\n",
    "print ('Recall: ', recall_score(y_test, y_pred_rf_os))\n",
    "print ('Precision: ', precision_score(y_test, y_pred_rf_os))\n",
    "print ('\\n clasification report:\\n', classification_report(y_test,y_pred_rf_os))\n",
    "print ('\\n confussion matrix:\\n',confusion_matrix(y_test, y_pred_rf_os))"
   ]
  },
  {
   "cell_type": "code",
   "execution_count": 125,
   "id": "a6497b75",
   "metadata": {},
   "outputs": [],
   "source": [
    "#Random Forest-ADASYN\n",
    "rf_ada = RandomForestClassifier()\n",
    "rf_ada.fit(X_resampled_ada,y_resampled_ada)\n",
    "\n",
    "y_pred_rf_ada = rf_ada.predict(X_test)"
   ]
  },
  {
   "cell_type": "code",
   "execution_count": 126,
   "id": "58b63ee5",
   "metadata": {},
   "outputs": [
    {
     "name": "stdout",
     "output_type": "stream",
     "text": [
      "Accuracy:  0.9631392665934903\n",
      "F1 score:  0.0018198362147406732\n",
      "Recall:  0.0009219422249539029\n",
      "Precision:  0.06976744186046512\n",
      "\n",
      " clasification report:\n",
      "               precision    recall  f1-score   support\n",
      "\n",
      "           0       0.96      1.00      0.98    172056\n",
      "           1       0.07      0.00      0.00      6508\n",
      "\n",
      "    accuracy                           0.96    178564\n",
      "   macro avg       0.52      0.50      0.49    178564\n",
      "weighted avg       0.93      0.96      0.95    178564\n",
      "\n",
      "\n",
      " confussion matrix:\n",
      " [[171976     80]\n",
      " [  6502      6]]\n"
     ]
    }
   ],
   "source": [
    "print ('Accuracy: ', accuracy_score(y_test, y_pred_rf_ada))\n",
    "print ('F1 score: ', f1_score(y_test, y_pred_rf_ada))\n",
    "print ('Recall: ', recall_score(y_test, y_pred_rf_ada))\n",
    "print ('Precision: ', precision_score(y_test, y_pred_rf_ada))\n",
    "print ('\\n clasification report:\\n', classification_report(y_test,y_pred_rf_ada))\n",
    "print ('\\n confussion matrix:\\n',confusion_matrix(y_test, y_pred_rf_ada))"
   ]
  },
  {
   "cell_type": "code",
   "execution_count": 127,
   "id": "83b16362",
   "metadata": {},
   "outputs": [],
   "source": [
    "#Random Forest- Smote+Tomek\n",
    "rf_smt_tmk = RandomForestClassifier()\n",
    "rf_smt_tmk.fit(X_resampled_smt_tmk,y_resampled_smt_tmk)\n",
    "\n",
    "y_pred_rf_smt_tmk = rf_smt_tmk.predict(X_test)"
   ]
  },
  {
   "cell_type": "code",
   "execution_count": 128,
   "id": "13c16664",
   "metadata": {},
   "outputs": [
    {
     "name": "stdout",
     "output_type": "stream",
     "text": [
      "Accuracy:  0.963161667525369\n",
      "F1 score:  0.0027289266221952697\n",
      "Recall:  0.0013829133374308542\n",
      "Precision:  0.10227272727272728\n",
      "\n",
      " clasification report:\n",
      "               precision    recall  f1-score   support\n",
      "\n",
      "           0       0.96      1.00      0.98    172056\n",
      "           1       0.10      0.00      0.00      6508\n",
      "\n",
      "    accuracy                           0.96    178564\n",
      "   macro avg       0.53      0.50      0.49    178564\n",
      "weighted avg       0.93      0.96      0.95    178564\n",
      "\n",
      "\n",
      " confussion matrix:\n",
      " [[171977     79]\n",
      " [  6499      9]]\n"
     ]
    }
   ],
   "source": [
    "print ('Accuracy: ', accuracy_score(y_test, y_pred_rf_smt_tmk))\n",
    "print ('F1 score: ', f1_score(y_test, y_pred_rf_smt_tmk))\n",
    "print ('Recall: ', recall_score(y_test, y_pred_rf_smt_tmk))\n",
    "print ('Precision: ', precision_score(y_test, y_pred_rf_smt_tmk))\n",
    "print ('\\n clasification report:\\n', classification_report(y_test,y_pred_rf_smt_tmk))\n",
    "print ('\\n confussion matrix:\\n',confusion_matrix(y_test, y_pred_rf_smt_tmk))"
   ]
  },
  {
   "cell_type": "code",
   "execution_count": null,
   "id": "0dda30f5",
   "metadata": {},
   "outputs": [],
   "source": []
  }
 ],
 "metadata": {
  "kernelspec": {
   "display_name": "Python 3 (ipykernel)",
   "language": "python",
   "name": "python3"
  },
  "language_info": {
   "codemirror_mode": {
    "name": "ipython",
    "version": 3
   },
   "file_extension": ".py",
   "mimetype": "text/x-python",
   "name": "python",
   "nbconvert_exporter": "python",
   "pygments_lexer": "ipython3",
   "version": "3.10.9"
  }
 },
 "nbformat": 4,
 "nbformat_minor": 5
}
